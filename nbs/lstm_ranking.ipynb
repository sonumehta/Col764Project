{
 "cells": [
  {
   "cell_type": "markdown",
   "id": "222381b6",
   "metadata": {},
   "source": [
    "# Ranking with LSTM"
   ]
  },
  {
   "cell_type": "code",
   "execution_count": 1,
   "id": "5e6b4fda",
   "metadata": {},
   "outputs": [],
   "source": [
    "from fastai.text.all import *\n",
    "from IPython.display import display, HTML\n",
    "\n",
    "import spacy\n",
    "from spacy.symbols import ORTH"
   ]
  },
  {
   "cell_type": "code",
   "execution_count": 2,
   "id": "27f08a14",
   "metadata": {},
   "outputs": [],
   "source": [
    "from ranking_utils import *"
   ]
  },
  {
   "cell_type": "code",
   "execution_count": 3,
   "id": "409803d3",
   "metadata": {},
   "outputs": [],
   "source": [
    "path = Path('./data/')"
   ]
  },
  {
   "cell_type": "code",
   "execution_count": 4,
   "id": "92b35c4c",
   "metadata": {},
   "outputs": [
    {
     "name": "stdout",
     "output_type": "stream",
     "text": [
      "Using GPU #1: Tesla V100-PCIE-32GB\n"
     ]
    }
   ],
   "source": [
    "torch.cuda.set_device(1)\n",
    "print(f'Using GPU #{torch.cuda.current_device()}: {torch.cuda.get_device_name()}')"
   ]
  },
  {
   "cell_type": "markdown",
   "id": "bb2f2ec9",
   "metadata": {},
   "source": [
    "### Reading dataset"
   ]
  },
  {
   "cell_type": "code",
   "execution_count": 5,
   "id": "83dc98d2",
   "metadata": {},
   "outputs": [],
   "source": [
    "df = pd.read_csv(path/'cord-19_2020-07-16_ta_text.csv', index_col=0)"
   ]
  },
  {
   "cell_type": "code",
   "execution_count": 6,
   "id": "f1949563",
   "metadata": {},
   "outputs": [
    {
     "data": {
      "text/html": [
       "<div>\n",
       "<style scoped>\n",
       "    .dataframe tbody tr th:only-of-type {\n",
       "        vertical-align: middle;\n",
       "    }\n",
       "\n",
       "    .dataframe tbody tr th {\n",
       "        vertical-align: top;\n",
       "    }\n",
       "\n",
       "    .dataframe thead th {\n",
       "        text-align: right;\n",
       "    }\n",
       "</style>\n",
       "<table border=\"1\" class=\"dataframe\">\n",
       "  <thead>\n",
       "    <tr style=\"text-align: right;\">\n",
       "      <th></th>\n",
       "      <th>corduid</th>\n",
       "      <th>text</th>\n",
       "    </tr>\n",
       "  </thead>\n",
       "  <tbody>\n",
       "    <tr>\n",
       "      <th>0</th>\n",
       "      <td>ug7v899j</td>\n",
       "      <td>Clinical features of culture-proven Mycoplasma pneumoniae infections at King Abdulaziz University Hospital, Jeddah, Saudi Arabia OBJECTIVE: This retrospective chart review describes the epidemiology and clinical features of 40 patients with culture-proven Mycoplasma pneumoniae infections at King Abdulaziz University Hospital, Jeddah, Saudi Arabia. METHODS: Patients with positive M. pneumoniae cultures from respiratory specimens from January 1997 through December 1998 were identified through the Microbiology records. Charts of patients were reviewed. RESULTS: 40 patients were identified, 33...</td>\n",
       "    </tr>\n",
       "    <tr>\n",
       "      <th>1</th>\n",
       "      <td>02tnwd4m</td>\n",
       "      <td>Nitric oxide: a pro-inflammatory mediator in lung disease? Inflammatory diseases of the respiratory tract are commonly associated with elevated production of nitric oxide (NO•) and increased indices of NO• -dependent oxidative stress. Although NO• is known to have anti-microbial, anti-inflammatory and anti-oxidant properties, various lines of evidence support the contribution of NO• to lung injury in several disease models. On the basis of biochemical evidence, it is often presumed that such NO• -dependent oxidations are due to the formation of the oxidant peroxynitrite, although alternati...</td>\n",
       "    </tr>\n",
       "    <tr>\n",
       "      <th>2</th>\n",
       "      <td>ejv2xln0</td>\n",
       "      <td>Surfactant protein-D and pulmonary host defense Surfactant protein-D (SP-D) participates in the innate response to inhaled microorganisms and organic antigens, and contributes to immune and inflammatory regulation within the lung. SP-D is synthesized and secreted by alveolar and bronchiolar epithelial cells, but is also expressed by epithelial cells lining various exocrine ducts and the mucosa of the gastrointestinal and genitourinary tracts. SP-D, a collagenous calcium-dependent lectin (or collectin), binds to surface glycoconjugates expressed by a wide variety of microorganisms, and to o...</td>\n",
       "    </tr>\n",
       "    <tr>\n",
       "      <th>3</th>\n",
       "      <td>2b73a28n</td>\n",
       "      <td>Role of endothelin-1 in lung disease Endothelin-1 (ET-1) is a 21 amino acid peptide with diverse biological activity that has been implicated in numerous diseases. ET-1 is a potent mitogen regulator of smooth muscle tone, and inflammatory mediator that may play a key role in diseases of the airways, pulmonary circulation, and inflammatory lung diseases, both acute and chronic. This review will focus on the biology of ET-1 and its role in lung disease.</td>\n",
       "    </tr>\n",
       "    <tr>\n",
       "      <th>4</th>\n",
       "      <td>9785vg6d</td>\n",
       "      <td>Gene expression in epithelial cells in response to pneumovirus infection Respiratory syncytial virus (RSV) and pneumonia virus of mice (PVM) are viruses of the family Paramyxoviridae, subfamily pneumovirus, which cause clinically important respiratory infections in humans and rodents, respectively. The respiratory epithelial target cells respond to viral infection with specific alterations in gene expression, including production of chemoattractant cytokines, adhesion molecules, elements that are related to the apoptosis response, and others that remain incompletely understood. Here we rev...</td>\n",
       "    </tr>\n",
       "  </tbody>\n",
       "</table>\n",
       "</div>"
      ],
      "text/plain": [
       "    corduid  \\\n",
       "0  ug7v899j   \n",
       "1  02tnwd4m   \n",
       "2  ejv2xln0   \n",
       "3  2b73a28n   \n",
       "4  9785vg6d   \n",
       "\n",
       "                                                                                                                                                                                                                                                                                                                                                                                                                                                                                                                                                                                                                      text  \n",
       "0  Clinical features of culture-proven Mycoplasma pneumoniae infections at King Abdulaziz University Hospital, Jeddah, Saudi Arabia OBJECTIVE: This retrospective chart review describes the epidemiology and clinical features of 40 patients with culture-proven Mycoplasma pneumoniae infections at King Abdulaziz University Hospital, Jeddah, Saudi Arabia. METHODS: Patients with positive M. pneumoniae cultures from respiratory specimens from January 1997 through December 1998 were identified through the Microbiology records. Charts of patients were reviewed. RESULTS: 40 patients were identified, 33...  \n",
       "1  Nitric oxide: a pro-inflammatory mediator in lung disease? Inflammatory diseases of the respiratory tract are commonly associated with elevated production of nitric oxide (NO•) and increased indices of NO• -dependent oxidative stress. Although NO• is known to have anti-microbial, anti-inflammatory and anti-oxidant properties, various lines of evidence support the contribution of NO• to lung injury in several disease models. On the basis of biochemical evidence, it is often presumed that such NO• -dependent oxidations are due to the formation of the oxidant peroxynitrite, although alternati...  \n",
       "2  Surfactant protein-D and pulmonary host defense Surfactant protein-D (SP-D) participates in the innate response to inhaled microorganisms and organic antigens, and contributes to immune and inflammatory regulation within the lung. SP-D is synthesized and secreted by alveolar and bronchiolar epithelial cells, but is also expressed by epithelial cells lining various exocrine ducts and the mucosa of the gastrointestinal and genitourinary tracts. SP-D, a collagenous calcium-dependent lectin (or collectin), binds to surface glycoconjugates expressed by a wide variety of microorganisms, and to o...  \n",
       "3                                                                                                                                                  Role of endothelin-1 in lung disease Endothelin-1 (ET-1) is a 21 amino acid peptide with diverse biological activity that has been implicated in numerous diseases. ET-1 is a potent mitogen regulator of smooth muscle tone, and inflammatory mediator that may play a key role in diseases of the airways, pulmonary circulation, and inflammatory lung diseases, both acute and chronic. This review will focus on the biology of ET-1 and its role in lung disease.  \n",
       "4  Gene expression in epithelial cells in response to pneumovirus infection Respiratory syncytial virus (RSV) and pneumonia virus of mice (PVM) are viruses of the family Paramyxoviridae, subfamily pneumovirus, which cause clinically important respiratory infections in humans and rodents, respectively. The respiratory epithelial target cells respond to viral infection with specific alterations in gene expression, including production of chemoattractant cytokines, adhesion molecules, elements that are related to the apoptosis response, and others that remain incompletely understood. Here we rev...  "
      ]
     },
     "execution_count": 6,
     "metadata": {},
     "output_type": "execute_result"
    }
   ],
   "source": [
    "df.head()"
   ]
  },
  {
   "cell_type": "markdown",
   "id": "093651c6",
   "metadata": {},
   "source": [
    "### Word Tokenization"
   ]
  },
  {
   "cell_type": "code",
   "execution_count": 22,
   "id": "a3686c09",
   "metadata": {},
   "outputs": [],
   "source": [
    "spacy = WordTokenizer()"
   ]
  },
  {
   "cell_type": "code",
   "execution_count": 23,
   "id": "5217d523",
   "metadata": {},
   "outputs": [
    {
     "name": "stdout",
     "output_type": "stream",
     "text": [
      "(#391) ['Clinical','features','of','culture','-','proven','Mycoplasma','pneumoniae','infections','at','King','Abdulaziz','University','Hospital',',','Jeddah',',','Saudi','Arabia','OBJECTIVE',':','This','retrospective','chart','review','describes','the','epidemiology','and','clinical'...]\n"
     ]
    }
   ],
   "source": [
    "txt = df['text'][0]\n",
    "toks = first(spacy([txt]))\n",
    "print(coll_repr(toks, 30))"
   ]
  },
  {
   "cell_type": "code",
   "execution_count": 24,
   "id": "f737793f",
   "metadata": {},
   "outputs": [
    {
     "name": "stdout",
     "output_type": "stream",
     "text": [
      "(#434) ['xxbos','xxmaj','clinical','features','of','culture','-','proven','xxmaj','mycoplasma','pneumoniae','infections','at','xxmaj','king','xxmaj','abdulaziz','xxmaj','university','xxmaj','hospital',',','xxmaj','jeddah',',','xxmaj','saudi','xxmaj','arabia','xxup'...]\n"
     ]
    }
   ],
   "source": [
    "tkn = Tokenizer(spacy)\n",
    "toks = tkn(txt)\n",
    "print(coll_repr(toks, 30))"
   ]
  },
  {
   "cell_type": "markdown",
   "id": "fec3fc7b",
   "metadata": {
    "heading_collapsed": true
   },
   "source": [
    "### Numericalization"
   ]
  },
  {
   "cell_type": "code",
   "execution_count": 25,
   "id": "a3d28b4b",
   "metadata": {
    "hidden": true
   },
   "outputs": [],
   "source": [
    "txts = L(df['text'][i] for i in range(10))\n",
    "toks10 = txts.map(tkn)"
   ]
  },
  {
   "cell_type": "code",
   "execution_count": 26,
   "id": "ca5e5b91",
   "metadata": {
    "hidden": true
   },
   "outputs": [
    {
     "data": {
      "text/plain": [
       "\"(#144) ['xxunk','xxpad','xxbos','xxeos','xxfld','xxrep','xxwrep','xxup','xxmaj',','...]\""
      ]
     },
     "execution_count": 26,
     "metadata": {},
     "output_type": "execute_result"
    }
   ],
   "source": [
    "num = Numericalize()\n",
    "num.setup(toks10)\n",
    "coll_repr(num.vocab)"
   ]
  },
  {
   "cell_type": "code",
   "execution_count": 27,
   "id": "98753c18",
   "metadata": {
    "hidden": true
   },
   "outputs": [
    {
     "data": {
      "text/plain": [
       "TensorText([ 2,  8, 61,  0, 11,  0, 14,  0,  8,  0, 62, 50, 76,  8,  0,  8,  0,  8,\n",
       "         0,  8])"
      ]
     },
     "execution_count": 27,
     "metadata": {},
     "output_type": "execute_result"
    }
   ],
   "source": [
    "nums = num(toks)[:20]; nums"
   ]
  },
  {
   "cell_type": "code",
   "execution_count": 28,
   "id": "d06c83ef",
   "metadata": {
    "hidden": true
   },
   "outputs": [
    {
     "data": {
      "text/plain": [
       "'xxbos xxmaj clinical xxunk of xxunk - xxunk xxmaj xxunk pneumoniae infections at xxmaj xxunk xxmaj xxunk xxmaj xxunk xxmaj'"
      ]
     },
     "execution_count": 28,
     "metadata": {},
     "output_type": "execute_result"
    }
   ],
   "source": [
    "' '.join([num.vocab[n] for n in nums])"
   ]
  },
  {
   "cell_type": "markdown",
   "id": "19e49830",
   "metadata": {},
   "source": [
    "### DataBlock"
   ]
  },
  {
   "cell_type": "code",
   "execution_count": 15,
   "id": "80b74c76",
   "metadata": {},
   "outputs": [],
   "source": [
    "class SpacyTokenizer25Mil():\n",
    "    \"Spacy tokenizer for `lang`\"\n",
    "    def __init__(self, lang='en', special_toks=None, buf_sz=5000):\n",
    "        self.special_toks = ifnone(special_toks, defaults.text_spec_tok)\n",
    "        nlp = spacy.blank(lang, disable=[\"parser\", \"tagger\", \"ner\"])\n",
    "        nlp.max_length = 25_000_000\n",
    "        for w in self.special_toks: nlp.tokenizer.add_special_case(w, [{ORTH: w}])\n",
    "        self.pipe,self.buf_sz = nlp.pipe,buf_sz\n",
    "\n",
    "    def __call__(self, items):\n",
    "        return (L(doc).attrgot('text') for doc in self.pipe(map(str,items), batch_size=self.buf_sz))\n",
    "\n",
    "tkn = Tokenizer(SpacyTokenizer25Mil())"
   ]
  },
  {
   "cell_type": "code",
   "execution_count": 10,
   "id": "4911f079",
   "metadata": {},
   "outputs": [],
   "source": [
    "'''\n",
    "dls_lm = DataBlock(\n",
    "    blocks=TextBlock.from_df('text', is_lm=True),\n",
    "    get_x=ColReader('text'), splitter=RandomSplitter(0.1)\n",
    ").dataloaders(df, bs=128, seq_len=80)\n",
    "'''\n",
    "pass"
   ]
  },
  {
   "cell_type": "code",
   "execution_count": 9,
   "id": "15a1b859",
   "metadata": {},
   "outputs": [
    {
     "data": {
      "text/html": [],
      "text/plain": [
       "<IPython.core.display.HTML object>"
      ]
     },
     "metadata": {},
     "output_type": "display_data"
    },
    {
     "data": {
      "text/html": [
       "<table border=\"1\" class=\"dataframe\">\n",
       "  <thead>\n",
       "    <tr style=\"text-align: right;\">\n",
       "      <th></th>\n",
       "      <th>text</th>\n",
       "      <th>text_</th>\n",
       "    </tr>\n",
       "  </thead>\n",
       "  <tbody>\n",
       "    <tr>\n",
       "      <th>0</th>\n",
       "      <td>xxbos xxmaj meta - analysis of bioabsorbable staple line reinforcement and risk of fistula following pancreatic resection . xxup background xxmaj stapled pancreatic transection is widely used although pancreatic fistula remains a common post - surgical complication . xxup methods xxmaj we performed a meta - analysis of existing data regarding pancreatic fistula following stapled pancreatic transection , comparing bare metal staples to reinforced staple loads . xxup results xxmaj we identified ten manuscripts between 2007 and 2009 reporting outcomes</td>\n",
       "      <td>xxmaj meta - analysis of bioabsorbable staple line reinforcement and risk of fistula following pancreatic resection . xxup background xxmaj stapled pancreatic transection is widely used although pancreatic fistula remains a common post - surgical complication . xxup methods xxmaj we performed a meta - analysis of existing data regarding pancreatic fistula following stapled pancreatic transection , comparing bare metal staples to reinforced staple loads . xxup results xxmaj we identified ten manuscripts between 2007 and 2009 reporting outcomes following</td>\n",
       "    </tr>\n",
       "    <tr>\n",
       "      <th>1</th>\n",
       "      <td>data related with severe acute respiratory syndrome coronavirus . xxmaj we finally focused on implications of immunotherapy treatments in clinical practice . xxbos coronavirus - pandemie ­ xxmaj xxunk an die grippe - epidemie von 1918 aus xxunk - xxunk xxmaj sicht . / [ coronavirus pandemic - memories of the flu epidemic from 1918 from a gynecological and obstetric perspective ] xxmaj from the medical reports on the flu epidemic in 1918 , there is accordance with the present</td>\n",
       "      <td>related with severe acute respiratory syndrome coronavirus . xxmaj we finally focused on implications of immunotherapy treatments in clinical practice . xxbos coronavirus - pandemie ­ xxmaj xxunk an die grippe - epidemie von 1918 aus xxunk - xxunk xxmaj sicht . / [ coronavirus pandemic - memories of the flu epidemic from 1918 from a gynecological and obstetric perspective ] xxmaj from the medical reports on the flu epidemic in 1918 , there is accordance with the present -</td>\n",
       "    </tr>\n",
       "    <tr>\n",
       "      <th>2</th>\n",
       "      <td>weaned calves on a commercial dairy farm . a total of 123 neonatal female calves , housed in individual hutches , were enrolled sequentially based on date of birth in 41 blocks of 3 animals each . xxmaj calves within each block were allocated to one of 3 treatments : remaining untreated , fed with xxup scfp ( diamond v xxunk ® at 1 g / d in milk and xxunk ® at 5 g / d in starter grain</td>\n",
       "      <td>calves on a commercial dairy farm . a total of 123 neonatal female calves , housed in individual hutches , were enrolled sequentially based on date of birth in 41 blocks of 3 animals each . xxmaj calves within each block were allocated to one of 3 treatments : remaining untreated , fed with xxup scfp ( diamond v xxunk ® at 1 g / d in milk and xxunk ® at 5 g / d in starter grain )</td>\n",
       "    </tr>\n",
       "  </tbody>\n",
       "</table>"
      ],
      "text/plain": [
       "<IPython.core.display.HTML object>"
      ]
     },
     "metadata": {},
     "output_type": "display_data"
    }
   ],
   "source": [
    "dls_lm = TextDataLoaders.from_df(df, path=path, text_col='text', is_lm=True, bs=128, seq_len=80)\n",
    "dls_lm.show_batch(max_n=3)"
   ]
  },
  {
   "cell_type": "code",
   "execution_count": 10,
   "id": "31bc29ae",
   "metadata": {},
   "outputs": [],
   "source": [
    "torch.save(dls_lm, path/'lstm_ta_dls.pkl')"
   ]
  },
  {
   "cell_type": "code",
   "execution_count": 7,
   "id": "478da798",
   "metadata": {},
   "outputs": [],
   "source": [
    "dls_lm = torch.load(path/'lstm_ta_dls.pkl')"
   ]
  },
  {
   "cell_type": "markdown",
   "id": "47ab58c4",
   "metadata": {},
   "source": [
    "### Fine-tuning Language model"
   ]
  },
  {
   "cell_type": "code",
   "execution_count": 8,
   "id": "ff572abf",
   "metadata": {},
   "outputs": [],
   "source": [
    "learn = language_model_learner(\n",
    "    dls_lm, AWD_LSTM, drop_mult=0.3, \n",
    "    metrics=[accuracy, Perplexity()]).to_fp16()"
   ]
  },
  {
   "cell_type": "markdown",
   "id": "61b3e9ce",
   "metadata": {},
   "source": [
    "#### Saving dataloader"
   ]
  },
  {
   "cell_type": "code",
   "execution_count": 12,
   "id": "a42b07f2",
   "metadata": {},
   "outputs": [
    {
     "data": {
      "text/html": [],
      "text/plain": [
       "<IPython.core.display.HTML object>"
      ]
     },
     "metadata": {},
     "output_type": "display_data"
    },
    {
     "data": {
      "text/plain": [
       "SuggestedLRs(valley=0.0020892962347716093)"
      ]
     },
     "execution_count": 12,
     "metadata": {},
     "output_type": "execute_result"
    },
    {
     "data": {
      "image/png": "[encoded data removed]",
      "text/plain": [
       "<Figure size 720x576 with 1 Axes>"
      ]
     },
     "metadata": {
      "needs_background": "light"
     },
     "output_type": "display_data"
    }
   ],
   "source": [
    "learn.lr_find()"
   ]
  },
  {
   "cell_type": "code",
   "execution_count": 13,
   "id": "c3f9dff8",
   "metadata": {},
   "outputs": [
    {
     "data": {
      "text/html": [
       "<table border=\"1\" class=\"dataframe\">\n",
       "  <thead>\n",
       "    <tr style=\"text-align: left;\">\n",
       "      <th>epoch</th>\n",
       "      <th>train_loss</th>\n",
       "      <th>valid_loss</th>\n",
       "      <th>accuracy</th>\n",
       "      <th>perplexity</th>\n",
       "      <th>time</th>\n",
       "    </tr>\n",
       "  </thead>\n",
       "  <tbody>\n",
       "    <tr>\n",
       "      <td>0</td>\n",
       "      <td>3.651961</td>\n",
       "      <td>3.525009</td>\n",
       "      <td>0.363783</td>\n",
       "      <td>33.954075</td>\n",
       "      <td>1:06:34</td>\n",
       "    </tr>\n",
       "  </tbody>\n",
       "</table>"
      ],
      "text/plain": [
       "<IPython.core.display.HTML object>"
      ]
     },
     "metadata": {},
     "output_type": "display_data"
    }
   ],
   "source": [
    "learn.fit_one_cycle(1, 2e-2)"
   ]
  },
  {
   "cell_type": "markdown",
   "id": "cb2853d7",
   "metadata": {},
   "source": [
    "### Save and loading model"
   ]
  },
  {
   "cell_type": "code",
   "execution_count": 14,
   "id": "f4e94280",
   "metadata": {},
   "outputs": [
    {
     "data": {
      "text/plain": [
       "Path('data/models/lstm_1epoch.pth')"
      ]
     },
     "execution_count": 14,
     "metadata": {},
     "output_type": "execute_result"
    }
   ],
   "source": [
    "learn.save('lstm_1epoch')"
   ]
  },
  {
   "cell_type": "code",
   "execution_count": 18,
   "id": "2303d6fd",
   "metadata": {},
   "outputs": [],
   "source": [
    "learn = learn.load('lstm_1epoch')"
   ]
  },
  {
   "cell_type": "code",
   "execution_count": 15,
   "id": "8cebac43",
   "metadata": {},
   "outputs": [
    {
     "data": {
      "text/html": [
       "\n",
       "    <div>\n",
       "        <style>\n",
       "            /* Turns off some styling */\n",
       "            progress {\n",
       "                /* gets rid of default border in Firefox and Opera. */\n",
       "                border: none;\n",
       "                /* Needs to be in here for Safari polyfill so background images work as expected. */\n",
       "                background-size: auto;\n",
       "            }\n",
       "            .progress-bar-interrupted, .progress-bar-interrupted::-webkit-progress-bar {\n",
       "                background: #F44336;\n",
       "            }\n",
       "        </style>\n",
       "      <progress value='9' class='' max='10' style='width:300px; height:20px; vertical-align: middle;'></progress>\n",
       "      90.00% [9/10 10:11:32<1:07:56]\n",
       "    </div>\n",
       "    \n",
       "<table border=\"1\" class=\"dataframe\">\n",
       "  <thead>\n",
       "    <tr style=\"text-align: left;\">\n",
       "      <th>epoch</th>\n",
       "      <th>train_loss</th>\n",
       "      <th>valid_loss</th>\n",
       "      <th>accuracy</th>\n",
       "      <th>perplexity</th>\n",
       "      <th>time</th>\n",
       "    </tr>\n",
       "  </thead>\n",
       "  <tbody>\n",
       "    <tr>\n",
       "      <td>0</td>\n",
       "      <td>3.302592</td>\n",
       "      <td>3.301427</td>\n",
       "      <td>0.389924</td>\n",
       "      <td>27.151346</td>\n",
       "      <td>1:09:44</td>\n",
       "    </tr>\n",
       "    <tr>\n",
       "      <td>1</td>\n",
       "      <td>3.190960</td>\n",
       "      <td>3.205628</td>\n",
       "      <td>0.399996</td>\n",
       "      <td>24.670992</td>\n",
       "      <td>1:10:03</td>\n",
       "    </tr>\n",
       "    <tr>\n",
       "      <td>2</td>\n",
       "      <td>3.114023</td>\n",
       "      <td>3.126412</td>\n",
       "      <td>0.409038</td>\n",
       "      <td>22.792063</td>\n",
       "      <td>1:08:41</td>\n",
       "    </tr>\n",
       "    <tr>\n",
       "      <td>3</td>\n",
       "      <td>3.015662</td>\n",
       "      <td>3.072189</td>\n",
       "      <td>0.415378</td>\n",
       "      <td>21.589102</td>\n",
       "      <td>1:06:15</td>\n",
       "    </tr>\n",
       "    <tr>\n",
       "      <td>4</td>\n",
       "      <td>2.943250</td>\n",
       "      <td>3.027709</td>\n",
       "      <td>0.420955</td>\n",
       "      <td>20.649864</td>\n",
       "      <td>1:09:04</td>\n",
       "    </tr>\n",
       "    <tr>\n",
       "      <td>5</td>\n",
       "      <td>2.852579</td>\n",
       "      <td>2.994771</td>\n",
       "      <td>0.425647</td>\n",
       "      <td>19.980793</td>\n",
       "      <td>1:06:57</td>\n",
       "    </tr>\n",
       "    <tr>\n",
       "      <td>6</td>\n",
       "      <td>2.753356</td>\n",
       "      <td>2.967702</td>\n",
       "      <td>0.430077</td>\n",
       "      <td>19.447172</td>\n",
       "      <td>1:06:59</td>\n",
       "    </tr>\n",
       "    <tr>\n",
       "      <td>7</td>\n",
       "      <td>2.713246</td>\n",
       "      <td>2.948751</td>\n",
       "      <td>0.433224</td>\n",
       "      <td>19.082109</td>\n",
       "      <td>1:07:41</td>\n",
       "    </tr>\n",
       "    <tr>\n",
       "      <td>8</td>\n",
       "      <td>2.640823</td>\n",
       "      <td>2.942184</td>\n",
       "      <td>0.434819</td>\n",
       "      <td>18.957199</td>\n",
       "      <td>1:06:05</td>\n",
       "    </tr>\n",
       "  </tbody>\n",
       "</table><p>\n",
       "\n",
       "    <div>\n",
       "        <style>\n",
       "            /* Turns off some styling */\n",
       "            progress {\n",
       "                /* gets rid of default border in Firefox and Opera. */\n",
       "                border: none;\n",
       "                /* Needs to be in here for Safari polyfill so background images work as expected. */\n",
       "                background-size: auto;\n",
       "            }\n",
       "            .progress-bar-interrupted, .progress-bar-interrupted::-webkit-progress-bar {\n",
       "                background: #F44336;\n",
       "            }\n",
       "        </style>\n",
       "      <progress value='548' class='' max='754' style='width:300px; height:20px; vertical-align: middle;'></progress>\n",
       "      72.68% [548/754 08:05<03:02 2.5963]\n",
       "    </div>\n",
       "    "
      ],
      "text/plain": [
       "<IPython.core.display.HTML object>"
      ]
     },
     "metadata": {},
     "output_type": "display_data"
    },
    {
     "name": "stderr",
     "output_type": "stream",
     "text": [
      "IOPub message rate exceeded.\n",
      "The notebook server will temporarily stop sending output\n",
      "to the client in order to avoid crashing it.\n",
      "To change this limit, set the config variable\n",
      "`--NotebookApp.iopub_msg_rate_limit`.\n",
      "\n",
      "Current values:\n",
      "NotebookApp.iopub_msg_rate_limit=1000.0 (msgs/sec)\n",
      "NotebookApp.rate_limit_window=3.0 (secs)\n",
      "\n",
      "IOPub message rate exceeded.\n",
      "The notebook server will temporarily stop sending output\n",
      "to the client in order to avoid crashing it.\n",
      "To change this limit, set the config variable\n",
      "`--NotebookApp.iopub_msg_rate_limit`.\n",
      "\n",
      "Current values:\n",
      "NotebookApp.iopub_msg_rate_limit=1000.0 (msgs/sec)\n",
      "NotebookApp.rate_limit_window=3.0 (secs)\n",
      "\n",
      "IOPub message rate exceeded.\n",
      "The notebook server will temporarily stop sending output\n",
      "to the client in order to avoid crashing it.\n",
      "To change this limit, set the config variable\n",
      "`--NotebookApp.iopub_msg_rate_limit`.\n",
      "\n",
      "Current values:\n",
      "NotebookApp.iopub_msg_rate_limit=1000.0 (msgs/sec)\n",
      "NotebookApp.rate_limit_window=3.0 (secs)\n",
      "\n",
      "IOPub message rate exceeded.\n",
      "The notebook server will temporarily stop sending output\n",
      "to the client in order to avoid crashing it.\n",
      "To change this limit, set the config variable\n",
      "`--NotebookApp.iopub_msg_rate_limit`.\n",
      "\n",
      "Current values:\n",
      "NotebookApp.iopub_msg_rate_limit=1000.0 (msgs/sec)\n",
      "NotebookApp.rate_limit_window=3.0 (secs)\n",
      "\n",
      "IOPub message rate exceeded.\n",
      "The notebook server will temporarily stop sending output\n",
      "to the client in order to avoid crashing it.\n",
      "To change this limit, set the config variable\n",
      "`--NotebookApp.iopub_msg_rate_limit`.\n",
      "\n",
      "Current values:\n",
      "NotebookApp.iopub_msg_rate_limit=1000.0 (msgs/sec)\n",
      "NotebookApp.rate_limit_window=3.0 (secs)\n",
      "\n"
     ]
    }
   ],
   "source": [
    "learn.unfreeze()\n",
    "learn.fit_one_cycle(10, 2e-3)"
   ]
  },
  {
   "cell_type": "code",
   "execution_count": 16,
   "id": "d10a182f",
   "metadata": {},
   "outputs": [
    {
     "data": {
      "text/plain": [
       "Path('data/models/lstm_10epoch.pth')"
      ]
     },
     "execution_count": 16,
     "metadata": {},
     "output_type": "execute_result"
    }
   ],
   "source": [
    "learn.save('lstm_10epoch')"
   ]
  },
  {
   "cell_type": "code",
   "execution_count": 17,
   "id": "d8dd3a27",
   "metadata": {},
   "outputs": [
    {
     "data": {
      "text/html": [],
      "text/plain": [
       "<IPython.core.display.HTML object>"
      ]
     },
     "metadata": {},
     "output_type": "display_data"
    },
    {
     "data": {
      "text/html": [],
      "text/plain": [
       "<IPython.core.display.HTML object>"
      ]
     },
     "metadata": {},
     "output_type": "display_data"
    }
   ],
   "source": [
    "text = \"Origin of corona \"\n",
    "n_words = 40\n",
    "n_sentences = 2\n",
    "preds = [learn.predict(text, n_words, temperature=0.75) for _ in range(n_sentences)]"
   ]
  },
  {
   "cell_type": "code",
   "execution_count": 19,
   "id": "d04eda7c",
   "metadata": {},
   "outputs": [
    {
     "name": "stdout",
     "output_type": "stream",
     "text": [
      "Origin of corona - virus ( covid-19 ) Vaccines Innovation in Vaccinology is a process which has been facilitated by the development of a large number of vaccines and vaccines . The ability to provide human - to\n",
      "Origin of corona virus : An evolutionary perspective The Corona virus , the result of the emergence of novel coronavirus in Wuhan , China in 2019 , is spreading all over the world . The virus is\n"
     ]
    }
   ],
   "source": [
    "print('\\n'.join(preds))"
   ]
  },
  {
   "cell_type": "markdown",
   "id": "19eacba6",
   "metadata": {},
   "source": [
    "### Constructing document embeddings"
   ]
  },
  {
   "cell_type": "markdown",
   "id": "cff6ff3e",
   "metadata": {},
   "source": [
    "#### Tokenized text"
   ]
  },
  {
   "cell_type": "code",
   "execution_count": 20,
   "id": "26a30f12",
   "metadata": {},
   "outputs": [
    {
     "data": {
      "text/html": [
       "<div>\n",
       "<style scoped>\n",
       "    .dataframe tbody tr th:only-of-type {\n",
       "        vertical-align: middle;\n",
       "    }\n",
       "\n",
       "    .dataframe tbody tr th {\n",
       "        vertical-align: top;\n",
       "    }\n",
       "\n",
       "    .dataframe thead th {\n",
       "        text-align: right;\n",
       "    }\n",
       "</style>\n",
       "<table border=\"1\" class=\"dataframe\">\n",
       "  <thead>\n",
       "    <tr style=\"text-align: right;\">\n",
       "      <th></th>\n",
       "      <th>corduid</th>\n",
       "      <th>text</th>\n",
       "      <th>text_length</th>\n",
       "    </tr>\n",
       "  </thead>\n",
       "  <tbody>\n",
       "    <tr>\n",
       "      <th>124066</th>\n",
       "      <td>s0pjwber</td>\n",
       "      <td>[xxbos, xxmaj, implications, of, sars, -, cov-2, xxmaj, infection, and, xxup, covid-19, xxmaj, crisis, on, xxmaj, clinical, xxmaj, cancer, xxmaj, care, :, xxmaj, report, of, the, xxmaj, university, xxmaj, cancer, xxmaj, center, xxmaj, hamburg, xxmaj, with, the, outbreak, of, the, xxup, covid-19, pandemia, ,, routine, clinical, work, was, immediately, ,, deeply, ,, and, sustainably, impacted, in, xxmaj, germany, and, worldwide, ., xxmaj, the, infrastructure, of, almost, all, hospitals, is, currently, redirected, to, provide, a, maximum, of, intensive, care, resources, ,, including, the, nec...</td>\n",
       "      <td>294</td>\n",
       "    </tr>\n",
       "    <tr>\n",
       "      <th>155245</th>\n",
       "      <td>50n2yryl</td>\n",
       "      <td>[xxbos, xxmaj, the, xxup, abc, of, society, :, xxmaj, perceived, similarity, in, agency, /, socioeconomic, success, and, conservative, -, progressive, beliefs, increases, intergroup, cooperation, xxmaj, abstract, xxmaj, the, dimensions, that, explain, which, societal, groups, cooperate, more, with, which, other, groups, remain, unclear, ., xxmaj, we, predicted, that, perceived, similarity, in, agency, /, socioeconomic, success, and, conservative, -, progressive, beliefs, increases, cooperation, across, groups, ., xxmaj, self, -, identified, members, (, n, =, 583, ), of, 30, society, -, rep...</td>\n",
       "      <td>222</td>\n",
       "    </tr>\n",
       "    <tr>\n",
       "      <th>130879</th>\n",
       "      <td>pupn9hgg</td>\n",
       "      <td>[xxbos, xxmaj, liver, injury, in, xxup, covid-19, :, xxmaj, the, current, evidence, xxmaj, patients, with, novel, coronavirus, disease, 2019, (, covid-19, ), experience, various, degrees, of, liver, function, abnormalities, ., xxmaj, liver, injury, requires, extensive, work, -, up, and, continuous, surveillance, and, can, be, multifactorial, and, heterogeneous, in, nature, ., xxmaj, in, the, context, of, xxup, covid-19, ,, clinicians, will, have, to, determine, whether, liver, injury, is, related, to, an, underlying, liver, disease, ,, drugs, used, for, the, treatment, of, xxup, covid-19, ...</td>\n",
       "      <td>145</td>\n",
       "    </tr>\n",
       "    <tr>\n",
       "      <th>154026</th>\n",
       "      <td>kfqsw6a4</td>\n",
       "      <td>[xxbos, xxmaj, bedside, rapid, placement, of, nasointestinal, feeding, tube, via, ultrasound, -, guided, stylet, positioning, in, critical, xxup, covid-19, patients]</td>\n",
       "      <td>20</td>\n",
       "    </tr>\n",
       "    <tr>\n",
       "      <th>117793</th>\n",
       "      <td>pghphxyd</td>\n",
       "      <td>[xxbos, xxmaj, shifting, xxmaj, paradigms, in, xxmaj, head, and, xxmaj, neck, xxmaj, reconstructive, xxmaj, surgery, xxmaj, during, the, xxup, covid-19, xxmaj, crisis]</td>\n",
       "      <td>22</td>\n",
       "    </tr>\n",
       "  </tbody>\n",
       "</table>\n",
       "</div>"
      ],
      "text/plain": [
       "         corduid  \\\n",
       "124066  s0pjwber   \n",
       "155245  50n2yryl   \n",
       "130879  pupn9hgg   \n",
       "154026  kfqsw6a4   \n",
       "117793  pghphxyd   \n",
       "\n",
       "                                                                                                                                                                                                                                                                                                                                                                                                                                                                                                                                                                                                                           text  \\\n",
       "124066  [xxbos, xxmaj, implications, of, sars, -, cov-2, xxmaj, infection, and, xxup, covid-19, xxmaj, crisis, on, xxmaj, clinical, xxmaj, cancer, xxmaj, care, :, xxmaj, report, of, the, xxmaj, university, xxmaj, cancer, xxmaj, center, xxmaj, hamburg, xxmaj, with, the, outbreak, of, the, xxup, covid-19, pandemia, ,, routine, clinical, work, was, immediately, ,, deeply, ,, and, sustainably, impacted, in, xxmaj, germany, and, worldwide, ., xxmaj, the, infrastructure, of, almost, all, hospitals, is, currently, redirected, to, provide, a, maximum, of, intensive, care, resources, ,, including, the, nec...   \n",
       "155245  [xxbos, xxmaj, the, xxup, abc, of, society, :, xxmaj, perceived, similarity, in, agency, /, socioeconomic, success, and, conservative, -, progressive, beliefs, increases, intergroup, cooperation, xxmaj, abstract, xxmaj, the, dimensions, that, explain, which, societal, groups, cooperate, more, with, which, other, groups, remain, unclear, ., xxmaj, we, predicted, that, perceived, similarity, in, agency, /, socioeconomic, success, and, conservative, -, progressive, beliefs, increases, cooperation, across, groups, ., xxmaj, self, -, identified, members, (, n, =, 583, ), of, 30, society, -, rep...   \n",
       "130879  [xxbos, xxmaj, liver, injury, in, xxup, covid-19, :, xxmaj, the, current, evidence, xxmaj, patients, with, novel, coronavirus, disease, 2019, (, covid-19, ), experience, various, degrees, of, liver, function, abnormalities, ., xxmaj, liver, injury, requires, extensive, work, -, up, and, continuous, surveillance, and, can, be, multifactorial, and, heterogeneous, in, nature, ., xxmaj, in, the, context, of, xxup, covid-19, ,, clinicians, will, have, to, determine, whether, liver, injury, is, related, to, an, underlying, liver, disease, ,, drugs, used, for, the, treatment, of, xxup, covid-19, ...   \n",
       "154026                                                                                                                                                                                                                                                                                                                                                                                                                                                    [xxbos, xxmaj, bedside, rapid, placement, of, nasointestinal, feeding, tube, via, ultrasound, -, guided, stylet, positioning, in, critical, xxup, covid-19, patients]   \n",
       "117793                                                                                                                                                                                                                                                                                                                                                                                                                                                  [xxbos, xxmaj, shifting, xxmaj, paradigms, in, xxmaj, head, and, xxmaj, neck, xxmaj, reconstructive, xxmaj, surgery, xxmaj, during, the, xxup, covid-19, xxmaj, crisis]   \n",
       "\n",
       "        text_length  \n",
       "124066          294  \n",
       "155245          222  \n",
       "130879          145  \n",
       "154026           20  \n",
       "117793           22  "
      ]
     },
     "execution_count": 20,
     "metadata": {},
     "output_type": "execute_result"
    }
   ],
   "source": [
    "learn.dls.train_ds.items.head()"
   ]
  },
  {
   "cell_type": "markdown",
   "id": "a9e3e006",
   "metadata": {},
   "source": [
    "#### Getting the word embeddings"
   ]
  },
  {
   "cell_type": "code",
   "execution_count": 21,
   "id": "67579304",
   "metadata": {},
   "outputs": [],
   "source": [
    "net = learn.model\n",
    "encoder = net[0]\n",
    "word_embed = list(encoder.children())[0].weight"
   ]
  },
  {
   "cell_type": "code",
   "execution_count": 22,
   "id": "fa65ba2e",
   "metadata": {},
   "outputs": [
    {
     "data": {
      "text/plain": [
       "Parameter containing:\n",
       "tensor([[-0.0195, -0.0256,  0.0509,  ..., -0.0097,  0.1934,  0.0232],\n",
       "        [ 0.0137,  0.0013,  0.0208,  ...,  0.0071,  0.0368, -0.0010],\n",
       "        [-0.0039, -0.4186,  0.1425,  ..., -0.3009, -0.0390,  0.1218],\n",
       "        ...,\n",
       "        [-0.0053,  0.0129,  0.0169,  ..., -0.0050,  0.0590, -0.0095],\n",
       "        [-0.0053,  0.0129,  0.0169,  ..., -0.0050,  0.0590, -0.0095],\n",
       "        [-0.0053,  0.0129,  0.0169,  ..., -0.0050,  0.0590, -0.0095]],\n",
       "       device='cuda:1', requires_grad=True)"
      ]
     },
     "execution_count": 22,
     "metadata": {},
     "output_type": "execute_result"
    }
   ],
   "source": [
    "word_embed"
   ]
  },
  {
   "cell_type": "markdown",
   "id": "9d6771c8",
   "metadata": {},
   "source": [
    "#### Document embeddings"
   ]
  },
  {
   "cell_type": "code",
   "execution_count": 23,
   "id": "bb30d7bc",
   "metadata": {},
   "outputs": [],
   "source": [
    "train_doc_embed = torch.vstack([word_embed[ds[0]].mean(axis=0) for ds in learn.dls.train_ds])\n",
    "valid_doc_embed = torch.vstack([word_embed[ds[0]].mean(axis=0) for ds in learn.dls.valid_ds])"
   ]
  },
  {
   "cell_type": "code",
   "execution_count": 24,
   "id": "9e52ca9c",
   "metadata": {},
   "outputs": [],
   "source": [
    "doc_embed = torch.vstack([train_doc_embed, valid_doc_embed])"
   ]
  },
  {
   "cell_type": "code",
   "execution_count": 25,
   "id": "5e04e482",
   "metadata": {},
   "outputs": [],
   "source": [
    "train_doc_id = learn.dls.train_ds.items['corduid'].values\n",
    "valid_doc_id = learn.dls.valid_ds.items['corduid'].values\n",
    "doc_id = np.hstack([train_doc_id, valid_doc_id])"
   ]
  },
  {
   "cell_type": "markdown",
   "id": "95c47ef9",
   "metadata": {},
   "source": [
    "#### Query embeddings"
   ]
  },
  {
   "cell_type": "code",
   "execution_count": 12,
   "id": "143194a9",
   "metadata": {},
   "outputs": [],
   "source": [
    "query_file = \"./col764-proj-release/topics-rnd5.xml\"\n",
    "queries_text = get_queries(query_file, 'narrative')"
   ]
  },
  {
   "cell_type": "code",
   "execution_count": 27,
   "id": "96702955",
   "metadata": {},
   "outputs": [],
   "source": [
    "query_no, query_txt = zip(*queries_text.items())"
   ]
  },
  {
   "cell_type": "code",
   "execution_count": 28,
   "id": "eaaffbc3",
   "metadata": {},
   "outputs": [],
   "source": [
    "query_toks = learn.dls.test_dl(query_txt).items"
   ]
  },
  {
   "cell_type": "code",
   "execution_count": 29,
   "id": "0e500ecb",
   "metadata": {},
   "outputs": [],
   "source": [
    "query_embed = torch.vstack([word_embed[toks].mean(axis=0) for toks in query_toks])"
   ]
  },
  {
   "cell_type": "markdown",
   "id": "1ef104d1",
   "metadata": {},
   "source": [
    "### Ranking"
   ]
  },
  {
   "cell_type": "code",
   "execution_count": 30,
   "id": "ef33defe",
   "metadata": {},
   "outputs": [],
   "source": [
    "doc_embed_norm = torch.norm(doc_embed, dim=1, keepdim=True)\n",
    "doc_embed /= doc_embed_norm"
   ]
  },
  {
   "cell_type": "code",
   "execution_count": 31,
   "id": "8accf592",
   "metadata": {},
   "outputs": [],
   "source": [
    "query_embed_norm = torch.norm(query_embed, dim=1, keepdim=True)\n",
    "query_embed /= query_embed_norm"
   ]
  },
  {
   "cell_type": "code",
   "execution_count": 32,
   "id": "74346479",
   "metadata": {},
   "outputs": [],
   "source": [
    "scores = doc_embed@query_embed.T "
   ]
  },
  {
   "cell_type": "code",
   "execution_count": 33,
   "id": "fd5a148a",
   "metadata": {},
   "outputs": [],
   "source": [
    "scores = scores.cpu().detach().numpy()"
   ]
  },
  {
   "cell_type": "code",
   "execution_count": 34,
   "id": "c93a9b8b",
   "metadata": {},
   "outputs": [],
   "source": [
    "ranking_scores = {}\n",
    "for q, q_no in enumerate(query_no):\n",
    "    ranking_scores[q_no] = dict(zip(doc_id, scores[:, q].astype(np.float64)))"
   ]
  },
  {
   "cell_type": "code",
   "execution_count": 35,
   "id": "5c144056",
   "metadata": {},
   "outputs": [],
   "source": [
    "with open('./data/lstm_ranking_scores.pkl', 'wb') as file:\n",
    "    pickle.dump(ranking_scores, file)"
   ]
  },
  {
   "cell_type": "code",
   "execution_count": 36,
   "id": "d2ff8f64",
   "metadata": {},
   "outputs": [],
   "source": [
    "save_ranking('./data/lstm_ranking_scores', ranking_scores)"
   ]
  },
  {
   "cell_type": "markdown",
   "id": "e7e6d24f",
   "metadata": {},
   "source": [
    "### top files"
   ]
  },
  {
   "cell_type": "code",
   "execution_count": 13,
   "id": "1dc974d0",
   "metadata": {},
   "outputs": [
    {
     "data": {
      "text/plain": [
       "'seeking studies of immunity developed due to infection with SARS-CoV2 or cross protection gained due to infection with other coronavirus types'"
      ]
     },
     "execution_count": 13,
     "metadata": {},
     "output_type": "execute_result"
    }
   ],
   "source": [
    "queries_text['3']"
   ]
  },
  {
   "cell_type": "code",
   "execution_count": 9,
   "id": "9af469aa",
   "metadata": {},
   "outputs": [],
   "source": [
    "with open('./data/lstm_ranking_scores.pkl', 'rb') as file:\n",
    "    ranking_scores = pickle.load(file)"
   ]
  },
  {
   "cell_type": "code",
   "execution_count": 14,
   "id": "3bdb1ac0",
   "metadata": {},
   "outputs": [],
   "source": [
    "df.set_index('corduid', inplace=True)"
   ]
  },
  {
   "cell_type": "code",
   "execution_count": 16,
   "id": "1a1f3689",
   "metadata": {},
   "outputs": [
    {
     "name": "stdout",
     "output_type": "stream",
     "text": [
      "['A systematic review of antibody mediated immunity to coronaviruses: antibody kinetics, correlates of protection, and association of antibody responses with severity of disease The duration and nature of immunity generated in response to SARS-CoV-2 infection is unknown. Many public health responses and modeled scenarios for COVID-19 outbreaks caused by SARSCoV-2 assume that infection results in an immune response that protects individuals from future infections or illness for some amount of time. The timescale of protection is a critical determinant of the future impact of the pathogen. The presence or absence of protective immunity due to infection or vaccination (when available) will affect future transmission and illness severity. The dynamics of immunity and nature of protection are relevant to discussions surrounding therapeutic use of convalescent sera as well as efforts to identify individuals with protective immunity. Here, we review the scientific literature on antibody immunity to coronaviruses, including SARS-CoV-2 as well as the related SARS-CoV-1, MERS-CoV and human endemic coronaviruses (HCoVs). We reviewed 1281 abstracts and identified 322 manuscripts relevant to 5 areas of focus: 1) antibody kinetics, 2) correlates of protection, 3) immunopathogenesis, 4) antigenic diversity and cross-reactivity, and 5) population seroprevalence. While studies of SARS-CoV-2 are necessary to determine immune responses to it, evidence from other coronaviruses can provide clues and guide future research.'\n",
      " 'CD8+ T cell cross-reactivity against SARS-CoV-2 conferred by other coronavirus strains and influenza virus While individuals infected with coronavirus disease 2019 (COVID-19) manifested a broad range in susceptibility and severity to the disease, the pre-existing immune memory of related pathogens can influence the disease outcome. Here, we investigated the potential extent of T cell cross-reactivity against severe acute respiratory syndrome coronavirus 2 (SARS-CoV-2) that can be conferred by other coronaviruses and influenza virus, and generated a map of public and private predicted CD8+ T cell epitopes between coronaviruses. Moreover, to assess the potential risk of self-reactivity and/or diminished T cell response for peptides identical or highly similar to the host, we identified predicted epitopes with high sequence similarity with human proteome. Lastly, we compared predicted epitopes from coronaviruses with epitopes from influenza virus deposited in IEDB to support vaccine development against different virus strains. We believe the comprehensive in silico profile of private and public predicted epitopes across coronaviruses and influenza viruses will facilitate design of vaccines capable of protecting against various viral infections.'\n",
      " 'Immunization against feline coronaviruses. Feline infectious peritonitis (FIP) is caused by one of several strains of feline coronaviruses which are grouped into 2 general types of viruses. Infection of cats with FIP virus results in production of serum antibodies which may be protective in conjunction with cell mediated immunity, may provided no protection at all, or may produce an immune enhancement to subsequent exposure to another FIP virus or a recrudescence of the original infecting virus. Attempts at immunization of cats against FIP with inactivated or live FIP viruses have been generally unsuccessful, and often sensitizing the cat through immune enhancement rather than providing protection. Heterologous live virus vaccines using viruses of the same antigenic cluster (transmissible gastroenteritis of swine, canine coronavirus, and human coronavirus 229E) have failed to provide protection against FIP virus. Further research into the exact mechanism of protection and immune enhancement is needed in order to understand ways of producing an effective and safe vaccine.'\n",
      " 'Long-term conditions and severe acute respiratory syndrome SARS-CoV-2 (COVID-19) Observation of infection trends through the course of the ongoing COVID-19 pandemic has indicated that those with certain pre-existing chronic conditions, such as hypertension, chronic obstructive pulmonary disease and obesity, are particularly likely to develop severe infection and experience disastrous sequelae, including near-fatal pneumonia. This article aims to outline how SARS-CoV-2 affects people and to consider why individuals living with long-term conditions are at increased risk from infection caused by this virus. A summary of available clinical guidelines with recommendations is presented, to provide community nurses with the up-to-date information required for protecting individuals living with a number of long-term conditions. Additionally, special measures required are outlined, so that community nurses may reflect on how to best provide nursing care for individuals living with long-term conditions and understand protection measures for individuals at increased risk from severe COVID-19.'\n",
      " 'Long-term conditions and severe acute respiratory syndrome SARS-CoV-2 (COVID-19) Observation of infection trends through the course of the ongoing COVID-19 pandemic has indicated that those with certain pre-existing chronic conditions, such as hypertension, chronic obstructive pulmonary disease and obesity, are particularly likely to develop severe infection and experience disastrous sequelae, including near-fatal pneumonia. This article aims to outline how SARS-CoV-2 affects people and to consider why individuals living with long-term conditions are at increased risk from infection caused by this virus. A summary of available clinical guidelines with recommendations is presented, to provide community nurses with the up-to-date information required for protecting individuals living with a number of long-term conditions. Additionally, special measures required are outlined, so that community nurses may reflect on how to best provide nursing care for individuals living with long-term conditions and understand protection measures for individuals at increased risk from severe COVID-19.']\n"
     ]
    }
   ],
   "source": [
    "c, s = zip(*ranking_scores['3'].items())\n",
    "c = np.array(c)\n",
    "s = np.array(s)\n",
    "sort_pos = np.argsort(s)[::-1]\n",
    "top = df.loc[c[sort_pos][:5]]\n",
    "print(top['text'].values)"
   ]
  },
  {
   "cell_type": "code",
   "execution_count": null,
   "id": "a856c979",
   "metadata": {},
   "outputs": [],
   "source": []
  }
 ],
 "metadata": {
  "kernelspec": {
   "display_name": "Python 3 (ipykernel)",
   "language": "python",
   "name": "python3"
  },
  "language_info": {
   "codemirror_mode": {
    "name": "ipython",
    "version": 3
   },
   "file_extension": ".py",
   "mimetype": "text/x-python",
   "name": "python",
   "nbconvert_exporter": "python",
   "pygments_lexer": "ipython3",
   "version": "3.8.12"
  }
 },
 "nbformat": 4,
 "nbformat_minor": 5
}
