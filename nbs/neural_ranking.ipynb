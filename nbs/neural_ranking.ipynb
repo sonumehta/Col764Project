{
 "cells": [
  {
   "cell_type": "code",
   "execution_count": 1,
   "id": "d0cdc988",
   "metadata": {},
   "outputs": [],
   "source": [
    "%reload_ext autoreload\n",
    "%autoreload 2\n",
    "%matplotlib inline"
   ]
  },
  {
   "cell_type": "code",
   "execution_count": 2,
   "id": "f3cac956",
   "metadata": {},
   "outputs": [],
   "source": [
    "#export\n",
    "import os, ast, inspect\n",
    "from typing import Any, Callable, Dict, List, Optional, Union, Type\n",
    "\n",
    "from fastcore.all import *\n",
    "from fastai.callback.all import *\n",
    "from fastai.data.block import DataBlock, ColReader, ItemGetter, ColSplitter, RandomSplitter\n",
    "from fastai.data.core import DataLoader, DataLoaders, TfmdDL\n",
    "from fastai.imports import *\n",
    "from fastai.learner import *\n",
    "from fastai.losses import CrossEntropyLossFlat\n",
    "from fastai.optimizer import Adam, OptimWrapper, params\n",
    "from fastai.metrics import perplexity\n",
    "from fastai.torch_core import *\n",
    "from fastai.torch_imports import *\n",
    "from fastprogress.fastprogress import progress_bar,master_bar\n",
    "from sklearn.metrics import accuracy_score\n",
    "from transformers import (\n",
    "    AutoModelForCausalLM, AutoModelForMaskedLM, logging,\n",
    "    PretrainedConfig, PreTrainedTokenizerBase, PreTrainedModel\n",
    ")\n",
    "\n",
    "\n",
    "from blurr.utils import BLURR\n",
    "from blurr.data.core import HF_TextBlock, BlurrDataLoader, first_blurr_tfm\n",
    "from blurr.modeling.core import HF_PreCalculatedLoss, Blearner\n",
    "from blurr.data.language_modeling import (\n",
    "    HF_LMBeforeBatchTransform, LMType, LMStrategy, HF_CausalLMInput, CausalLMStrategy, HF_MLMInput, BertMLMStrategy\n",
    ")\n",
    "\n",
    "logging.set_verbosity_error()"
   ]
  },
  {
   "cell_type": "code",
   "execution_count": 3,
   "id": "ebfa3940",
   "metadata": {},
   "outputs": [
    {
     "name": "stdout",
     "output_type": "stream",
     "text": [
      "What we're running with at the time this documentation was generated:\n",
      "torch: 1.9.1+cu111\n",
      "fastai: 2.5.4\n",
      "transformers: 4.10.2\n"
     ]
    }
   ],
   "source": [
    "#hide_input\n",
    "import pdb\n",
    "\n",
    "from fastai.data.external import untar_data, URLs\n",
    "from fastcore.test import *\n",
    "from nbverbose.showdoc import show_doc\n",
    "\n",
    "from blurr.utils import print_versions\n",
    "from blurr.modeling.core import HF_BaseModelWrapper, HF_BaseModelCallback, HF_PreCalculatedLoss, hf_splitter\n",
    "\n",
    "os.environ[\"TOKENIZERS_PARALLELISM\"] = \"false\"\n",
    "print(\"What we're running with at the time this documentation was generated:\")\n",
    "print_versions('torch fastai transformers')"
   ]
  },
  {
   "cell_type": "code",
   "execution_count": 4,
   "id": "19f8aa5d",
   "metadata": {},
   "outputs": [],
   "source": [
    "from ranking_utils import *"
   ]
  },
  {
   "cell_type": "code",
   "execution_count": 5,
   "id": "eb57f6a3",
   "metadata": {},
   "outputs": [
    {
     "name": "stdout",
     "output_type": "stream",
     "text": [
      "Using GPU #1: Tesla V100-PCIE-32GB\n"
     ]
    }
   ],
   "source": [
    "torch.cuda.set_device(1)\n",
    "print(f'Using GPU #{torch.cuda.current_device()}: {torch.cuda.get_device_name()}')"
   ]
  },
  {
   "cell_type": "code",
   "execution_count": 6,
   "id": "13356246",
   "metadata": {},
   "outputs": [],
   "source": [
    "path = Path('./data/')\n",
    "\n",
    "df = pd.read_csv(path/'cord-19_2020-07-16_ta_text.csv', index_col=0)"
   ]
  },
  {
   "cell_type": "code",
   "execution_count": 7,
   "id": "a6547fa7",
   "metadata": {},
   "outputs": [
    {
     "name": "stderr",
     "output_type": "stream",
     "text": [
      "/scratch/cse/phd/anz198717/anaconda3/envs/fasthugs/lib/python3.8/site-packages/pandas/core/indexing.py:1732: SettingWithCopyWarning: \n",
      "A value is trying to be set on a copy of a slice from a DataFrame\n",
      "\n",
      "See the caveats in the documentation: https://pandas.pydata.org/pandas-docs/stable/user_guide/indexing.html#returning-a-view-versus-a-copy\n",
      "  self._setitem_single_block(indexer, value, name)\n"
     ]
    }
   ],
   "source": [
    "N = df.shape[0]\n",
    "valid_pc = 0.2\n",
    "\n",
    "num_valid = int(N*valid_pc)\n",
    "valid_idx = np.random.randint(N, size=num_valid)\n",
    "\n",
    "df['is_valid'] = False\n",
    "df['is_valid'].iloc[valid_idx] = True"
   ]
  },
  {
   "cell_type": "code",
   "execution_count": 8,
   "id": "b47ee0b3",
   "metadata": {},
   "outputs": [
    {
     "name": "stdout",
     "output_type": "stream",
     "text": [
      "191175\n"
     ]
    },
    {
     "data": {
      "text/html": [
       "<div>\n",
       "<style scoped>\n",
       "    .dataframe tbody tr th:only-of-type {\n",
       "        vertical-align: middle;\n",
       "    }\n",
       "\n",
       "    .dataframe tbody tr th {\n",
       "        vertical-align: top;\n",
       "    }\n",
       "\n",
       "    .dataframe thead th {\n",
       "        text-align: right;\n",
       "    }\n",
       "</style>\n",
       "<table border=\"1\" class=\"dataframe\">\n",
       "  <thead>\n",
       "    <tr style=\"text-align: right;\">\n",
       "      <th></th>\n",
       "      <th>corduid</th>\n",
       "      <th>text</th>\n",
       "      <th>is_valid</th>\n",
       "    </tr>\n",
       "  </thead>\n",
       "  <tbody>\n",
       "    <tr>\n",
       "      <th>0</th>\n",
       "      <td>ug7v899j</td>\n",
       "      <td>Clinical features of culture-proven Mycoplasma pneumoniae infections at King Abdulaziz University Hospital, Jeddah, Saudi Arabia OBJECTIVE: This retrospective chart review describes the epidemiology and clinical features of 40 patients with culture-proven Mycoplasma pneumoniae infections at King Abdulaziz University Hospital, Jeddah, Saudi Arabia. METHODS: Patients with positive M. pneumoniae cultures from respiratory specimens from January 1997 through December 1998 were identified through the Microbiology records. Charts of patients were reviewed. RESULTS: 40 patients were identified, 33...</td>\n",
       "      <td>False</td>\n",
       "    </tr>\n",
       "    <tr>\n",
       "      <th>1</th>\n",
       "      <td>02tnwd4m</td>\n",
       "      <td>Nitric oxide: a pro-inflammatory mediator in lung disease? Inflammatory diseases of the respiratory tract are commonly associated with elevated production of nitric oxide (NO•) and increased indices of NO• -dependent oxidative stress. Although NO• is known to have anti-microbial, anti-inflammatory and anti-oxidant properties, various lines of evidence support the contribution of NO• to lung injury in several disease models. On the basis of biochemical evidence, it is often presumed that such NO• -dependent oxidations are due to the formation of the oxidant peroxynitrite, although alternati...</td>\n",
       "      <td>False</td>\n",
       "    </tr>\n",
       "    <tr>\n",
       "      <th>2</th>\n",
       "      <td>ejv2xln0</td>\n",
       "      <td>Surfactant protein-D and pulmonary host defense Surfactant protein-D (SP-D) participates in the innate response to inhaled microorganisms and organic antigens, and contributes to immune and inflammatory regulation within the lung. SP-D is synthesized and secreted by alveolar and bronchiolar epithelial cells, but is also expressed by epithelial cells lining various exocrine ducts and the mucosa of the gastrointestinal and genitourinary tracts. SP-D, a collagenous calcium-dependent lectin (or collectin), binds to surface glycoconjugates expressed by a wide variety of microorganisms, and to o...</td>\n",
       "      <td>False</td>\n",
       "    </tr>\n",
       "    <tr>\n",
       "      <th>3</th>\n",
       "      <td>2b73a28n</td>\n",
       "      <td>Role of endothelin-1 in lung disease Endothelin-1 (ET-1) is a 21 amino acid peptide with diverse biological activity that has been implicated in numerous diseases. ET-1 is a potent mitogen regulator of smooth muscle tone, and inflammatory mediator that may play a key role in diseases of the airways, pulmonary circulation, and inflammatory lung diseases, both acute and chronic. This review will focus on the biology of ET-1 and its role in lung disease.</td>\n",
       "      <td>False</td>\n",
       "    </tr>\n",
       "    <tr>\n",
       "      <th>4</th>\n",
       "      <td>9785vg6d</td>\n",
       "      <td>Gene expression in epithelial cells in response to pneumovirus infection Respiratory syncytial virus (RSV) and pneumonia virus of mice (PVM) are viruses of the family Paramyxoviridae, subfamily pneumovirus, which cause clinically important respiratory infections in humans and rodents, respectively. The respiratory epithelial target cells respond to viral infection with specific alterations in gene expression, including production of chemoattractant cytokines, adhesion molecules, elements that are related to the apoptosis response, and others that remain incompletely understood. Here we rev...</td>\n",
       "      <td>False</td>\n",
       "    </tr>\n",
       "  </tbody>\n",
       "</table>\n",
       "</div>"
      ],
      "text/plain": [
       "    corduid  \\\n",
       "0  ug7v899j   \n",
       "1  02tnwd4m   \n",
       "2  ejv2xln0   \n",
       "3  2b73a28n   \n",
       "4  9785vg6d   \n",
       "\n",
       "                                                                                                                                                                                                                                                                                                                                                                                                                                                                                                                                                                                                                      text  \\\n",
       "0  Clinical features of culture-proven Mycoplasma pneumoniae infections at King Abdulaziz University Hospital, Jeddah, Saudi Arabia OBJECTIVE: This retrospective chart review describes the epidemiology and clinical features of 40 patients with culture-proven Mycoplasma pneumoniae infections at King Abdulaziz University Hospital, Jeddah, Saudi Arabia. METHODS: Patients with positive M. pneumoniae cultures from respiratory specimens from January 1997 through December 1998 were identified through the Microbiology records. Charts of patients were reviewed. RESULTS: 40 patients were identified, 33...   \n",
       "1  Nitric oxide: a pro-inflammatory mediator in lung disease? Inflammatory diseases of the respiratory tract are commonly associated with elevated production of nitric oxide (NO•) and increased indices of NO• -dependent oxidative stress. Although NO• is known to have anti-microbial, anti-inflammatory and anti-oxidant properties, various lines of evidence support the contribution of NO• to lung injury in several disease models. On the basis of biochemical evidence, it is often presumed that such NO• -dependent oxidations are due to the formation of the oxidant peroxynitrite, although alternati...   \n",
       "2  Surfactant protein-D and pulmonary host defense Surfactant protein-D (SP-D) participates in the innate response to inhaled microorganisms and organic antigens, and contributes to immune and inflammatory regulation within the lung. SP-D is synthesized and secreted by alveolar and bronchiolar epithelial cells, but is also expressed by epithelial cells lining various exocrine ducts and the mucosa of the gastrointestinal and genitourinary tracts. SP-D, a collagenous calcium-dependent lectin (or collectin), binds to surface glycoconjugates expressed by a wide variety of microorganisms, and to o...   \n",
       "3                                                                                                                                                  Role of endothelin-1 in lung disease Endothelin-1 (ET-1) is a 21 amino acid peptide with diverse biological activity that has been implicated in numerous diseases. ET-1 is a potent mitogen regulator of smooth muscle tone, and inflammatory mediator that may play a key role in diseases of the airways, pulmonary circulation, and inflammatory lung diseases, both acute and chronic. This review will focus on the biology of ET-1 and its role in lung disease.   \n",
       "4  Gene expression in epithelial cells in response to pneumovirus infection Respiratory syncytial virus (RSV) and pneumonia virus of mice (PVM) are viruses of the family Paramyxoviridae, subfamily pneumovirus, which cause clinically important respiratory infections in humans and rodents, respectively. The respiratory epithelial target cells respond to viral infection with specific alterations in gene expression, including production of chemoattractant cytokines, adhesion molecules, elements that are related to the apoptosis response, and others that remain incompletely understood. Here we rev...   \n",
       "\n",
       "   is_valid  \n",
       "0     False  \n",
       "1     False  \n",
       "2     False  \n",
       "3     False  \n",
       "4     False  "
      ]
     },
     "execution_count": 8,
     "metadata": {},
     "output_type": "execute_result"
    }
   ],
   "source": [
    "print(len(df))\n",
    "df.head()"
   ]
  },
  {
   "cell_type": "code",
   "execution_count": 9,
   "id": "019f26d0",
   "metadata": {},
   "outputs": [],
   "source": [
    "class LM_MetricsCallback(Callback):\n",
    "    \"\"\"A fastai friendly metric implemented as a callback so that we can handle use cases where we don't\n",
    "    want to count tokens marked to be ignored or else not count batches where there are no targs\n",
    "    \"\"\"\n",
    "    def __init__(self, **kwargs):\n",
    "        self.run_before = Recorder\n",
    "    \n",
    "        self.custom_metrics_dict = { 'lm_accuracy':None }    \n",
    "        self.do_setup = True\n",
    "        \n",
    "    def setup(self):\n",
    "        # one time setup code here.\n",
    "        if (not self.do_setup): return\n",
    "\n",
    "        # add custom text generation specific metrics\n",
    "        custom_metric_keys = self.custom_metrics_dict.keys()\n",
    "        custom_metrics = L([ ValueMetric(partial(self.metric_value, metric_key=k), k) for k in custom_metric_keys ])\n",
    "        self.learn.metrics = self.learn.metrics + custom_metrics\n",
    "\n",
    "        self.do_setup = False\n",
    "        \n",
    "    def before_fit(self): \n",
    "        self.setup()\n",
    "    \n",
    "    \n",
    "    # --- batch begin/after phases ---\n",
    "    def after_batch(self):\n",
    "        # do this only for validation set\n",
    "        if (self.training or self.learn.y is None): return\n",
    "        \n",
    "        preds = self.pred.argmax(dim=-1)\n",
    "        targs = self.yb[0]               # yb is TensorText tuple, item 0 is the data\n",
    "\n",
    "        msk = torch.where(targs != -100, 1, 0).bool()\n",
    "        preds = torch.masked_select(preds, msk).cpu()\n",
    "        targs = torch.masked_select(targs, msk).cpu()\n",
    "\n",
    "        if (preds.shape[0] == 0):\n",
    "            return\n",
    "        \n",
    "        self.results += [ (res[0], res[1]) for res in zip(preds, targs) ]\n",
    "        \n",
    "        \n",
    "    # --- validation begin/after phases ---\n",
    "    def before_validate(self): self.results = []\n",
    "        \n",
    "    def after_validate(self):\n",
    "        if (len(self.results) < 1): return\n",
    "        \n",
    "        preds, targs = map(list, zip(*self.results))\n",
    "        self.custom_metrics_dict['lm_accuracy'] = accuracy_score(targs, preds)\n",
    "        \n",
    "        \n",
    "    # --- for ValueMetric metrics ---\n",
    "    def metric_value(self, metric_key): return self.custom_metrics_dict[metric_key]"
   ]
  },
  {
   "cell_type": "markdown",
   "id": "2c35a359",
   "metadata": {
    "heading_collapsed": true
   },
   "source": [
    "## Causal Language Model"
   ]
  },
  {
   "cell_type": "code",
   "execution_count": 122,
   "id": "36f77844",
   "metadata": {
    "hidden": true
   },
   "outputs": [
    {
     "name": "stderr",
     "output_type": "stream",
     "text": [
      "Using pad_token, but it is not set yet.\n"
     ]
    }
   ],
   "source": [
    "model_cls = AutoModelForCausalLM\n",
    "\n",
    "pretrained_model_name = \"gpt2\"\n",
    "hf_arch, hf_config, hf_tokenizer, hf_model = BLURR.get_hf_objects(pretrained_model_name, model_cls=model_cls)\n",
    "\n",
    "if (hf_tokenizer.pad_token is None): hf_tokenizer.pad_token = '[PAD]'"
   ]
  },
  {
   "cell_type": "code",
   "execution_count": 123,
   "id": "f4005296",
   "metadata": {
    "hidden": true
   },
   "outputs": [],
   "source": [
    "bbtfm = HF_LMBeforeBatchTransform(hf_arch, hf_config, hf_tokenizer, hf_model, lm_strategy_cls=CausalLMStrategy)\n",
    "blocks = (HF_TextBlock(before_batch_tfm=bbtfm, input_return_type=HF_CausalLMInput), noop)\n",
    "\n",
    "dblock = DataBlock(blocks=blocks, get_x=ColReader(1), splitter=ColSplitter(col='is_valid'))"
   ]
  },
  {
   "cell_type": "code",
   "execution_count": 69,
   "id": "1411f6b7",
   "metadata": {
    "hidden": true
   },
   "outputs": [
    {
     "name": "stdout",
     "output_type": "stream",
     "text": [
      "Could not do one pass in your dataloader, there is something wrong in it\n"
     ]
    }
   ],
   "source": [
    "dls = dblock.dataloaders(df, bs=4)"
   ]
  },
  {
   "cell_type": "code",
   "execution_count": 19,
   "id": "2f17144c",
   "metadata": {
    "hidden": true
   },
   "outputs": [],
   "source": [
    "torch.save(dls, path/'gpt2_ta_dls.pkl')"
   ]
  },
  {
   "cell_type": "code",
   "execution_count": 39,
   "id": "6331ff6c",
   "metadata": {
    "hidden": true
   },
   "outputs": [],
   "source": [
    "dls = torch.load(path/'gpt2_ta_dls.pkl')"
   ]
  },
  {
   "cell_type": "code",
   "execution_count": 47,
   "id": "08cc925e",
   "metadata": {
    "hidden": true
   },
   "outputs": [],
   "source": [
    "dls.path = Path('.')\n",
    "dls.device = torch.device(0)"
   ]
  },
  {
   "cell_type": "code",
   "execution_count": 48,
   "id": "f698419f",
   "metadata": {
    "hidden": true
   },
   "outputs": [
    {
     "data": {
      "text/plain": [
       "(torch.Size([4, 1024]), torch.Size([4, 1024]), torch.Size([4, 1024]))"
      ]
     },
     "execution_count": 48,
     "metadata": {},
     "output_type": "execute_result"
    }
   ],
   "source": [
    "b = dls.one_batch()\n",
    "b[0]['input_ids'].shape, b[0]['labels'].shape, b[1].shape"
   ]
  },
  {
   "cell_type": "code",
   "execution_count": 55,
   "id": "9b068d28",
   "metadata": {
    "hidden": true
   },
   "outputs": [
    {
     "data": {
      "text/html": [
       "<table border=\"1\" class=\"dataframe\">\n",
       "  <thead>\n",
       "    <tr style=\"text-align: right;\">\n",
       "      <th></th>\n",
       "      <th>text</th>\n",
       "      <th>target</th>\n",
       "    </tr>\n",
       "  </thead>\n",
       "  <tbody>\n",
       "    <tr>\n",
       "      <th>0</th>\n",
       "      <td>XXIV World Allergy Congress 2015: Seoul, Korea. 14-17 October 2015 A1 Pirfenidone inhibits TGF-b1-induced extracellular matrix production in nasal polyp-derived fibroblasts Jae-Min Shin, Heung-Man Lee, Il-Ho Park A2 The efficacy of a 2-week course of oral steroid in the treatment of chronic spontaneous urticaria refractory to antihistamines Hyun-Sun Yoon, Gyeong Yul Park A3 The altered distribution of follicular t helper cells may predict a more pronounced clinical course of primary sjögren’s s</td>\n",
       "      <td>IV World Allergy Congress 2015: Seoul, Korea. 14-17 October 2015 A1 Pirfenidone inhibits TGF-b1-induced extracellular matrix production in nasal polyp-derived fibroblasts Jae-Min Shin, Heung-Man Lee, Il-Ho Park A2 The efficacy of a 2-week course of oral steroid in the treatment of chronic spontaneous urticaria refractory to antihistamines Hyun-Sun Yoon, Gyeong Yul Park A3 The altered distribution of follicular t helper cells may predict a more pronounced clinical course of primary sjögren’s synd</td>\n",
       "    </tr>\n",
       "    <tr>\n",
       "      <th>1</th>\n",
       "      <td>Antiplatelet and anticoagulant agents for primary prevention of thrombosis in individuals with antiphospholipid antibodies. BACKGROUND Antiphospholipid syndrome (APS) is an autoimmune disease characterised by the presence of antiphospholipid (aPL) antibodies that have prothrombotic activity. Antiphospholipid antibodies are associated with an increased risk of pregnancy complications (recurrent miscarriage, premature birth, intrauterine growth retardation) and thrombotic events (both arterial an</td>\n",
       "      <td>platelet and anticoagulant agents for primary prevention of thrombosis in individuals with antiphospholipid antibodies. BACKGROUND Antiphospholipid syndrome (APS) is an autoimmune disease characterised by the presence of antiphospholipid (aPL) antibodies that have prothrombotic activity. Antiphospholipid antibodies are associated with an increased risk of pregnancy complications (recurrent miscarriage, premature birth, intrauterine growth retardation) and thrombotic events (both arterial and ven</td>\n",
       "    </tr>\n",
       "    <tr>\n",
       "      <th>2</th>\n",
       "      <td>A prospective, randomized, controlled study assessing vagus nerve stimulation using the gammaCore®-Sapphire device for patients with moderate to severe CoViD-19 Respiratory Symptoms (SAVIOR): A structured summary of a study protocol for a randomised controlled trial\" OBJECTIVES: Primary Objective: The primary objective is to reduce initiation of mechanical ventilator dependency in patients with moderate to severe CoViD- 19. This will be measured as the difference between the control group and a</td>\n",
       "      <td>prospective, randomized, controlled study assessing vagus nerve stimulation using the gammaCore®-Sapphire device for patients with moderate to severe CoViD-19 Respiratory Symptoms (SAVIOR): A structured summary of a study protocol for a randomised controlled trial\" OBJECTIVES: Primary Objective: The primary objective is to reduce initiation of mechanical ventilator dependency in patients with moderate to severe CoViD- 19. This will be measured as the difference between the control group and act</td>\n",
       "    </tr>\n",
       "  </tbody>\n",
       "</table>"
      ],
      "text/plain": [
       "<IPython.core.display.HTML object>"
      ]
     },
     "metadata": {},
     "output_type": "display_data"
    }
   ],
   "source": [
    "dls.show_batch(dataloaders=dls, max_n=3, trunc_at=500)"
   ]
  },
  {
   "cell_type": "code",
   "execution_count": 49,
   "id": "8542e078",
   "metadata": {
    "hidden": true
   },
   "outputs": [],
   "source": [
    "model = HF_BaseModelWrapper(hf_model)\n",
    "fit_cbs = [LM_MetricsCallback()]\n",
    "\n",
    "learn = Learner(dls, \n",
    "                model,\n",
    "                opt_func=partial(Adam),\n",
    "                loss_func=HF_PreCalculatedLoss(),\n",
    "                cbs=[HF_BaseModelCallback],\n",
    "                metrics=[perplexity],\n",
    "                splitter=hf_splitter).to_fp16()\n",
    "\n",
    "learn.freeze()"
   ]
  },
  {
   "cell_type": "code",
   "execution_count": 50,
   "id": "042042ef",
   "metadata": {
    "hidden": true
   },
   "outputs": [
    {
     "data": {
      "text/plain": [
       "<fastai.learner.Learner at 0x2ba185996490>"
      ]
     },
     "execution_count": 50,
     "metadata": {},
     "output_type": "execute_result"
    }
   ],
   "source": [
    "learn.load('gpt2_10epoch', device=torch.device(0))"
   ]
  },
  {
   "cell_type": "code",
   "execution_count": 51,
   "id": "be2f0d02",
   "metadata": {
    "hidden": true
   },
   "outputs": [
    {
     "data": {
      "text/html": [],
      "text/plain": [
       "<IPython.core.display.HTML object>"
      ]
     },
     "metadata": {},
     "output_type": "display_data"
    },
    {
     "data": {
      "text/plain": [
       "HF_BaseModelWrapper (Input shape: 4 x 1024)\n",
       "============================================================================\n",
       "Layer (type)         Output Shape         Param #    Trainable \n",
       "============================================================================\n",
       "                     4 x 1024 x 768      \n",
       "Embedding                                 38597376   False     \n",
       "Embedding                                 786432     False     \n",
       "Dropout                                                        \n",
       "LayerNorm                                 1536       True      \n",
       "____________________________________________________________________________\n",
       "                     4 x 1024 x 2304     \n",
       "Conv1D                                    1771776    False     \n",
       "Conv1D                                    590592     False     \n",
       "Dropout                                                        \n",
       "Dropout                                                        \n",
       "LayerNorm                                 1536       True      \n",
       "____________________________________________________________________________\n",
       "                     4 x 1024 x 3072     \n",
       "Conv1D                                    2362368    False     \n",
       "____________________________________________________________________________\n",
       "                     4 x 1024 x 768      \n",
       "Conv1D                                    2360064    False     \n",
       "Dropout                                                        \n",
       "LayerNorm                                 1536       True      \n",
       "____________________________________________________________________________\n",
       "                     4 x 1024 x 2304     \n",
       "Conv1D                                    1771776    False     \n",
       "Conv1D                                    590592     False     \n",
       "Dropout                                                        \n",
       "Dropout                                                        \n",
       "LayerNorm                                 1536       True      \n",
       "____________________________________________________________________________\n",
       "                     4 x 1024 x 3072     \n",
       "Conv1D                                    2362368    False     \n",
       "____________________________________________________________________________\n",
       "                     4 x 1024 x 768      \n",
       "Conv1D                                    2360064    False     \n",
       "Dropout                                                        \n",
       "LayerNorm                                 1536       True      \n",
       "____________________________________________________________________________\n",
       "                     4 x 1024 x 2304     \n",
       "Conv1D                                    1771776    False     \n",
       "Conv1D                                    590592     False     \n",
       "Dropout                                                        \n",
       "Dropout                                                        \n",
       "LayerNorm                                 1536       True      \n",
       "____________________________________________________________________________\n",
       "                     4 x 1024 x 3072     \n",
       "Conv1D                                    2362368    False     \n",
       "____________________________________________________________________________\n",
       "                     4 x 1024 x 768      \n",
       "Conv1D                                    2360064    False     \n",
       "Dropout                                                        \n",
       "LayerNorm                                 1536       True      \n",
       "____________________________________________________________________________\n",
       "                     4 x 1024 x 2304     \n",
       "Conv1D                                    1771776    False     \n",
       "Conv1D                                    590592     False     \n",
       "Dropout                                                        \n",
       "Dropout                                                        \n",
       "LayerNorm                                 1536       True      \n",
       "____________________________________________________________________________\n",
       "                     4 x 1024 x 3072     \n",
       "Conv1D                                    2362368    False     \n",
       "____________________________________________________________________________\n",
       "                     4 x 1024 x 768      \n",
       "Conv1D                                    2360064    False     \n",
       "Dropout                                                        \n",
       "LayerNorm                                 1536       True      \n",
       "____________________________________________________________________________\n",
       "                     4 x 1024 x 2304     \n",
       "Conv1D                                    1771776    False     \n",
       "Conv1D                                    590592     False     \n",
       "Dropout                                                        \n",
       "Dropout                                                        \n",
       "LayerNorm                                 1536       True      \n",
       "____________________________________________________________________________\n",
       "                     4 x 1024 x 3072     \n",
       "Conv1D                                    2362368    False     \n",
       "____________________________________________________________________________\n",
       "                     4 x 1024 x 768      \n",
       "Conv1D                                    2360064    False     \n",
       "Dropout                                                        \n",
       "LayerNorm                                 1536       True      \n",
       "____________________________________________________________________________\n",
       "                     4 x 1024 x 2304     \n",
       "Conv1D                                    1771776    False     \n",
       "Conv1D                                    590592     False     \n",
       "Dropout                                                        \n",
       "Dropout                                                        \n",
       "LayerNorm                                 1536       True      \n",
       "____________________________________________________________________________\n",
       "                     4 x 1024 x 3072     \n",
       "Conv1D                                    2362368    False     \n",
       "____________________________________________________________________________\n",
       "                     4 x 1024 x 768      \n",
       "Conv1D                                    2360064    False     \n",
       "Dropout                                                        \n",
       "LayerNorm                                 1536       True      \n",
       "____________________________________________________________________________\n",
       "                     4 x 1024 x 2304     \n",
       "Conv1D                                    1771776    False     \n",
       "Conv1D                                    590592     False     \n",
       "Dropout                                                        \n",
       "Dropout                                                        \n",
       "LayerNorm                                 1536       True      \n",
       "____________________________________________________________________________\n",
       "                     4 x 1024 x 3072     \n",
       "Conv1D                                    2362368    False     \n",
       "____________________________________________________________________________\n",
       "                     4 x 1024 x 768      \n",
       "Conv1D                                    2360064    False     \n",
       "Dropout                                                        \n",
       "LayerNorm                                 1536       True      \n",
       "____________________________________________________________________________\n",
       "                     4 x 1024 x 2304     \n",
       "Conv1D                                    1771776    False     \n",
       "Conv1D                                    590592     False     \n",
       "Dropout                                                        \n",
       "Dropout                                                        \n",
       "LayerNorm                                 1536       True      \n",
       "____________________________________________________________________________\n",
       "                     4 x 1024 x 3072     \n",
       "Conv1D                                    2362368    False     \n",
       "____________________________________________________________________________\n",
       "                     4 x 1024 x 768      \n",
       "Conv1D                                    2360064    False     \n",
       "Dropout                                                        \n",
       "LayerNorm                                 1536       True      \n",
       "____________________________________________________________________________\n",
       "                     4 x 1024 x 2304     \n",
       "Conv1D                                    1771776    False     \n",
       "Conv1D                                    590592     False     \n",
       "Dropout                                                        \n",
       "Dropout                                                        \n",
       "LayerNorm                                 1536       True      \n",
       "____________________________________________________________________________\n",
       "                     4 x 1024 x 3072     \n",
       "Conv1D                                    2362368    False     \n",
       "____________________________________________________________________________\n",
       "                     4 x 1024 x 768      \n",
       "Conv1D                                    2360064    False     \n",
       "Dropout                                                        \n",
       "LayerNorm                                 1536       True      \n",
       "____________________________________________________________________________\n",
       "                     4 x 1024 x 2304     \n",
       "Conv1D                                    1771776    False     \n",
       "Conv1D                                    590592     False     \n",
       "Dropout                                                        \n",
       "Dropout                                                        \n",
       "LayerNorm                                 1536       True      \n",
       "____________________________________________________________________________\n",
       "                     4 x 1024 x 3072     \n",
       "Conv1D                                    2362368    False     \n",
       "____________________________________________________________________________\n",
       "                     4 x 1024 x 768      \n",
       "Conv1D                                    2360064    False     \n",
       "Dropout                                                        \n",
       "LayerNorm                                 1536       True      \n",
       "____________________________________________________________________________\n",
       "                     4 x 1024 x 2304     \n",
       "Conv1D                                    1771776    False     \n",
       "Conv1D                                    590592     False     \n",
       "Dropout                                                        \n",
       "Dropout                                                        \n",
       "LayerNorm                                 1536       True      \n",
       "____________________________________________________________________________\n",
       "                     4 x 1024 x 3072     \n",
       "Conv1D                                    2362368    False     \n",
       "____________________________________________________________________________\n",
       "                     4 x 1024 x 768      \n",
       "Conv1D                                    2360064    False     \n",
       "Dropout                                                        \n",
       "LayerNorm                                 1536       True      \n",
       "____________________________________________________________________________\n",
       "                     4 x 1024 x 2304     \n",
       "Conv1D                                    1771776    False     \n",
       "Conv1D                                    590592     False     \n",
       "Dropout                                                        \n",
       "Dropout                                                        \n",
       "LayerNorm                                 1536       True      \n",
       "____________________________________________________________________________\n",
       "                     4 x 1024 x 3072     \n",
       "Conv1D                                    2362368    False     \n",
       "____________________________________________________________________________\n",
       "                     4 x 1024 x 768      \n",
       "Conv1D                                    2360064    False     \n",
       "Dropout                                                        \n",
       "LayerNorm                                 1536       True      \n",
       "____________________________________________________________________________\n",
       "                     4 x 1024 x 50257    \n",
       "Linear                                    38597376   False     \n",
       "____________________________________________________________________________\n",
       "\n",
       "Total params: 163,037,184\n",
       "Total trainable params: 38,400\n",
       "Total non-trainable params: 162,998,784\n",
       "\n",
       "Optimizer used: functools.partial(<function Adam at 0x2ba15bd755e0>)\n",
       "Loss function: <blurr.modeling.core.HF_PreCalculatedLoss object at 0x2ba1b52f89a0>\n",
       "\n",
       "Model frozen up to parameter group #4\n",
       "\n",
       "Callbacks:\n",
       "  - TrainEvalCallback\n",
       "  - HF_BaseModelCallback\n",
       "  - MixedPrecision\n",
       "  - Recorder\n",
       "  - ProgressCallback"
      ]
     },
     "execution_count": 51,
     "metadata": {},
     "output_type": "execute_result"
    }
   ],
   "source": [
    "learn.summary()"
   ]
  },
  {
   "cell_type": "code",
   "execution_count": 24,
   "id": "8950b932",
   "metadata": {
    "hidden": true
   },
   "outputs": [
    {
     "name": "stdout",
     "output_type": "stream",
     "text": [
      "5\n"
     ]
    }
   ],
   "source": [
    "print(len(learn.opt.param_groups))"
   ]
  },
  {
   "cell_type": "code",
   "execution_count": 25,
   "id": "648297b9",
   "metadata": {
    "hidden": true
   },
   "outputs": [
    {
     "data": {
      "text/html": [],
      "text/plain": [
       "<IPython.core.display.HTML object>"
      ]
     },
     "metadata": {},
     "output_type": "display_data"
    },
    {
     "data": {
      "text/plain": [
       "SuggestedLRs(minimum=7.585775847473997e-08, steep=6.309573450380412e-07, valley=0.0063095735386013985, slide=0.0010000000474974513)"
      ]
     },
     "execution_count": 25,
     "metadata": {},
     "output_type": "execute_result"
    },
    {
     "data": {
      "image/png": "[encoded data removed]",
      "text/plain": [
       "<Figure size 720x576 with 1 Axes>"
      ]
     },
     "metadata": {
      "needs_background": "light"
     },
     "output_type": "display_data"
    }
   ],
   "source": [
    "learn.lr_find(suggest_funcs=[minimum, steep, valley, slide])"
   ]
  },
  {
   "cell_type": "code",
   "execution_count": null,
   "id": "dc23176f",
   "metadata": {
    "hidden": true
   },
   "outputs": [
    {
     "data": {
      "text/html": [
       "\n",
       "    <div>\n",
       "        <style>\n",
       "            /* Turns off some styling */\n",
       "            progress {\n",
       "                /* gets rid of default border in Firefox and Opera. */\n",
       "                border: none;\n",
       "                /* Needs to be in here for Safari polyfill so background images work as expected. */\n",
       "                background-size: auto;\n",
       "            }\n",
       "            .progress-bar-interrupted, .progress-bar-interrupted::-webkit-progress-bar {\n",
       "                background: #F44336;\n",
       "            }\n",
       "        </style>\n",
       "      <progress value='0' class='' max='1' style='width:300px; height:20px; vertical-align: middle;'></progress>\n",
       "      0.00% [0/1 00:00<00:00]\n",
       "    </div>\n",
       "    \n",
       "<table border=\"1\" class=\"dataframe\">\n",
       "  <thead>\n",
       "    <tr style=\"text-align: left;\">\n",
       "      <th>epoch</th>\n",
       "      <th>train_loss</th>\n",
       "      <th>valid_loss</th>\n",
       "      <th>perplexity</th>\n",
       "      <th>lm_accuracy</th>\n",
       "      <th>time</th>\n",
       "    </tr>\n",
       "  </thead>\n",
       "  <tbody>\n",
       "  </tbody>\n",
       "</table><p>\n",
       "\n",
       "    <div>\n",
       "        <style>\n",
       "            /* Turns off some styling */\n",
       "            progress {\n",
       "                /* gets rid of default border in Firefox and Opera. */\n",
       "                border: none;\n",
       "                /* Needs to be in here for Safari polyfill so background images work as expected. */\n",
       "                background-size: auto;\n",
       "            }\n",
       "            .progress-bar-interrupted, .progress-bar-interrupted::-webkit-progress-bar {\n",
       "                background: #F44336;\n",
       "            }\n",
       "        </style>\n",
       "      <progress value='4671' class='' max='39135' style='width:300px; height:20px; vertical-align: middle;'></progress>\n",
       "      11.94% [4671/39135 16:32<2:02:02 3.4897]\n",
       "    </div>\n",
       "    "
      ],
      "text/plain": [
       "<IPython.core.display.HTML object>"
      ]
     },
     "metadata": {},
     "output_type": "display_data"
    }
   ],
   "source": [
    "learn.fit_one_cycle(1, lr_max=3e-3, cbs=fit_cbs)"
   ]
  },
  {
   "cell_type": "code",
   "execution_count": 59,
   "id": "cba4a8e8",
   "metadata": {
    "hidden": true
   },
   "outputs": [
    {
     "data": {
      "text/plain": [
       "<fastai.learner.Learner at 0x2b24fcf92e20>"
      ]
     },
     "execution_count": 59,
     "metadata": {},
     "output_type": "execute_result"
    }
   ],
   "source": [
    "learn.load('gpt2_1epoch')"
   ]
  },
  {
   "cell_type": "code",
   "execution_count": 60,
   "id": "bed9675c",
   "metadata": {
    "hidden": true
   },
   "outputs": [],
   "source": [
    "#export\n",
    "@typedispatch\n",
    "def show_results(\n",
    "    # This typedispatched `show_results` will be called for `HF_CausalLMInput` typed inputs\n",
    "    x:HF_CausalLMInput, \n",
    "    # Your targets\n",
    "    y,        \n",
    "    # Your raw inputs/targets\n",
    "    samples,     \n",
    "    # The model's predictions\n",
    "    outs,           \n",
    "    # Your `Learner`. This is required so as to get at the Hugging Face objects for decoding them into \n",
    "    # something understandable\n",
    "    learner, \n",
    "    # Your `show_results` context\n",
    "    ctxs=None, \n",
    "    # The maximum number of items to show\n",
    "    max_n=6, \n",
    "     # Any truncation your want applied to your decoded inputs\n",
    "    trunc_at=None, \n",
    "    # Any other keyword arguments you want applied to `show_results`\n",
    "    **kwargs\n",
    "):  \n",
    "    # grab our tokenizer and ignore token to decode\n",
    "    tfm = first_blurr_tfm(learner.dls)\n",
    "    \n",
    "    hf_config = tfm.hf_config\n",
    "    hf_tokenizer = tfm.hf_tokenizer\n",
    "    ignore_token_id = tfm.ignore_token_id\n",
    "    \n",
    "    res = L([(\n",
    "        hf_tokenizer.decode(s[0], skip_special_tokens=True)[:trunc_at], \n",
    "        hf_tokenizer.decode(s[1][s[1] != ignore_token_id], skip_special_tokens=True)[:trunc_at], \n",
    "        hf_tokenizer.decode(pred[0], skip_special_tokens=True)[:trunc_at], \n",
    "    ) for s, pred in zip(samples, outs) ])          \n",
    "    \n",
    "    display_df(pd.DataFrame(res, columns=['text', 'target', 'prediction'])[:max_n])\n",
    "    return ctxs"
   ]
  },
  {
   "cell_type": "code",
   "execution_count": 61,
   "id": "f30e47b1",
   "metadata": {
    "hidden": true
   },
   "outputs": [
    {
     "data": {
      "text/html": [],
      "text/plain": [
       "<IPython.core.display.HTML object>"
      ]
     },
     "metadata": {},
     "output_type": "display_data"
    },
    {
     "data": {
      "text/html": [
       "<table border=\"1\" class=\"dataframe\">\n",
       "  <thead>\n",
       "    <tr style=\"text-align: right;\">\n",
       "      <th></th>\n",
       "      <th>text</th>\n",
       "      <th>target</th>\n",
       "      <th>prediction</th>\n",
       "    </tr>\n",
       "  </thead>\n",
       "  <tbody>\n",
       "    <tr>\n",
       "      <th>0</th>\n",
       "      <td>Abstracts from the 3rd International Genomic Medicine Conference (3rd IGMC 2015): Jeddah, Kingdom of Saudi Arabia. 30 November - 3 December 2015 O1 Regulation of genes by telomere length over long distances Jerry W. Shay O2 The microtubule destabili</td>\n",
       "      <td>s from the 3rd International Genomic Medicine Conference (3rd IGMC 2015): Jeddah, Kingdom of Saudi Arabia. 30 November - 3 December 2015 O1 Regulation of genes by telomere length over long distances Jerry W. Shay O2 The microtubule destabilizer KIF2A</td>\n",
       "      <td>of  the COrd International Conferenceome Survey Conference COrd InternationalME)) AMAah, Saudi of Saudi Arabia  - 2015 31 December 2015.phthal-: the in theomere length and the periods. and. M,1 Regulation 3RNAule lengthizes and12 is1 tel expressions</td>\n",
       "    </tr>\n",
       "    <tr>\n",
       "      <th>1</th>\n",
       "      <td>Cellular composition, coronavirus antigen expression and production of specific antibodies in lesions in feline infectious peritonitis Abstract Twenty-three cats with spontaneous feline infectious peritonitis (FIP) were examined by light microscopy</td>\n",
       "      <td>composition, coronavirus antigen expression and production of specific antibodies in lesions in feline infectious peritonitis Abstract Twenty-three cats with spontaneous feline infectious peritonitis (FIP) were examined by light microscopy including</td>\n",
       "      <td>and of metabolismavirus,,, the in the proteins against the of theeline  diseaseitoneitis patients:-five years with f pereline infectious peritonitis (FIP) were treated for immun microscopy. theohistochemistry, immunology. a to determine the composit</td>\n",
       "    </tr>\n",
       "    <tr>\n",
       "      <th>2</th>\n",
       "      <td>Coinfección vírica en las infecciones respiratorias infantiles Resumen Introducción Las técnicas moleculares han permitido un mejor conocimiento de la etiología de las infecciones respiratorias infantiles. El objetivo del estudio fue analizar la coi</td>\n",
       "      <td>fección vírica en las infecciones respiratorias infantiles Resumen Introducción Las técnicas moleculares han permitido un mejor conocimiento de la etiología de las infecciones respiratorias infantiles. El objetivo del estudio fue analizar la coinfecc</td>\n",
       "      <td>-asón deícul de el raresiones deacionios deil enpir dección de Infércnnicas dexas dean dei enajorá eleriento de la comaciónía de la infecciones respiratorias infantiles.  coronetivo de adoio de unizaci en etfección de en por comacionón deoc coronçoc</td>\n",
       "    </tr>\n",
       "    <tr>\n",
       "      <th>3</th>\n",
       "      <td>Endovenous thermal ablation for healing venous ulcers and preventing recurrence. BACKGROUND Venous leg ulcers represent the worst extreme within the spectrum of chronic venous disease. Affecting up to 3% of the adult population, this typically chron</td>\n",
       "      <td>ovenous thermal ablation for healing venous ulcers and preventing recurrence. BACKGROUND Venous leg ulcers represent the worst extreme within the spectrum of chronic venous disease. Affecting up to 3% of the adult population, this typically chronic,</td>\n",
       "      <td>of- and imaginglation of CO ofous thcers  other infectionurrence of GROUND:ous ul ulcers are a most- cases the human of chronic inflammatoryous disease. Theed the to 90% of patients population population, ven disease occurs inflammation non disease</td>\n",
       "    </tr>\n",
       "  </tbody>\n",
       "</table>"
      ],
      "text/plain": [
       "<IPython.core.display.HTML object>"
      ]
     },
     "metadata": {},
     "output_type": "display_data"
    }
   ],
   "source": [
    "learn.show_results(learner=learn, trunc_at=250)"
   ]
  },
  {
   "cell_type": "code",
   "execution_count": 52,
   "id": "c88e1d11",
   "metadata": {
    "hidden": true
   },
   "outputs": [
    {
     "data": {
      "text/plain": [
       "[' Origin of corona virus is at the center of the COVID-19 pandemic vernacular reports on the evolutionary and evolutionary origins of the 2019 novel Coronavirus (SARS-CoV-2) suggest that a new virus may']"
      ]
     },
     "execution_count": 52,
     "metadata": {},
     "output_type": "execute_result"
    }
   ],
   "source": [
    "learn.blurr_generate('Origin of corona virus is', max_length=50, do_sample=True, top_k=25)"
   ]
  },
  {
   "cell_type": "markdown",
   "id": "4a14e39c",
   "metadata": {},
   "source": [
    "## Masked Language Modeling"
   ]
  },
  {
   "cell_type": "code",
   "execution_count": 121,
   "id": "12ba6202",
   "metadata": {},
   "outputs": [],
   "source": [
    "try: del learn; torch.cuda.empty_cache()\n",
    "except: pass"
   ]
  },
  {
   "cell_type": "code",
   "execution_count": 10,
   "id": "bdaa92d1",
   "metadata": {},
   "outputs": [],
   "source": [
    "model_cls = AutoModelForMaskedLM\n",
    "\n",
    "pretrained_model_name = \"distilroberta-base\"\n",
    "hf_arch, hf_config, hf_tokenizer, hf_model = BLURR.get_hf_objects(pretrained_model_name, model_cls=model_cls)"
   ]
  },
  {
   "cell_type": "code",
   "execution_count": 11,
   "id": "570b0c9b",
   "metadata": {},
   "outputs": [],
   "source": [
    "bbtfm = HF_LMBeforeBatchTransform(hf_arch, hf_config, hf_tokenizer, hf_model, lm_strategy_cls=BertMLMStrategy)\n",
    "blocks = (HF_TextBlock(before_batch_tfm=bbtfm, input_return_type=HF_MLMInput), noop)\n",
    "\n",
    "dblock = DataBlock(blocks=blocks, get_x=ColReader(1), splitter=ColSplitter(col='is_valid'))"
   ]
  },
  {
   "cell_type": "code",
   "execution_count": null,
   "id": "eac36da1",
   "metadata": {},
   "outputs": [],
   "source": [
    "dls = dblock.dataloaders(df, bs=6)"
   ]
  },
  {
   "cell_type": "code",
   "execution_count": 12,
   "id": "16f5bb19",
   "metadata": {},
   "outputs": [],
   "source": [
    "dls = torch.load(path/'distilroberta_ta_dls.pkl')"
   ]
  },
  {
   "cell_type": "code",
   "execution_count": 16,
   "id": "cfe5812a",
   "metadata": {},
   "outputs": [
    {
     "data": {
      "text/plain": [
       "(torch.Size([16, 512]), torch.Size([16, 512]), torch.Size([16, 512]))"
      ]
     },
     "execution_count": 16,
     "metadata": {},
     "output_type": "execute_result"
    }
   ],
   "source": [
    "b = dls.one_batch()\n",
    "b[0]['input_ids'].shape, b[0]['labels'].shape, b[1].shape"
   ]
  },
  {
   "cell_type": "code",
   "execution_count": 17,
   "id": "dbbef077",
   "metadata": {},
   "outputs": [
    {
     "data": {
      "text/html": [
       "<table border=\"1\" class=\"dataframe\">\n",
       "  <thead>\n",
       "    <tr style=\"text-align: right;\">\n",
       "      <th></th>\n",
       "      <th>text</th>\n",
       "      <th>target</th>\n",
       "    </tr>\n",
       "  </thead>\n",
       "  <tbody>\n",
       "    <tr>\n",
       "      <th>0</th>\n",
       "      <td>XX IV  World  All ergy  Congress  2015 :  Seoul ,  Korea . &lt;mask&gt; &lt;mask&gt; 17  October  2015  A &lt;mask&gt;  Pir fen id one  inhibits &lt;mask&gt; GF - b 1 - induced  ext race &lt;mask&gt;  matrix  production  in  nasal  poly p - derived  fib ro bl asts  Jae - Min  Shin ,  He ung - Man  Lee ,  Il - Ho  Park [ A] 2  The  efficacy  of  a  2 - week  course  of  oral  steroid  in &lt;mask&gt;  treatment [Year] [ chronic] [ spontaneous] [ cruiser] tic aria  ref ract ory  to  anti hist amines  Hy un - Sun  Y oon ,  G &lt;mask&gt; ong &lt;mask&gt; ul  Park &lt;mask&gt; 3  The  altered  distribution  of  foll icular  t  helper  cells  may  predict  a  more  pronounced  clinical  course  of &lt;mask&gt;  s &lt;mask&gt; ö gren � � s  syndrome &lt;mask&gt; it  Ze her  A 4  Bet am [scription] as one  supp resses  Th [ boredom]  cell  development  induced  by  l anger h ans &lt;mask&gt;  like  d end &lt;mask&gt;  cells &lt;mask&gt; uh iko  Mats ui ,  S aki  T ama &lt;mask&gt; ,  Re iko  I ked a  A 5  An  evaluation  of  various all erg ens  in  cases  of &lt;mask&gt; &lt;mask&gt; ch ial  asthma  at  luck now  and [ neighbouring]  districts  by  intr ader mal  sk int &lt;mask&gt; &lt;mask&gt; s ush &lt;mask&gt;  Sur i ,  Dr anu  Sur [ Saras]  A 6 &lt;mask&gt;  fer q ency &lt;mask&gt; &lt;mask&gt; [ in]  childhood  asthma [ Mar] &lt;mask&gt; [ BRA]  He id ar z ade h &lt;mask&gt; ani  A 7 [ Steven] [ john] son  syndrome  caused  by &lt;mask&gt; oid</td>\n",
       "      <td>XX IV  World  All ergy  Congress  2015 :  Seoul ,  Korea . [ 14] [-] 17  October  2015  A [1]  Pir fen id one  inhibits [ T] GF - b 1 - induced  ext race [llular]  matrix  production  in  nasal  poly p - derived  fib ro bl asts  Jae - Min  Shin ,  He ung - Man  Lee ,  Il - Ho  Park [ A] 2  The  efficacy  of  a  2 - week  course  of  oral  steroid  in [ the]  treatment [ of] [ chronic] [ spontaneous] [ ur] tic aria  ref ract ory  to  anti hist amines  Hy un - Sun  Y oon ,  G [ye] ong [ Y] ul  Park [ A] 3  The  altered  distribution  of  foll icular  t  helper  cells  may  predict  a  more  pronounced  clinical  course  of [ primary]  s [j] ö gren � � s  syndrome [ Marg] it  Ze her  A 4  Bet am [eth] as one  supp resses  Th [2]  cell  development  induced  by  l anger h ans [ cell]  like  d end [ritic]  cells [ Kats] uh iko  Mats ui ,  S aki  T ama [i] ,  Re iko  I ked a  A 5  An  evaluation  of  various all erg ens  in  cases  of [ allergic] [ bron] ch ial  asthma  at  luck now  and [ neighbouring]  districts  by  intr ader mal  sk int [est] [ Dr] s ush [il]  Sur i ,  Dr anu  Sur [i]  A 6 [ Evaluation]  fer q ency [ of] [ ADHD] [ in]  childhood  asthma [ Mar] [zie] [h]  He id ar z ade h [ Ar] ani  A 7 [ Steven] [ john] son  syndrome  caused  by [ typh] oid</td>\n",
       "    </tr>\n",
       "    <tr>\n",
       "      <th>1</th>\n",
       "      <td>Current  perspectives  in  transf usion - &lt;mask&gt; mitted  infectious  diseases :  emerging [ and]  re - &lt;mask&gt; ging  infections  BACK GROUND &lt;mask&gt;  In  August  2009 ,  a  group  from  the &lt;mask&gt; AB &lt;mask&gt;  ( St ramer  et  al .,  Trans f usion &lt;mask&gt; ; 99 : 1 S – &lt;mask&gt; S ,  Emerging  Infect ious  Disease  Agents  and [ facets]  Potential  Threat [ to]  Trans f usion  Safety ;  http &lt;mask&gt; www . [ Lester] abb . org / resources / b ct &lt;mask&gt; e id / Pages / default . aspx [)]  published  a  Supplement  to &lt;mask&gt; f usion  that  reviewed  emerging  infectious  disease  ( E ID )  agents  that  pose &lt;mask&gt;  real  or  theoretical  threat  to  transf usion  safety &lt;mask&gt;  but  for  which &lt;mask&gt;  existing  effective  intervention  is &lt;mask&gt; .  The  necessary  attributes  for  transf usion  transmission  were  outlined  including : &lt;mask&gt; &lt;mask&gt;  the  agent &lt;mask&gt; &lt;mask&gt;  during  the  donor &lt;mask&gt;  as ym pt omatic  phase , &lt;mask&gt;  agent 's  survival / pers istence  in  blood  during  processing / storage ,  and  last ly  that  the [ pel] [socket]  be &lt;mask&gt;  as  responsible &lt;mask&gt;  a  clinically  apparent  outcome  in  at  least  a  proportion  of  recipients  who  become  infected .  Without  these &lt;mask&gt; &lt;mask&gt;  agents &lt;mask&gt;  not  considered  as &lt;mask&gt;  transf usion - trans mission  threat  and  were  excluded .  S ixty - eight  such [ agents]  were &lt;mask&gt;  with  enough  evidence / like lihood  of  transf &lt;mask&gt;  transmission  ( &lt;mask&gt; . g .,  blood  phase )  and  potential  for  clinical [ treasures]  to  warrant  further</td>\n",
       "      <td>Current  perspectives  in  transf usion - [trans] mitted  infectious  diseases :  emerging [ and]  re - [emer] ging  infections  BACK GROUND [:]  In  August  2009 ,  a  group  from  the [ A] AB [B]  ( St ramer  et  al .,  Trans f usion [ 2009] ; 99 : 1 S – [29] S ,  Emerging  Infect ious  Disease  Agents  and [ their]  Potential  Threat [ to]  Trans f usion  Safety ;  http [://] www . [a] abb . org / resources / b ct [/] e id / Pages / default . aspx [)]  published  a  Supplement  to [ Trans] f usion  that  reviewed  emerging  infectious  disease  ( E ID )  agents  that  pose [ a]  real  or  theoretical  threat  to  transf usion  safety [,]  but  for  which [ an]  existing  effective  intervention  is [ lacking] .  The  necessary  attributes  for  transf usion  transmission  were  outlined  including : [ presence] [ of]  the  agent [ in] [ blood]  during  the  donor ['s]  as ym pt omatic  phase , [ the]  agent 's  survival / pers istence  in  blood  during  processing / storage ,  and  last ly  that  the [ agent] [ must]  be [ recognized]  as  responsible [ for]  a  clinically  apparent  outcome  in  at  least  a  proportion  of  recipients  who  become  infected .  Without  these [ attributes] [,]  agents [ are]  not  considered  as [ a]  transf usion - trans mission  threat  and  were  excluded .  S ixty - eight  such [ agents]  were [ identified]  with  enough  evidence / like lihood  of  transf [usion]  transmission  ( [e] . g .,  blood  phase )  and  potential  for  clinical [ disease]  to  warrant  further</td>\n",
       "    </tr>\n",
       "  </tbody>\n",
       "</table>"
      ],
      "text/plain": [
       "<IPython.core.display.HTML object>"
      ]
     },
     "metadata": {},
     "output_type": "display_data"
    }
   ],
   "source": [
    "dls.show_batch(dataloaders=dls, max_n=2, trunc_at=250)"
   ]
  },
  {
   "cell_type": "code",
   "execution_count": 13,
   "id": "d15398f1",
   "metadata": {},
   "outputs": [],
   "source": [
    "model = HF_BaseModelWrapper(hf_model)\n",
    "fit_cbs = [LM_MetricsCallback()]\n",
    "\n",
    "learn = Learner(dls, \n",
    "                model,\n",
    "                opt_func=partial(Adam, decouple_wd=True),\n",
    "                loss_func= HF_PreCalculatedLoss(),\n",
    "                cbs=[HF_BaseModelCallback],\n",
    "                metrics=[perplexity],\n",
    "                splitter=hf_splitter).to_fp16()\n",
    "\n",
    "learn.freeze()"
   ]
  },
  {
   "cell_type": "code",
   "execution_count": null,
   "id": "cc08d641",
   "metadata": {},
   "outputs": [],
   "source": [
    "learn.unfreeze()"
   ]
  },
  {
   "cell_type": "code",
   "execution_count": 14,
   "id": "eb0f942f",
   "metadata": {},
   "outputs": [
    {
     "data": {
      "text/plain": [
       "<fastai.learner.Learner at 0x2aea491faee0>"
      ]
     },
     "execution_count": 14,
     "metadata": {},
     "output_type": "execute_result"
    }
   ],
   "source": [
    "learn.load('distilroberta_10epoch')"
   ]
  },
  {
   "cell_type": "code",
   "execution_count": 75,
   "id": "b7f0f68d",
   "metadata": {},
   "outputs": [
    {
     "data": {
      "text/html": [],
      "text/plain": [
       "<IPython.core.display.HTML object>"
      ]
     },
     "metadata": {},
     "output_type": "display_data"
    },
    {
     "data": {
      "text/plain": [
       "HF_BaseModelWrapper (Input shape: 16 x 512)\n",
       "============================================================================\n",
       "Layer (type)         Output Shape         Param #    Trainable \n",
       "============================================================================\n",
       "                     16 x 512 x 768      \n",
       "Embedding                                 38603520   False     \n",
       "Embedding                                 394752     False     \n",
       "Embedding                                 768        False     \n",
       "LayerNorm                                 1536       True      \n",
       "Dropout                                                        \n",
       "Linear                                    590592     False     \n",
       "Linear                                    590592     False     \n",
       "Linear                                    590592     False     \n",
       "Dropout                                                        \n",
       "Linear                                    590592     False     \n",
       "LayerNorm                                 1536       True      \n",
       "Dropout                                                        \n",
       "____________________________________________________________________________\n",
       "                     16 x 512 x 3072     \n",
       "Linear                                    2362368    False     \n",
       "____________________________________________________________________________\n",
       "                     16 x 512 x 768      \n",
       "Linear                                    2360064    False     \n",
       "LayerNorm                                 1536       True      \n",
       "Dropout                                                        \n",
       "Linear                                    590592     False     \n",
       "Linear                                    590592     False     \n",
       "Linear                                    590592     False     \n",
       "Dropout                                                        \n",
       "Linear                                    590592     False     \n",
       "LayerNorm                                 1536       True      \n",
       "Dropout                                                        \n",
       "____________________________________________________________________________\n",
       "                     16 x 512 x 3072     \n",
       "Linear                                    2362368    False     \n",
       "____________________________________________________________________________\n",
       "                     16 x 512 x 768      \n",
       "Linear                                    2360064    False     \n",
       "LayerNorm                                 1536       True      \n",
       "Dropout                                                        \n",
       "Linear                                    590592     False     \n",
       "Linear                                    590592     False     \n",
       "Linear                                    590592     False     \n",
       "Dropout                                                        \n",
       "Linear                                    590592     False     \n",
       "LayerNorm                                 1536       True      \n",
       "Dropout                                                        \n",
       "____________________________________________________________________________\n",
       "                     16 x 512 x 3072     \n",
       "Linear                                    2362368    False     \n",
       "____________________________________________________________________________\n",
       "                     16 x 512 x 768      \n",
       "Linear                                    2360064    False     \n",
       "LayerNorm                                 1536       True      \n",
       "Dropout                                                        \n",
       "Linear                                    590592     False     \n",
       "Linear                                    590592     False     \n",
       "Linear                                    590592     False     \n",
       "Dropout                                                        \n",
       "Linear                                    590592     False     \n",
       "LayerNorm                                 1536       True      \n",
       "Dropout                                                        \n",
       "____________________________________________________________________________\n",
       "                     16 x 512 x 3072     \n",
       "Linear                                    2362368    False     \n",
       "____________________________________________________________________________\n",
       "                     16 x 512 x 768      \n",
       "Linear                                    2360064    False     \n",
       "LayerNorm                                 1536       True      \n",
       "Dropout                                                        \n",
       "Linear                                    590592     False     \n",
       "Linear                                    590592     False     \n",
       "Linear                                    590592     False     \n",
       "Dropout                                                        \n",
       "Linear                                    590592     False     \n",
       "LayerNorm                                 1536       True      \n",
       "Dropout                                                        \n",
       "____________________________________________________________________________\n",
       "                     16 x 512 x 3072     \n",
       "Linear                                    2362368    False     \n",
       "____________________________________________________________________________\n",
       "                     16 x 512 x 768      \n",
       "Linear                                    2360064    False     \n",
       "LayerNorm                                 1536       True      \n",
       "Dropout                                                        \n",
       "Linear                                    590592     False     \n",
       "Linear                                    590592     False     \n",
       "Linear                                    590592     False     \n",
       "Dropout                                                        \n",
       "Linear                                    590592     False     \n",
       "LayerNorm                                 1536       True      \n",
       "Dropout                                                        \n",
       "____________________________________________________________________________\n",
       "                     16 x 512 x 3072     \n",
       "Linear                                    2362368    False     \n",
       "____________________________________________________________________________\n",
       "                     16 x 512 x 768      \n",
       "Linear                                    2360064    False     \n",
       "LayerNorm                                 1536       True      \n",
       "Dropout                                                        \n",
       "Linear                                    590592     True      \n",
       "LayerNorm                                 1536       True      \n",
       "____________________________________________________________________________\n",
       "                     16 x 512 x 50265    \n",
       "Linear                                    38653785   False     \n",
       "____________________________________________________________________________\n",
       "\n",
       "Total params: 120,773,721\n",
       "Total trainable params: 612,096\n",
       "Total non-trainable params: 120,161,625\n",
       "\n",
       "Optimizer used: functools.partial(<function Adam at 0x2ba15bd755e0>, decouple_wd=True)\n",
       "Loss function: <blurr.modeling.core.HF_PreCalculatedLoss object at 0x2ba185cdb1c0>\n",
       "\n",
       "Model frozen up to parameter group #2\n",
       "\n",
       "Callbacks:\n",
       "  - TrainEvalCallback\n",
       "  - HF_BaseModelCallback\n",
       "  - MixedPrecision\n",
       "  - Recorder\n",
       "  - ProgressCallback"
      ]
     },
     "execution_count": 75,
     "metadata": {},
     "output_type": "execute_result"
    }
   ],
   "source": [
    "learn.summary()"
   ]
  },
  {
   "cell_type": "code",
   "execution_count": 157,
   "id": "a5f705a1",
   "metadata": {},
   "outputs": [
    {
     "name": "stdout",
     "output_type": "stream",
     "text": [
      "3\n"
     ]
    }
   ],
   "source": [
    "print(len(learn.opt.param_groups))"
   ]
  },
  {
   "cell_type": "code",
   "execution_count": 29,
   "id": "e8b6dd4e",
   "metadata": {},
   "outputs": [
    {
     "data": {
      "text/html": [],
      "text/plain": [
       "<IPython.core.display.HTML object>"
      ]
     },
     "metadata": {},
     "output_type": "display_data"
    },
    {
     "data": {
      "text/plain": [
       "SuggestedLRs(minimum=0.00020892962347716094, steep=5.248074739938602e-05, valley=7.585775892948732e-05, slide=0.0691830962896347)"
      ]
     },
     "execution_count": 29,
     "metadata": {},
     "output_type": "execute_result"
    },
    {
     "data": {
      "image/png": "[encoded data removed]",
      "text/plain": [
       "<Figure size 720x576 with 1 Axes>"
      ]
     },
     "metadata": {
      "needs_background": "light"
     },
     "output_type": "display_data"
    }
   ],
   "source": [
    "learn.lr_find(suggest_funcs=[minimum, steep, valley, slide])"
   ]
  },
  {
   "cell_type": "code",
   "execution_count": 30,
   "id": "d3ffb9aa",
   "metadata": {},
   "outputs": [
    {
     "data": {
      "text/html": [
       "\n",
       "    <div>\n",
       "        <style>\n",
       "            /* Turns off some styling */\n",
       "            progress {\n",
       "                /* gets rid of default border in Firefox and Opera. */\n",
       "                border: none;\n",
       "                /* Needs to be in here for Safari polyfill so background images work as expected. */\n",
       "                background-size: auto;\n",
       "            }\n",
       "            .progress-bar-interrupted, .progress-bar-interrupted::-webkit-progress-bar {\n",
       "                background: #F44336;\n",
       "            }\n",
       "        </style>\n",
       "      <progress value='0' class='' max='1' style='width:300px; height:20px; vertical-align: middle;'></progress>\n",
       "      0.00% [0/1 00:00<00:00]\n",
       "    </div>\n",
       "    \n",
       "<table border=\"1\" class=\"dataframe\">\n",
       "  <thead>\n",
       "    <tr style=\"text-align: left;\">\n",
       "      <th>epoch</th>\n",
       "      <th>train_loss</th>\n",
       "      <th>valid_loss</th>\n",
       "      <th>perplexity</th>\n",
       "      <th>lm_accuracy</th>\n",
       "      <th>time</th>\n",
       "    </tr>\n",
       "  </thead>\n",
       "  <tbody>\n",
       "  </tbody>\n",
       "</table><p>\n",
       "\n",
       "    <div>\n",
       "        <style>\n",
       "            /* Turns off some styling */\n",
       "            progress {\n",
       "                /* gets rid of default border in Firefox and Opera. */\n",
       "                border: none;\n",
       "                /* Needs to be in here for Safari polyfill so background images work as expected. */\n",
       "                background-size: auto;\n",
       "            }\n",
       "            .progress-bar-interrupted, .progress-bar-interrupted::-webkit-progress-bar {\n",
       "                background: #F44336;\n",
       "            }\n",
       "        </style>\n",
       "      <progress value='137' class='' max='26094' style='width:300px; height:20px; vertical-align: middle;'></progress>\n",
       "      0.53% [137/26094 00:31<1:39:12 2.1682]\n",
       "    </div>\n",
       "    "
      ],
      "text/plain": [
       "<IPython.core.display.HTML object>"
      ]
     },
     "metadata": {},
     "output_type": "display_data"
    },
    {
     "ename": "KeyboardInterrupt",
     "evalue": "",
     "output_type": "error",
     "traceback": [
      "\u001b[0;31m---------------------------------------------------------------------------\u001b[0m",
      "\u001b[0;31mKeyboardInterrupt\u001b[0m                         Traceback (most recent call last)",
      "\u001b[0;32m/tmp/ipykernel_17616/3193023255.py\u001b[0m in \u001b[0;36m<module>\u001b[0;34m\u001b[0m\n\u001b[0;32m----> 1\u001b[0;31m \u001b[0mlearn\u001b[0m\u001b[0;34m.\u001b[0m\u001b[0mfit_one_cycle\u001b[0m\u001b[0;34m(\u001b[0m\u001b[0;36m1\u001b[0m\u001b[0;34m,\u001b[0m \u001b[0mlr_max\u001b[0m\u001b[0;34m=\u001b[0m\u001b[0;36m1e-4\u001b[0m\u001b[0;34m,\u001b[0m \u001b[0mcbs\u001b[0m\u001b[0;34m=\u001b[0m\u001b[0mfit_cbs\u001b[0m\u001b[0;34m)\u001b[0m\u001b[0;34m\u001b[0m\u001b[0;34m\u001b[0m\u001b[0m\n\u001b[0m",
      "\u001b[0;32m/scratch/cse/phd/anz198717/fastai/fastai/callback/schedule.py\u001b[0m in \u001b[0;36mfit_one_cycle\u001b[0;34m(self, n_epoch, lr_max, div, div_final, pct_start, wd, moms, cbs, reset_opt)\u001b[0m\n\u001b[1;32m    114\u001b[0m     scheds = {'lr': combined_cos(pct_start, lr_max/div, lr_max, lr_max/div_final),\n\u001b[1;32m    115\u001b[0m               'mom': combined_cos(pct_start, *(self.moms if moms is None else moms))}\n\u001b[0;32m--> 116\u001b[0;31m     \u001b[0mself\u001b[0m\u001b[0;34m.\u001b[0m\u001b[0mfit\u001b[0m\u001b[0;34m(\u001b[0m\u001b[0mn_epoch\u001b[0m\u001b[0;34m,\u001b[0m \u001b[0mcbs\u001b[0m\u001b[0;34m=\u001b[0m\u001b[0mParamScheduler\u001b[0m\u001b[0;34m(\u001b[0m\u001b[0mscheds\u001b[0m\u001b[0;34m)\u001b[0m\u001b[0;34m+\u001b[0m\u001b[0mL\u001b[0m\u001b[0;34m(\u001b[0m\u001b[0mcbs\u001b[0m\u001b[0;34m)\u001b[0m\u001b[0;34m,\u001b[0m \u001b[0mreset_opt\u001b[0m\u001b[0;34m=\u001b[0m\u001b[0mreset_opt\u001b[0m\u001b[0;34m,\u001b[0m \u001b[0mwd\u001b[0m\u001b[0;34m=\u001b[0m\u001b[0mwd\u001b[0m\u001b[0;34m)\u001b[0m\u001b[0;34m\u001b[0m\u001b[0;34m\u001b[0m\u001b[0m\n\u001b[0m\u001b[1;32m    117\u001b[0m \u001b[0;34m\u001b[0m\u001b[0m\n\u001b[1;32m    118\u001b[0m \u001b[0;31m# Cell\u001b[0m\u001b[0;34m\u001b[0m\u001b[0;34m\u001b[0m\u001b[0;34m\u001b[0m\u001b[0m\n",
      "\u001b[0;32m/scratch/cse/phd/anz198717/fastai/fastai/learner.py\u001b[0m in \u001b[0;36mfit\u001b[0;34m(self, n_epoch, lr, wd, cbs, reset_opt)\u001b[0m\n\u001b[1;32m    219\u001b[0m             \u001b[0mself\u001b[0m\u001b[0;34m.\u001b[0m\u001b[0mopt\u001b[0m\u001b[0;34m.\u001b[0m\u001b[0mset_hypers\u001b[0m\u001b[0;34m(\u001b[0m\u001b[0mlr\u001b[0m\u001b[0;34m=\u001b[0m\u001b[0mself\u001b[0m\u001b[0;34m.\u001b[0m\u001b[0mlr\u001b[0m \u001b[0;32mif\u001b[0m \u001b[0mlr\u001b[0m \u001b[0;32mis\u001b[0m \u001b[0;32mNone\u001b[0m \u001b[0;32melse\u001b[0m \u001b[0mlr\u001b[0m\u001b[0;34m)\u001b[0m\u001b[0;34m\u001b[0m\u001b[0;34m\u001b[0m\u001b[0m\n\u001b[1;32m    220\u001b[0m             \u001b[0mself\u001b[0m\u001b[0;34m.\u001b[0m\u001b[0mn_epoch\u001b[0m \u001b[0;34m=\u001b[0m \u001b[0mn_epoch\u001b[0m\u001b[0;34m\u001b[0m\u001b[0;34m\u001b[0m\u001b[0m\n\u001b[0;32m--> 221\u001b[0;31m             \u001b[0mself\u001b[0m\u001b[0;34m.\u001b[0m\u001b[0m_with_events\u001b[0m\u001b[0;34m(\u001b[0m\u001b[0mself\u001b[0m\u001b[0;34m.\u001b[0m\u001b[0m_do_fit\u001b[0m\u001b[0;34m,\u001b[0m \u001b[0;34m'fit'\u001b[0m\u001b[0;34m,\u001b[0m \u001b[0mCancelFitException\u001b[0m\u001b[0;34m,\u001b[0m \u001b[0mself\u001b[0m\u001b[0;34m.\u001b[0m\u001b[0m_end_cleanup\u001b[0m\u001b[0;34m)\u001b[0m\u001b[0;34m\u001b[0m\u001b[0;34m\u001b[0m\u001b[0m\n\u001b[0m\u001b[1;32m    222\u001b[0m \u001b[0;34m\u001b[0m\u001b[0m\n\u001b[1;32m    223\u001b[0m     \u001b[0;32mdef\u001b[0m \u001b[0m_end_cleanup\u001b[0m\u001b[0;34m(\u001b[0m\u001b[0mself\u001b[0m\u001b[0;34m)\u001b[0m\u001b[0;34m:\u001b[0m \u001b[0mself\u001b[0m\u001b[0;34m.\u001b[0m\u001b[0mdl\u001b[0m\u001b[0;34m,\u001b[0m\u001b[0mself\u001b[0m\u001b[0;34m.\u001b[0m\u001b[0mxb\u001b[0m\u001b[0;34m,\u001b[0m\u001b[0mself\u001b[0m\u001b[0;34m.\u001b[0m\u001b[0myb\u001b[0m\u001b[0;34m,\u001b[0m\u001b[0mself\u001b[0m\u001b[0;34m.\u001b[0m\u001b[0mpred\u001b[0m\u001b[0;34m,\u001b[0m\u001b[0mself\u001b[0m\u001b[0;34m.\u001b[0m\u001b[0mloss\u001b[0m \u001b[0;34m=\u001b[0m \u001b[0;32mNone\u001b[0m\u001b[0;34m,\u001b[0m\u001b[0;34m(\u001b[0m\u001b[0;32mNone\u001b[0m\u001b[0;34m,\u001b[0m\u001b[0;34m)\u001b[0m\u001b[0;34m,\u001b[0m\u001b[0;34m(\u001b[0m\u001b[0;32mNone\u001b[0m\u001b[0;34m,\u001b[0m\u001b[0;34m)\u001b[0m\u001b[0;34m,\u001b[0m\u001b[0;32mNone\u001b[0m\u001b[0;34m,\u001b[0m\u001b[0;32mNone\u001b[0m\u001b[0;34m\u001b[0m\u001b[0;34m\u001b[0m\u001b[0m\n",
      "\u001b[0;32m/scratch/cse/phd/anz198717/fastai/fastai/learner.py\u001b[0m in \u001b[0;36m_with_events\u001b[0;34m(self, f, event_type, ex, final)\u001b[0m\n\u001b[1;32m    161\u001b[0m \u001b[0;34m\u001b[0m\u001b[0m\n\u001b[1;32m    162\u001b[0m     \u001b[0;32mdef\u001b[0m \u001b[0m_with_events\u001b[0m\u001b[0;34m(\u001b[0m\u001b[0mself\u001b[0m\u001b[0;34m,\u001b[0m \u001b[0mf\u001b[0m\u001b[0;34m,\u001b[0m \u001b[0mevent_type\u001b[0m\u001b[0;34m,\u001b[0m \u001b[0mex\u001b[0m\u001b[0;34m,\u001b[0m \u001b[0mfinal\u001b[0m\u001b[0;34m=\u001b[0m\u001b[0mnoop\u001b[0m\u001b[0;34m)\u001b[0m\u001b[0;34m:\u001b[0m\u001b[0;34m\u001b[0m\u001b[0;34m\u001b[0m\u001b[0m\n\u001b[0;32m--> 163\u001b[0;31m         \u001b[0;32mtry\u001b[0m\u001b[0;34m:\u001b[0m \u001b[0mself\u001b[0m\u001b[0;34m(\u001b[0m\u001b[0;34mf'before_{event_type}'\u001b[0m\u001b[0;34m)\u001b[0m\u001b[0;34m;\u001b[0m  \u001b[0mf\u001b[0m\u001b[0;34m(\u001b[0m\u001b[0;34m)\u001b[0m\u001b[0;34m\u001b[0m\u001b[0;34m\u001b[0m\u001b[0m\n\u001b[0m\u001b[1;32m    164\u001b[0m         \u001b[0;32mexcept\u001b[0m \u001b[0mex\u001b[0m\u001b[0;34m:\u001b[0m \u001b[0mself\u001b[0m\u001b[0;34m(\u001b[0m\u001b[0;34mf'after_cancel_{event_type}'\u001b[0m\u001b[0;34m)\u001b[0m\u001b[0;34m\u001b[0m\u001b[0;34m\u001b[0m\u001b[0m\n\u001b[1;32m    165\u001b[0m         \u001b[0mself\u001b[0m\u001b[0;34m(\u001b[0m\u001b[0;34mf'after_{event_type}'\u001b[0m\u001b[0;34m)\u001b[0m\u001b[0;34m;\u001b[0m  \u001b[0mfinal\u001b[0m\u001b[0;34m(\u001b[0m\u001b[0;34m)\u001b[0m\u001b[0;34m\u001b[0m\u001b[0;34m\u001b[0m\u001b[0m\n",
      "\u001b[0;32m/scratch/cse/phd/anz198717/fastai/fastai/learner.py\u001b[0m in \u001b[0;36m_do_fit\u001b[0;34m(self)\u001b[0m\n\u001b[1;32m    210\u001b[0m         \u001b[0;32mfor\u001b[0m \u001b[0mepoch\u001b[0m \u001b[0;32min\u001b[0m \u001b[0mrange\u001b[0m\u001b[0;34m(\u001b[0m\u001b[0mself\u001b[0m\u001b[0;34m.\u001b[0m\u001b[0mn_epoch\u001b[0m\u001b[0;34m)\u001b[0m\u001b[0;34m:\u001b[0m\u001b[0;34m\u001b[0m\u001b[0;34m\u001b[0m\u001b[0m\n\u001b[1;32m    211\u001b[0m             \u001b[0mself\u001b[0m\u001b[0;34m.\u001b[0m\u001b[0mepoch\u001b[0m\u001b[0;34m=\u001b[0m\u001b[0mepoch\u001b[0m\u001b[0;34m\u001b[0m\u001b[0;34m\u001b[0m\u001b[0m\n\u001b[0;32m--> 212\u001b[0;31m             \u001b[0mself\u001b[0m\u001b[0;34m.\u001b[0m\u001b[0m_with_events\u001b[0m\u001b[0;34m(\u001b[0m\u001b[0mself\u001b[0m\u001b[0;34m.\u001b[0m\u001b[0m_do_epoch\u001b[0m\u001b[0;34m,\u001b[0m \u001b[0;34m'epoch'\u001b[0m\u001b[0;34m,\u001b[0m \u001b[0mCancelEpochException\u001b[0m\u001b[0;34m)\u001b[0m\u001b[0;34m\u001b[0m\u001b[0;34m\u001b[0m\u001b[0m\n\u001b[0m\u001b[1;32m    213\u001b[0m \u001b[0;34m\u001b[0m\u001b[0m\n\u001b[1;32m    214\u001b[0m     \u001b[0;32mdef\u001b[0m \u001b[0mfit\u001b[0m\u001b[0;34m(\u001b[0m\u001b[0mself\u001b[0m\u001b[0;34m,\u001b[0m \u001b[0mn_epoch\u001b[0m\u001b[0;34m,\u001b[0m \u001b[0mlr\u001b[0m\u001b[0;34m=\u001b[0m\u001b[0;32mNone\u001b[0m\u001b[0;34m,\u001b[0m \u001b[0mwd\u001b[0m\u001b[0;34m=\u001b[0m\u001b[0;32mNone\u001b[0m\u001b[0;34m,\u001b[0m \u001b[0mcbs\u001b[0m\u001b[0;34m=\u001b[0m\u001b[0;32mNone\u001b[0m\u001b[0;34m,\u001b[0m \u001b[0mreset_opt\u001b[0m\u001b[0;34m=\u001b[0m\u001b[0;32mFalse\u001b[0m\u001b[0;34m)\u001b[0m\u001b[0;34m:\u001b[0m\u001b[0;34m\u001b[0m\u001b[0;34m\u001b[0m\u001b[0m\n",
      "\u001b[0;32m/scratch/cse/phd/anz198717/fastai/fastai/learner.py\u001b[0m in \u001b[0;36m_with_events\u001b[0;34m(self, f, event_type, ex, final)\u001b[0m\n\u001b[1;32m    161\u001b[0m \u001b[0;34m\u001b[0m\u001b[0m\n\u001b[1;32m    162\u001b[0m     \u001b[0;32mdef\u001b[0m \u001b[0m_with_events\u001b[0m\u001b[0;34m(\u001b[0m\u001b[0mself\u001b[0m\u001b[0;34m,\u001b[0m \u001b[0mf\u001b[0m\u001b[0;34m,\u001b[0m \u001b[0mevent_type\u001b[0m\u001b[0;34m,\u001b[0m \u001b[0mex\u001b[0m\u001b[0;34m,\u001b[0m \u001b[0mfinal\u001b[0m\u001b[0;34m=\u001b[0m\u001b[0mnoop\u001b[0m\u001b[0;34m)\u001b[0m\u001b[0;34m:\u001b[0m\u001b[0;34m\u001b[0m\u001b[0;34m\u001b[0m\u001b[0m\n\u001b[0;32m--> 163\u001b[0;31m         \u001b[0;32mtry\u001b[0m\u001b[0;34m:\u001b[0m \u001b[0mself\u001b[0m\u001b[0;34m(\u001b[0m\u001b[0;34mf'before_{event_type}'\u001b[0m\u001b[0;34m)\u001b[0m\u001b[0;34m;\u001b[0m  \u001b[0mf\u001b[0m\u001b[0;34m(\u001b[0m\u001b[0;34m)\u001b[0m\u001b[0;34m\u001b[0m\u001b[0;34m\u001b[0m\u001b[0m\n\u001b[0m\u001b[1;32m    164\u001b[0m         \u001b[0;32mexcept\u001b[0m \u001b[0mex\u001b[0m\u001b[0;34m:\u001b[0m \u001b[0mself\u001b[0m\u001b[0;34m(\u001b[0m\u001b[0;34mf'after_cancel_{event_type}'\u001b[0m\u001b[0;34m)\u001b[0m\u001b[0;34m\u001b[0m\u001b[0;34m\u001b[0m\u001b[0m\n\u001b[1;32m    165\u001b[0m         \u001b[0mself\u001b[0m\u001b[0;34m(\u001b[0m\u001b[0;34mf'after_{event_type}'\u001b[0m\u001b[0;34m)\u001b[0m\u001b[0;34m;\u001b[0m  \u001b[0mfinal\u001b[0m\u001b[0;34m(\u001b[0m\u001b[0;34m)\u001b[0m\u001b[0;34m\u001b[0m\u001b[0;34m\u001b[0m\u001b[0m\n",
      "\u001b[0;32m/scratch/cse/phd/anz198717/fastai/fastai/learner.py\u001b[0m in \u001b[0;36m_do_epoch\u001b[0;34m(self)\u001b[0m\n\u001b[1;32m    204\u001b[0m \u001b[0;34m\u001b[0m\u001b[0m\n\u001b[1;32m    205\u001b[0m     \u001b[0;32mdef\u001b[0m \u001b[0m_do_epoch\u001b[0m\u001b[0;34m(\u001b[0m\u001b[0mself\u001b[0m\u001b[0;34m)\u001b[0m\u001b[0;34m:\u001b[0m\u001b[0;34m\u001b[0m\u001b[0;34m\u001b[0m\u001b[0m\n\u001b[0;32m--> 206\u001b[0;31m         \u001b[0mself\u001b[0m\u001b[0;34m.\u001b[0m\u001b[0m_do_epoch_train\u001b[0m\u001b[0;34m(\u001b[0m\u001b[0;34m)\u001b[0m\u001b[0;34m\u001b[0m\u001b[0;34m\u001b[0m\u001b[0m\n\u001b[0m\u001b[1;32m    207\u001b[0m         \u001b[0mself\u001b[0m\u001b[0;34m.\u001b[0m\u001b[0m_do_epoch_validate\u001b[0m\u001b[0;34m(\u001b[0m\u001b[0;34m)\u001b[0m\u001b[0;34m\u001b[0m\u001b[0;34m\u001b[0m\u001b[0m\n\u001b[1;32m    208\u001b[0m \u001b[0;34m\u001b[0m\u001b[0m\n",
      "\u001b[0;32m/scratch/cse/phd/anz198717/fastai/fastai/learner.py\u001b[0m in \u001b[0;36m_do_epoch_train\u001b[0;34m(self)\u001b[0m\n\u001b[1;32m    196\u001b[0m     \u001b[0;32mdef\u001b[0m \u001b[0m_do_epoch_train\u001b[0m\u001b[0;34m(\u001b[0m\u001b[0mself\u001b[0m\u001b[0;34m)\u001b[0m\u001b[0;34m:\u001b[0m\u001b[0;34m\u001b[0m\u001b[0;34m\u001b[0m\u001b[0m\n\u001b[1;32m    197\u001b[0m         \u001b[0mself\u001b[0m\u001b[0;34m.\u001b[0m\u001b[0mdl\u001b[0m \u001b[0;34m=\u001b[0m \u001b[0mself\u001b[0m\u001b[0;34m.\u001b[0m\u001b[0mdls\u001b[0m\u001b[0;34m.\u001b[0m\u001b[0mtrain\u001b[0m\u001b[0;34m\u001b[0m\u001b[0;34m\u001b[0m\u001b[0m\n\u001b[0;32m--> 198\u001b[0;31m         \u001b[0mself\u001b[0m\u001b[0;34m.\u001b[0m\u001b[0m_with_events\u001b[0m\u001b[0;34m(\u001b[0m\u001b[0mself\u001b[0m\u001b[0;34m.\u001b[0m\u001b[0mall_batches\u001b[0m\u001b[0;34m,\u001b[0m \u001b[0;34m'train'\u001b[0m\u001b[0;34m,\u001b[0m \u001b[0mCancelTrainException\u001b[0m\u001b[0;34m)\u001b[0m\u001b[0;34m\u001b[0m\u001b[0;34m\u001b[0m\u001b[0m\n\u001b[0m\u001b[1;32m    199\u001b[0m \u001b[0;34m\u001b[0m\u001b[0m\n\u001b[1;32m    200\u001b[0m     \u001b[0;32mdef\u001b[0m \u001b[0m_do_epoch_validate\u001b[0m\u001b[0;34m(\u001b[0m\u001b[0mself\u001b[0m\u001b[0;34m,\u001b[0m \u001b[0mds_idx\u001b[0m\u001b[0;34m=\u001b[0m\u001b[0;36m1\u001b[0m\u001b[0;34m,\u001b[0m \u001b[0mdl\u001b[0m\u001b[0;34m=\u001b[0m\u001b[0;32mNone\u001b[0m\u001b[0;34m)\u001b[0m\u001b[0;34m:\u001b[0m\u001b[0;34m\u001b[0m\u001b[0;34m\u001b[0m\u001b[0m\n",
      "\u001b[0;32m/scratch/cse/phd/anz198717/fastai/fastai/learner.py\u001b[0m in \u001b[0;36m_with_events\u001b[0;34m(self, f, event_type, ex, final)\u001b[0m\n\u001b[1;32m    161\u001b[0m \u001b[0;34m\u001b[0m\u001b[0m\n\u001b[1;32m    162\u001b[0m     \u001b[0;32mdef\u001b[0m \u001b[0m_with_events\u001b[0m\u001b[0;34m(\u001b[0m\u001b[0mself\u001b[0m\u001b[0;34m,\u001b[0m \u001b[0mf\u001b[0m\u001b[0;34m,\u001b[0m \u001b[0mevent_type\u001b[0m\u001b[0;34m,\u001b[0m \u001b[0mex\u001b[0m\u001b[0;34m,\u001b[0m \u001b[0mfinal\u001b[0m\u001b[0;34m=\u001b[0m\u001b[0mnoop\u001b[0m\u001b[0;34m)\u001b[0m\u001b[0;34m:\u001b[0m\u001b[0;34m\u001b[0m\u001b[0;34m\u001b[0m\u001b[0m\n\u001b[0;32m--> 163\u001b[0;31m         \u001b[0;32mtry\u001b[0m\u001b[0;34m:\u001b[0m \u001b[0mself\u001b[0m\u001b[0;34m(\u001b[0m\u001b[0;34mf'before_{event_type}'\u001b[0m\u001b[0;34m)\u001b[0m\u001b[0;34m;\u001b[0m  \u001b[0mf\u001b[0m\u001b[0;34m(\u001b[0m\u001b[0;34m)\u001b[0m\u001b[0;34m\u001b[0m\u001b[0;34m\u001b[0m\u001b[0m\n\u001b[0m\u001b[1;32m    164\u001b[0m         \u001b[0;32mexcept\u001b[0m \u001b[0mex\u001b[0m\u001b[0;34m:\u001b[0m \u001b[0mself\u001b[0m\u001b[0;34m(\u001b[0m\u001b[0;34mf'after_cancel_{event_type}'\u001b[0m\u001b[0;34m)\u001b[0m\u001b[0;34m\u001b[0m\u001b[0;34m\u001b[0m\u001b[0m\n\u001b[1;32m    165\u001b[0m         \u001b[0mself\u001b[0m\u001b[0;34m(\u001b[0m\u001b[0;34mf'after_{event_type}'\u001b[0m\u001b[0;34m)\u001b[0m\u001b[0;34m;\u001b[0m  \u001b[0mfinal\u001b[0m\u001b[0;34m(\u001b[0m\u001b[0;34m)\u001b[0m\u001b[0;34m\u001b[0m\u001b[0;34m\u001b[0m\u001b[0m\n",
      "\u001b[0;32m/scratch/cse/phd/anz198717/fastai/fastai/learner.py\u001b[0m in \u001b[0;36mall_batches\u001b[0;34m(self)\u001b[0m\n\u001b[1;32m    167\u001b[0m     \u001b[0;32mdef\u001b[0m \u001b[0mall_batches\u001b[0m\u001b[0;34m(\u001b[0m\u001b[0mself\u001b[0m\u001b[0;34m)\u001b[0m\u001b[0;34m:\u001b[0m\u001b[0;34m\u001b[0m\u001b[0;34m\u001b[0m\u001b[0m\n\u001b[1;32m    168\u001b[0m         \u001b[0mself\u001b[0m\u001b[0;34m.\u001b[0m\u001b[0mn_iter\u001b[0m \u001b[0;34m=\u001b[0m \u001b[0mlen\u001b[0m\u001b[0;34m(\u001b[0m\u001b[0mself\u001b[0m\u001b[0;34m.\u001b[0m\u001b[0mdl\u001b[0m\u001b[0;34m)\u001b[0m\u001b[0;34m\u001b[0m\u001b[0;34m\u001b[0m\u001b[0m\n\u001b[0;32m--> 169\u001b[0;31m         \u001b[0;32mfor\u001b[0m \u001b[0mo\u001b[0m \u001b[0;32min\u001b[0m \u001b[0menumerate\u001b[0m\u001b[0;34m(\u001b[0m\u001b[0mself\u001b[0m\u001b[0;34m.\u001b[0m\u001b[0mdl\u001b[0m\u001b[0;34m)\u001b[0m\u001b[0;34m:\u001b[0m \u001b[0mself\u001b[0m\u001b[0;34m.\u001b[0m\u001b[0mone_batch\u001b[0m\u001b[0;34m(\u001b[0m\u001b[0;34m*\u001b[0m\u001b[0mo\u001b[0m\u001b[0;34m)\u001b[0m\u001b[0;34m\u001b[0m\u001b[0;34m\u001b[0m\u001b[0m\n\u001b[0m\u001b[1;32m    170\u001b[0m \u001b[0;34m\u001b[0m\u001b[0m\n\u001b[1;32m    171\u001b[0m     \u001b[0;32mdef\u001b[0m \u001b[0m_do_one_batch\u001b[0m\u001b[0;34m(\u001b[0m\u001b[0mself\u001b[0m\u001b[0;34m)\u001b[0m\u001b[0;34m:\u001b[0m\u001b[0;34m\u001b[0m\u001b[0;34m\u001b[0m\u001b[0m\n",
      "\u001b[0;32m/scratch/cse/phd/anz198717/fastai/fastai/learner.py\u001b[0m in \u001b[0;36mone_batch\u001b[0;34m(self, i, b)\u001b[0m\n\u001b[1;32m    192\u001b[0m         \u001b[0mb\u001b[0m \u001b[0;34m=\u001b[0m \u001b[0mself\u001b[0m\u001b[0;34m.\u001b[0m\u001b[0m_set_device\u001b[0m\u001b[0;34m(\u001b[0m\u001b[0mb\u001b[0m\u001b[0;34m)\u001b[0m\u001b[0;34m\u001b[0m\u001b[0;34m\u001b[0m\u001b[0m\n\u001b[1;32m    193\u001b[0m         \u001b[0mself\u001b[0m\u001b[0;34m.\u001b[0m\u001b[0m_split\u001b[0m\u001b[0;34m(\u001b[0m\u001b[0mb\u001b[0m\u001b[0;34m)\u001b[0m\u001b[0;34m\u001b[0m\u001b[0;34m\u001b[0m\u001b[0m\n\u001b[0;32m--> 194\u001b[0;31m         \u001b[0mself\u001b[0m\u001b[0;34m.\u001b[0m\u001b[0m_with_events\u001b[0m\u001b[0;34m(\u001b[0m\u001b[0mself\u001b[0m\u001b[0;34m.\u001b[0m\u001b[0m_do_one_batch\u001b[0m\u001b[0;34m,\u001b[0m \u001b[0;34m'batch'\u001b[0m\u001b[0;34m,\u001b[0m \u001b[0mCancelBatchException\u001b[0m\u001b[0;34m)\u001b[0m\u001b[0;34m\u001b[0m\u001b[0;34m\u001b[0m\u001b[0m\n\u001b[0m\u001b[1;32m    195\u001b[0m \u001b[0;34m\u001b[0m\u001b[0m\n\u001b[1;32m    196\u001b[0m     \u001b[0;32mdef\u001b[0m \u001b[0m_do_epoch_train\u001b[0m\u001b[0;34m(\u001b[0m\u001b[0mself\u001b[0m\u001b[0;34m)\u001b[0m\u001b[0;34m:\u001b[0m\u001b[0;34m\u001b[0m\u001b[0;34m\u001b[0m\u001b[0m\n",
      "\u001b[0;32m/scratch/cse/phd/anz198717/fastai/fastai/learner.py\u001b[0m in \u001b[0;36m_with_events\u001b[0;34m(self, f, event_type, ex, final)\u001b[0m\n\u001b[1;32m    161\u001b[0m \u001b[0;34m\u001b[0m\u001b[0m\n\u001b[1;32m    162\u001b[0m     \u001b[0;32mdef\u001b[0m \u001b[0m_with_events\u001b[0m\u001b[0;34m(\u001b[0m\u001b[0mself\u001b[0m\u001b[0;34m,\u001b[0m \u001b[0mf\u001b[0m\u001b[0;34m,\u001b[0m \u001b[0mevent_type\u001b[0m\u001b[0;34m,\u001b[0m \u001b[0mex\u001b[0m\u001b[0;34m,\u001b[0m \u001b[0mfinal\u001b[0m\u001b[0;34m=\u001b[0m\u001b[0mnoop\u001b[0m\u001b[0;34m)\u001b[0m\u001b[0;34m:\u001b[0m\u001b[0;34m\u001b[0m\u001b[0;34m\u001b[0m\u001b[0m\n\u001b[0;32m--> 163\u001b[0;31m         \u001b[0;32mtry\u001b[0m\u001b[0;34m:\u001b[0m \u001b[0mself\u001b[0m\u001b[0;34m(\u001b[0m\u001b[0;34mf'before_{event_type}'\u001b[0m\u001b[0;34m)\u001b[0m\u001b[0;34m;\u001b[0m  \u001b[0mf\u001b[0m\u001b[0;34m(\u001b[0m\u001b[0;34m)\u001b[0m\u001b[0;34m\u001b[0m\u001b[0;34m\u001b[0m\u001b[0m\n\u001b[0m\u001b[1;32m    164\u001b[0m         \u001b[0;32mexcept\u001b[0m \u001b[0mex\u001b[0m\u001b[0;34m:\u001b[0m \u001b[0mself\u001b[0m\u001b[0;34m(\u001b[0m\u001b[0;34mf'after_cancel_{event_type}'\u001b[0m\u001b[0;34m)\u001b[0m\u001b[0;34m\u001b[0m\u001b[0;34m\u001b[0m\u001b[0m\n\u001b[1;32m    165\u001b[0m         \u001b[0mself\u001b[0m\u001b[0;34m(\u001b[0m\u001b[0;34mf'after_{event_type}'\u001b[0m\u001b[0;34m)\u001b[0m\u001b[0;34m;\u001b[0m  \u001b[0mfinal\u001b[0m\u001b[0;34m(\u001b[0m\u001b[0;34m)\u001b[0m\u001b[0;34m\u001b[0m\u001b[0;34m\u001b[0m\u001b[0m\n",
      "\u001b[0;32m/scratch/cse/phd/anz198717/fastai/fastai/learner.py\u001b[0m in \u001b[0;36m_do_one_batch\u001b[0;34m(self)\u001b[0m\n\u001b[1;32m    171\u001b[0m     \u001b[0;32mdef\u001b[0m \u001b[0m_do_one_batch\u001b[0m\u001b[0;34m(\u001b[0m\u001b[0mself\u001b[0m\u001b[0;34m)\u001b[0m\u001b[0;34m:\u001b[0m\u001b[0;34m\u001b[0m\u001b[0;34m\u001b[0m\u001b[0m\n\u001b[1;32m    172\u001b[0m         \u001b[0mself\u001b[0m\u001b[0;34m.\u001b[0m\u001b[0mpred\u001b[0m \u001b[0;34m=\u001b[0m \u001b[0mself\u001b[0m\u001b[0;34m.\u001b[0m\u001b[0mmodel\u001b[0m\u001b[0;34m(\u001b[0m\u001b[0;34m*\u001b[0m\u001b[0mself\u001b[0m\u001b[0;34m.\u001b[0m\u001b[0mxb\u001b[0m\u001b[0;34m)\u001b[0m\u001b[0;34m\u001b[0m\u001b[0;34m\u001b[0m\u001b[0m\n\u001b[0;32m--> 173\u001b[0;31m         \u001b[0mself\u001b[0m\u001b[0;34m(\u001b[0m\u001b[0;34m'after_pred'\u001b[0m\u001b[0;34m)\u001b[0m\u001b[0;34m\u001b[0m\u001b[0;34m\u001b[0m\u001b[0m\n\u001b[0m\u001b[1;32m    174\u001b[0m         \u001b[0;32mif\u001b[0m \u001b[0mlen\u001b[0m\u001b[0;34m(\u001b[0m\u001b[0mself\u001b[0m\u001b[0;34m.\u001b[0m\u001b[0myb\u001b[0m\u001b[0;34m)\u001b[0m\u001b[0;34m:\u001b[0m\u001b[0;34m\u001b[0m\u001b[0;34m\u001b[0m\u001b[0m\n\u001b[1;32m    175\u001b[0m             \u001b[0mself\u001b[0m\u001b[0;34m.\u001b[0m\u001b[0mloss_grad\u001b[0m \u001b[0;34m=\u001b[0m \u001b[0mself\u001b[0m\u001b[0;34m.\u001b[0m\u001b[0mloss_func\u001b[0m\u001b[0;34m(\u001b[0m\u001b[0mself\u001b[0m\u001b[0;34m.\u001b[0m\u001b[0mpred\u001b[0m\u001b[0;34m,\u001b[0m \u001b[0;34m*\u001b[0m\u001b[0mself\u001b[0m\u001b[0;34m.\u001b[0m\u001b[0myb\u001b[0m\u001b[0;34m)\u001b[0m\u001b[0;34m\u001b[0m\u001b[0;34m\u001b[0m\u001b[0m\n",
      "\u001b[0;32m/scratch/cse/phd/anz198717/fastai/fastai/learner.py\u001b[0m in \u001b[0;36m__call__\u001b[0;34m(self, event_name)\u001b[0m\n\u001b[1;32m    139\u001b[0m \u001b[0;34m\u001b[0m\u001b[0m\n\u001b[1;32m    140\u001b[0m     \u001b[0;32mdef\u001b[0m \u001b[0mordered_cbs\u001b[0m\u001b[0;34m(\u001b[0m\u001b[0mself\u001b[0m\u001b[0;34m,\u001b[0m \u001b[0mevent\u001b[0m\u001b[0;34m)\u001b[0m\u001b[0;34m:\u001b[0m \u001b[0;32mreturn\u001b[0m \u001b[0;34m[\u001b[0m\u001b[0mcb\u001b[0m \u001b[0;32mfor\u001b[0m \u001b[0mcb\u001b[0m \u001b[0;32min\u001b[0m \u001b[0mself\u001b[0m\u001b[0;34m.\u001b[0m\u001b[0mcbs\u001b[0m\u001b[0;34m.\u001b[0m\u001b[0msorted\u001b[0m\u001b[0;34m(\u001b[0m\u001b[0;34m'order'\u001b[0m\u001b[0;34m)\u001b[0m \u001b[0;32mif\u001b[0m \u001b[0mhasattr\u001b[0m\u001b[0;34m(\u001b[0m\u001b[0mcb\u001b[0m\u001b[0;34m,\u001b[0m \u001b[0mevent\u001b[0m\u001b[0;34m)\u001b[0m\u001b[0;34m]\u001b[0m\u001b[0;34m\u001b[0m\u001b[0;34m\u001b[0m\u001b[0m\n\u001b[0;32m--> 141\u001b[0;31m     \u001b[0;32mdef\u001b[0m \u001b[0m__call__\u001b[0m\u001b[0;34m(\u001b[0m\u001b[0mself\u001b[0m\u001b[0;34m,\u001b[0m \u001b[0mevent_name\u001b[0m\u001b[0;34m)\u001b[0m\u001b[0;34m:\u001b[0m \u001b[0mL\u001b[0m\u001b[0;34m(\u001b[0m\u001b[0mevent_name\u001b[0m\u001b[0;34m)\u001b[0m\u001b[0;34m.\u001b[0m\u001b[0mmap\u001b[0m\u001b[0;34m(\u001b[0m\u001b[0mself\u001b[0m\u001b[0;34m.\u001b[0m\u001b[0m_call_one\u001b[0m\u001b[0;34m)\u001b[0m\u001b[0;34m\u001b[0m\u001b[0;34m\u001b[0m\u001b[0m\n\u001b[0m\u001b[1;32m    142\u001b[0m \u001b[0;34m\u001b[0m\u001b[0m\n\u001b[1;32m    143\u001b[0m     \u001b[0;32mdef\u001b[0m \u001b[0m_call_one\u001b[0m\u001b[0;34m(\u001b[0m\u001b[0mself\u001b[0m\u001b[0;34m,\u001b[0m \u001b[0mevent_name\u001b[0m\u001b[0;34m)\u001b[0m\u001b[0;34m:\u001b[0m\u001b[0;34m\u001b[0m\u001b[0;34m\u001b[0m\u001b[0m\n",
      "\u001b[0;32m/scratch/cse/phd/anz198717/fastcore/fastcore/foundation.py\u001b[0m in \u001b[0;36mmap\u001b[0;34m(self, f, gen, *args, **kwargs)\u001b[0m\n\u001b[1;32m    153\u001b[0m     \u001b[0;32mdef\u001b[0m \u001b[0mrange\u001b[0m\u001b[0;34m(\u001b[0m\u001b[0mcls\u001b[0m\u001b[0;34m,\u001b[0m \u001b[0ma\u001b[0m\u001b[0;34m,\u001b[0m \u001b[0mb\u001b[0m\u001b[0;34m=\u001b[0m\u001b[0;32mNone\u001b[0m\u001b[0;34m,\u001b[0m \u001b[0mstep\u001b[0m\u001b[0;34m=\u001b[0m\u001b[0;32mNone\u001b[0m\u001b[0;34m)\u001b[0m\u001b[0;34m:\u001b[0m \u001b[0;32mreturn\u001b[0m \u001b[0mcls\u001b[0m\u001b[0;34m(\u001b[0m\u001b[0mrange_of\u001b[0m\u001b[0;34m(\u001b[0m\u001b[0ma\u001b[0m\u001b[0;34m,\u001b[0m \u001b[0mb\u001b[0m\u001b[0;34m=\u001b[0m\u001b[0mb\u001b[0m\u001b[0;34m,\u001b[0m \u001b[0mstep\u001b[0m\u001b[0;34m=\u001b[0m\u001b[0mstep\u001b[0m\u001b[0;34m)\u001b[0m\u001b[0;34m)\u001b[0m\u001b[0;34m\u001b[0m\u001b[0;34m\u001b[0m\u001b[0m\n\u001b[1;32m    154\u001b[0m \u001b[0;34m\u001b[0m\u001b[0m\n\u001b[0;32m--> 155\u001b[0;31m     \u001b[0;32mdef\u001b[0m \u001b[0mmap\u001b[0m\u001b[0;34m(\u001b[0m\u001b[0mself\u001b[0m\u001b[0;34m,\u001b[0m \u001b[0mf\u001b[0m\u001b[0;34m,\u001b[0m \u001b[0;34m*\u001b[0m\u001b[0margs\u001b[0m\u001b[0;34m,\u001b[0m \u001b[0mgen\u001b[0m\u001b[0;34m=\u001b[0m\u001b[0;32mFalse\u001b[0m\u001b[0;34m,\u001b[0m \u001b[0;34m**\u001b[0m\u001b[0mkwargs\u001b[0m\u001b[0;34m)\u001b[0m\u001b[0;34m:\u001b[0m \u001b[0;32mreturn\u001b[0m \u001b[0mself\u001b[0m\u001b[0;34m.\u001b[0m\u001b[0m_new\u001b[0m\u001b[0;34m(\u001b[0m\u001b[0mmap_ex\u001b[0m\u001b[0;34m(\u001b[0m\u001b[0mself\u001b[0m\u001b[0;34m,\u001b[0m \u001b[0mf\u001b[0m\u001b[0;34m,\u001b[0m \u001b[0;34m*\u001b[0m\u001b[0margs\u001b[0m\u001b[0;34m,\u001b[0m \u001b[0mgen\u001b[0m\u001b[0;34m=\u001b[0m\u001b[0mgen\u001b[0m\u001b[0;34m,\u001b[0m \u001b[0;34m**\u001b[0m\u001b[0mkwargs\u001b[0m\u001b[0;34m)\u001b[0m\u001b[0;34m)\u001b[0m\u001b[0;34m\u001b[0m\u001b[0;34m\u001b[0m\u001b[0m\n\u001b[0m\u001b[1;32m    156\u001b[0m     \u001b[0;32mdef\u001b[0m \u001b[0margwhere\u001b[0m\u001b[0;34m(\u001b[0m\u001b[0mself\u001b[0m\u001b[0;34m,\u001b[0m \u001b[0mf\u001b[0m\u001b[0;34m,\u001b[0m \u001b[0mnegate\u001b[0m\u001b[0;34m=\u001b[0m\u001b[0;32mFalse\u001b[0m\u001b[0;34m,\u001b[0m \u001b[0;34m**\u001b[0m\u001b[0mkwargs\u001b[0m\u001b[0;34m)\u001b[0m\u001b[0;34m:\u001b[0m \u001b[0;32mreturn\u001b[0m \u001b[0mself\u001b[0m\u001b[0;34m.\u001b[0m\u001b[0m_new\u001b[0m\u001b[0;34m(\u001b[0m\u001b[0margwhere\u001b[0m\u001b[0;34m(\u001b[0m\u001b[0mself\u001b[0m\u001b[0;34m,\u001b[0m \u001b[0mf\u001b[0m\u001b[0;34m,\u001b[0m \u001b[0mnegate\u001b[0m\u001b[0;34m,\u001b[0m \u001b[0;34m**\u001b[0m\u001b[0mkwargs\u001b[0m\u001b[0;34m)\u001b[0m\u001b[0;34m)\u001b[0m\u001b[0;34m\u001b[0m\u001b[0;34m\u001b[0m\u001b[0m\n\u001b[1;32m    157\u001b[0m     \u001b[0;32mdef\u001b[0m \u001b[0margfirst\u001b[0m\u001b[0;34m(\u001b[0m\u001b[0mself\u001b[0m\u001b[0;34m,\u001b[0m \u001b[0mf\u001b[0m\u001b[0;34m,\u001b[0m \u001b[0mnegate\u001b[0m\u001b[0;34m=\u001b[0m\u001b[0;32mFalse\u001b[0m\u001b[0;34m)\u001b[0m\u001b[0;34m:\u001b[0m \u001b[0;32mreturn\u001b[0m \u001b[0mfirst\u001b[0m\u001b[0;34m(\u001b[0m\u001b[0mi\u001b[0m \u001b[0;32mfor\u001b[0m \u001b[0mi\u001b[0m\u001b[0;34m,\u001b[0m\u001b[0mo\u001b[0m \u001b[0;32min\u001b[0m \u001b[0mself\u001b[0m\u001b[0;34m.\u001b[0m\u001b[0menumerate\u001b[0m\u001b[0;34m(\u001b[0m\u001b[0;34m)\u001b[0m \u001b[0;32mif\u001b[0m \u001b[0mf\u001b[0m\u001b[0;34m(\u001b[0m\u001b[0mo\u001b[0m\u001b[0;34m)\u001b[0m\u001b[0;34m)\u001b[0m\u001b[0;34m\u001b[0m\u001b[0;34m\u001b[0m\u001b[0m\n",
      "\u001b[0;32m/scratch/cse/phd/anz198717/fastcore/fastcore/basics.py\u001b[0m in \u001b[0;36mmap_ex\u001b[0;34m(iterable, f, gen, *args, **kwargs)\u001b[0m\n\u001b[1;32m    696\u001b[0m     \u001b[0mres\u001b[0m \u001b[0;34m=\u001b[0m \u001b[0mmap\u001b[0m\u001b[0;34m(\u001b[0m\u001b[0mg\u001b[0m\u001b[0;34m,\u001b[0m \u001b[0miterable\u001b[0m\u001b[0;34m)\u001b[0m\u001b[0;34m\u001b[0m\u001b[0;34m\u001b[0m\u001b[0m\n\u001b[1;32m    697\u001b[0m     \u001b[0;32mif\u001b[0m \u001b[0mgen\u001b[0m\u001b[0;34m:\u001b[0m \u001b[0;32mreturn\u001b[0m \u001b[0mres\u001b[0m\u001b[0;34m\u001b[0m\u001b[0;34m\u001b[0m\u001b[0m\n\u001b[0;32m--> 698\u001b[0;31m     \u001b[0;32mreturn\u001b[0m \u001b[0mlist\u001b[0m\u001b[0;34m(\u001b[0m\u001b[0mres\u001b[0m\u001b[0;34m)\u001b[0m\u001b[0;34m\u001b[0m\u001b[0;34m\u001b[0m\u001b[0m\n\u001b[0m\u001b[1;32m    699\u001b[0m \u001b[0;34m\u001b[0m\u001b[0m\n\u001b[1;32m    700\u001b[0m \u001b[0;31m# Cell\u001b[0m\u001b[0;34m\u001b[0m\u001b[0;34m\u001b[0m\u001b[0;34m\u001b[0m\u001b[0m\n",
      "\u001b[0;32m/scratch/cse/phd/anz198717/fastcore/fastcore/basics.py\u001b[0m in \u001b[0;36m__call__\u001b[0;34m(self, *args, **kwargs)\u001b[0m\n\u001b[1;32m    681\u001b[0m             \u001b[0;32mif\u001b[0m \u001b[0misinstance\u001b[0m\u001b[0;34m(\u001b[0m\u001b[0mv\u001b[0m\u001b[0;34m,\u001b[0m\u001b[0m_Arg\u001b[0m\u001b[0;34m)\u001b[0m\u001b[0;34m:\u001b[0m \u001b[0mkwargs\u001b[0m\u001b[0;34m[\u001b[0m\u001b[0mk\u001b[0m\u001b[0;34m]\u001b[0m \u001b[0;34m=\u001b[0m \u001b[0margs\u001b[0m\u001b[0;34m.\u001b[0m\u001b[0mpop\u001b[0m\u001b[0;34m(\u001b[0m\u001b[0mv\u001b[0m\u001b[0;34m.\u001b[0m\u001b[0mi\u001b[0m\u001b[0;34m)\u001b[0m\u001b[0;34m\u001b[0m\u001b[0;34m\u001b[0m\u001b[0m\n\u001b[1;32m    682\u001b[0m         \u001b[0mfargs\u001b[0m \u001b[0;34m=\u001b[0m \u001b[0;34m[\u001b[0m\u001b[0margs\u001b[0m\u001b[0;34m[\u001b[0m\u001b[0mx\u001b[0m\u001b[0;34m.\u001b[0m\u001b[0mi\u001b[0m\u001b[0;34m]\u001b[0m \u001b[0;32mif\u001b[0m \u001b[0misinstance\u001b[0m\u001b[0;34m(\u001b[0m\u001b[0mx\u001b[0m\u001b[0;34m,\u001b[0m \u001b[0m_Arg\u001b[0m\u001b[0;34m)\u001b[0m \u001b[0;32melse\u001b[0m \u001b[0mx\u001b[0m \u001b[0;32mfor\u001b[0m \u001b[0mx\u001b[0m \u001b[0;32min\u001b[0m \u001b[0mself\u001b[0m\u001b[0;34m.\u001b[0m\u001b[0mpargs\u001b[0m\u001b[0;34m]\u001b[0m \u001b[0;34m+\u001b[0m \u001b[0margs\u001b[0m\u001b[0;34m[\u001b[0m\u001b[0mself\u001b[0m\u001b[0;34m.\u001b[0m\u001b[0mmaxi\u001b[0m\u001b[0;34m+\u001b[0m\u001b[0;36m1\u001b[0m\u001b[0;34m:\u001b[0m\u001b[0;34m]\u001b[0m\u001b[0;34m\u001b[0m\u001b[0;34m\u001b[0m\u001b[0m\n\u001b[0;32m--> 683\u001b[0;31m         \u001b[0;32mreturn\u001b[0m \u001b[0mself\u001b[0m\u001b[0;34m.\u001b[0m\u001b[0mfunc\u001b[0m\u001b[0;34m(\u001b[0m\u001b[0;34m*\u001b[0m\u001b[0mfargs\u001b[0m\u001b[0;34m,\u001b[0m \u001b[0;34m**\u001b[0m\u001b[0mkwargs\u001b[0m\u001b[0;34m)\u001b[0m\u001b[0;34m\u001b[0m\u001b[0;34m\u001b[0m\u001b[0m\n\u001b[0m\u001b[1;32m    684\u001b[0m \u001b[0;34m\u001b[0m\u001b[0m\n\u001b[1;32m    685\u001b[0m \u001b[0;31m# Cell\u001b[0m\u001b[0;34m\u001b[0m\u001b[0;34m\u001b[0m\u001b[0;34m\u001b[0m\u001b[0m\n",
      "\u001b[0;32m/scratch/cse/phd/anz198717/fastai/fastai/learner.py\u001b[0m in \u001b[0;36m_call_one\u001b[0;34m(self, event_name)\u001b[0m\n\u001b[1;32m    143\u001b[0m     \u001b[0;32mdef\u001b[0m \u001b[0m_call_one\u001b[0m\u001b[0;34m(\u001b[0m\u001b[0mself\u001b[0m\u001b[0;34m,\u001b[0m \u001b[0mevent_name\u001b[0m\u001b[0;34m)\u001b[0m\u001b[0;34m:\u001b[0m\u001b[0;34m\u001b[0m\u001b[0;34m\u001b[0m\u001b[0m\n\u001b[1;32m    144\u001b[0m         \u001b[0;32mif\u001b[0m \u001b[0;32mnot\u001b[0m \u001b[0mhasattr\u001b[0m\u001b[0;34m(\u001b[0m\u001b[0mevent\u001b[0m\u001b[0;34m,\u001b[0m \u001b[0mevent_name\u001b[0m\u001b[0;34m)\u001b[0m\u001b[0;34m:\u001b[0m \u001b[0;32mraise\u001b[0m \u001b[0mException\u001b[0m\u001b[0;34m(\u001b[0m\u001b[0;34mf'missing {event_name}'\u001b[0m\u001b[0;34m)\u001b[0m\u001b[0;34m\u001b[0m\u001b[0;34m\u001b[0m\u001b[0m\n\u001b[0;32m--> 145\u001b[0;31m         \u001b[0;32mfor\u001b[0m \u001b[0mcb\u001b[0m \u001b[0;32min\u001b[0m \u001b[0mself\u001b[0m\u001b[0;34m.\u001b[0m\u001b[0mcbs\u001b[0m\u001b[0;34m.\u001b[0m\u001b[0msorted\u001b[0m\u001b[0;34m(\u001b[0m\u001b[0;34m'order'\u001b[0m\u001b[0;34m)\u001b[0m\u001b[0;34m:\u001b[0m \u001b[0mcb\u001b[0m\u001b[0;34m(\u001b[0m\u001b[0mevent_name\u001b[0m\u001b[0;34m)\u001b[0m\u001b[0;34m\u001b[0m\u001b[0;34m\u001b[0m\u001b[0m\n\u001b[0m\u001b[1;32m    146\u001b[0m \u001b[0;34m\u001b[0m\u001b[0m\n\u001b[1;32m    147\u001b[0m     \u001b[0;32mdef\u001b[0m \u001b[0m_bn_bias_state\u001b[0m\u001b[0;34m(\u001b[0m\u001b[0mself\u001b[0m\u001b[0;34m,\u001b[0m \u001b[0mwith_bias\u001b[0m\u001b[0;34m)\u001b[0m\u001b[0;34m:\u001b[0m \u001b[0;32mreturn\u001b[0m \u001b[0mnorm_bias_params\u001b[0m\u001b[0;34m(\u001b[0m\u001b[0mself\u001b[0m\u001b[0;34m.\u001b[0m\u001b[0mmodel\u001b[0m\u001b[0;34m,\u001b[0m \u001b[0mwith_bias\u001b[0m\u001b[0;34m)\u001b[0m\u001b[0;34m.\u001b[0m\u001b[0mmap\u001b[0m\u001b[0;34m(\u001b[0m\u001b[0mself\u001b[0m\u001b[0;34m.\u001b[0m\u001b[0mopt\u001b[0m\u001b[0;34m.\u001b[0m\u001b[0mstate\u001b[0m\u001b[0;34m)\u001b[0m\u001b[0;34m\u001b[0m\u001b[0;34m\u001b[0m\u001b[0m\n",
      "\u001b[0;32m/scratch/cse/phd/anz198717/fastai/fastai/callback/core.py\u001b[0m in \u001b[0;36m__call__\u001b[0;34m(self, event_name)\u001b[0m\n\u001b[1;32m     43\u001b[0m                (self.run_valid and not getattr(self, 'training', False)))\n\u001b[1;32m     44\u001b[0m         \u001b[0mres\u001b[0m \u001b[0;34m=\u001b[0m \u001b[0;32mNone\u001b[0m\u001b[0;34m\u001b[0m\u001b[0;34m\u001b[0m\u001b[0m\n\u001b[0;32m---> 45\u001b[0;31m         \u001b[0;32mif\u001b[0m \u001b[0mself\u001b[0m\u001b[0;34m.\u001b[0m\u001b[0mrun\u001b[0m \u001b[0;32mand\u001b[0m \u001b[0m_run\u001b[0m\u001b[0;34m:\u001b[0m \u001b[0mres\u001b[0m \u001b[0;34m=\u001b[0m \u001b[0mgetattr\u001b[0m\u001b[0;34m(\u001b[0m\u001b[0mself\u001b[0m\u001b[0;34m,\u001b[0m \u001b[0mevent_name\u001b[0m\u001b[0;34m,\u001b[0m \u001b[0mnoop\u001b[0m\u001b[0;34m)\u001b[0m\u001b[0;34m(\u001b[0m\u001b[0;34m)\u001b[0m\u001b[0;34m\u001b[0m\u001b[0;34m\u001b[0m\u001b[0m\n\u001b[0m\u001b[1;32m     46\u001b[0m         \u001b[0;32mif\u001b[0m \u001b[0mevent_name\u001b[0m\u001b[0;34m==\u001b[0m\u001b[0;34m'after_fit'\u001b[0m\u001b[0;34m:\u001b[0m \u001b[0mself\u001b[0m\u001b[0;34m.\u001b[0m\u001b[0mrun\u001b[0m\u001b[0;34m=\u001b[0m\u001b[0;32mTrue\u001b[0m \u001b[0;31m#Reset self.run to True at each end of fit\u001b[0m\u001b[0;34m\u001b[0m\u001b[0;34m\u001b[0m\u001b[0m\n\u001b[1;32m     47\u001b[0m         \u001b[0;32mreturn\u001b[0m \u001b[0mres\u001b[0m\u001b[0;34m\u001b[0m\u001b[0;34m\u001b[0m\u001b[0m\n",
      "\u001b[0;32m/scratch/cse/phd/anz198717/fastai/fastai/callback/fp16.py\u001b[0m in \u001b[0;36mafter_pred\u001b[0;34m(self)\u001b[0m\n\u001b[1;32m     20\u001b[0m     \u001b[0;32mdef\u001b[0m \u001b[0mbefore_batch\u001b[0m\u001b[0;34m(\u001b[0m\u001b[0mself\u001b[0m\u001b[0;34m)\u001b[0m\u001b[0;34m:\u001b[0m \u001b[0mself\u001b[0m\u001b[0;34m.\u001b[0m\u001b[0mautocast\u001b[0m\u001b[0;34m.\u001b[0m\u001b[0m__enter__\u001b[0m\u001b[0;34m(\u001b[0m\u001b[0;34m)\u001b[0m\u001b[0;34m\u001b[0m\u001b[0;34m\u001b[0m\u001b[0m\n\u001b[1;32m     21\u001b[0m     \u001b[0;32mdef\u001b[0m \u001b[0mafter_pred\u001b[0m\u001b[0;34m(\u001b[0m\u001b[0mself\u001b[0m\u001b[0;34m)\u001b[0m\u001b[0;34m:\u001b[0m\u001b[0;34m\u001b[0m\u001b[0;34m\u001b[0m\u001b[0m\n\u001b[0;32m---> 22\u001b[0;31m         \u001b[0;32mif\u001b[0m \u001b[0mnext\u001b[0m\u001b[0;34m(\u001b[0m\u001b[0mflatten\u001b[0m\u001b[0;34m(\u001b[0m\u001b[0mself\u001b[0m\u001b[0;34m.\u001b[0m\u001b[0mpred\u001b[0m\u001b[0;34m)\u001b[0m\u001b[0;34m)\u001b[0m\u001b[0;34m.\u001b[0m\u001b[0mdtype\u001b[0m\u001b[0;34m==\u001b[0m\u001b[0mtorch\u001b[0m\u001b[0;34m.\u001b[0m\u001b[0mfloat16\u001b[0m\u001b[0;34m:\u001b[0m \u001b[0mself\u001b[0m\u001b[0;34m.\u001b[0m\u001b[0mlearn\u001b[0m\u001b[0;34m.\u001b[0m\u001b[0mpred\u001b[0m \u001b[0;34m=\u001b[0m \u001b[0mto_float\u001b[0m\u001b[0;34m(\u001b[0m\u001b[0mself\u001b[0m\u001b[0;34m.\u001b[0m\u001b[0mpred\u001b[0m\u001b[0;34m)\u001b[0m\u001b[0;34m\u001b[0m\u001b[0;34m\u001b[0m\u001b[0m\n\u001b[0m\u001b[1;32m     23\u001b[0m     \u001b[0;32mdef\u001b[0m \u001b[0mafter_loss\u001b[0m\u001b[0;34m(\u001b[0m\u001b[0mself\u001b[0m\u001b[0;34m)\u001b[0m\u001b[0;34m:\u001b[0m \u001b[0mself\u001b[0m\u001b[0;34m.\u001b[0m\u001b[0mautocast\u001b[0m\u001b[0;34m.\u001b[0m\u001b[0m__exit__\u001b[0m\u001b[0;34m(\u001b[0m\u001b[0;32mNone\u001b[0m\u001b[0;34m,\u001b[0m \u001b[0;32mNone\u001b[0m\u001b[0;34m,\u001b[0m \u001b[0;32mNone\u001b[0m\u001b[0;34m)\u001b[0m\u001b[0;34m\u001b[0m\u001b[0;34m\u001b[0m\u001b[0m\n\u001b[1;32m     24\u001b[0m     \u001b[0;32mdef\u001b[0m \u001b[0mbefore_backward\u001b[0m\u001b[0;34m(\u001b[0m\u001b[0mself\u001b[0m\u001b[0;34m)\u001b[0m\u001b[0;34m:\u001b[0m \u001b[0mself\u001b[0m\u001b[0;34m.\u001b[0m\u001b[0mlearn\u001b[0m\u001b[0;34m.\u001b[0m\u001b[0mloss_grad\u001b[0m \u001b[0;34m=\u001b[0m \u001b[0mself\u001b[0m\u001b[0;34m.\u001b[0m\u001b[0mscaler\u001b[0m\u001b[0;34m.\u001b[0m\u001b[0mscale\u001b[0m\u001b[0;34m(\u001b[0m\u001b[0mself\u001b[0m\u001b[0;34m.\u001b[0m\u001b[0mloss_grad\u001b[0m\u001b[0;34m)\u001b[0m\u001b[0;34m\u001b[0m\u001b[0;34m\u001b[0m\u001b[0m\n",
      "\u001b[0;32m/scratch/cse/phd/anz198717/fastcore/fastcore/basics.py\u001b[0m in \u001b[0;36mflatten\u001b[0;34m(o)\u001b[0m\n\u001b[1;32m    425\u001b[0m     \u001b[0;34m\"Concatenate all collections and items as a generator\"\u001b[0m\u001b[0;34m\u001b[0m\u001b[0;34m\u001b[0m\u001b[0m\n\u001b[1;32m    426\u001b[0m     \u001b[0;32mfor\u001b[0m \u001b[0mitem\u001b[0m \u001b[0;32min\u001b[0m \u001b[0mo\u001b[0m\u001b[0;34m:\u001b[0m\u001b[0;34m\u001b[0m\u001b[0;34m\u001b[0m\u001b[0m\n\u001b[0;32m--> 427\u001b[0;31m         \u001b[0;32mtry\u001b[0m\u001b[0;34m:\u001b[0m \u001b[0;32myield\u001b[0m \u001b[0;32mfrom\u001b[0m \u001b[0mflatten\u001b[0m\u001b[0;34m(\u001b[0m\u001b[0mitem\u001b[0m\u001b[0;34m)\u001b[0m\u001b[0;34m\u001b[0m\u001b[0;34m\u001b[0m\u001b[0m\n\u001b[0m\u001b[1;32m    428\u001b[0m         \u001b[0;32mexcept\u001b[0m \u001b[0mTypeError\u001b[0m\u001b[0;34m:\u001b[0m \u001b[0;32myield\u001b[0m \u001b[0mitem\u001b[0m\u001b[0;34m\u001b[0m\u001b[0;34m\u001b[0m\u001b[0m\n\u001b[1;32m    429\u001b[0m \u001b[0;34m\u001b[0m\u001b[0m\n",
      "\u001b[0;32m/scratch/cse/phd/anz198717/fastcore/fastcore/basics.py\u001b[0m in \u001b[0;36mflatten\u001b[0;34m(o)\u001b[0m\n\u001b[1;32m    425\u001b[0m     \u001b[0;34m\"Concatenate all collections and items as a generator\"\u001b[0m\u001b[0;34m\u001b[0m\u001b[0;34m\u001b[0m\u001b[0m\n\u001b[1;32m    426\u001b[0m     \u001b[0;32mfor\u001b[0m \u001b[0mitem\u001b[0m \u001b[0;32min\u001b[0m \u001b[0mo\u001b[0m\u001b[0;34m:\u001b[0m\u001b[0;34m\u001b[0m\u001b[0;34m\u001b[0m\u001b[0m\n\u001b[0;32m--> 427\u001b[0;31m         \u001b[0;32mtry\u001b[0m\u001b[0;34m:\u001b[0m \u001b[0;32myield\u001b[0m \u001b[0;32mfrom\u001b[0m \u001b[0mflatten\u001b[0m\u001b[0;34m(\u001b[0m\u001b[0mitem\u001b[0m\u001b[0;34m)\u001b[0m\u001b[0;34m\u001b[0m\u001b[0;34m\u001b[0m\u001b[0m\n\u001b[0m\u001b[1;32m    428\u001b[0m         \u001b[0;32mexcept\u001b[0m \u001b[0mTypeError\u001b[0m\u001b[0;34m:\u001b[0m \u001b[0;32myield\u001b[0m \u001b[0mitem\u001b[0m\u001b[0;34m\u001b[0m\u001b[0;34m\u001b[0m\u001b[0m\n\u001b[1;32m    429\u001b[0m \u001b[0;34m\u001b[0m\u001b[0m\n",
      "\u001b[0;32m/scratch/cse/phd/anz198717/fastcore/fastcore/basics.py\u001b[0m in \u001b[0;36mflatten\u001b[0;34m(o)\u001b[0m\n\u001b[1;32m    424\u001b[0m \u001b[0;32mdef\u001b[0m \u001b[0mflatten\u001b[0m\u001b[0;34m(\u001b[0m\u001b[0mo\u001b[0m\u001b[0;34m)\u001b[0m\u001b[0;34m:\u001b[0m\u001b[0;34m\u001b[0m\u001b[0;34m\u001b[0m\u001b[0m\n\u001b[1;32m    425\u001b[0m     \u001b[0;34m\"Concatenate all collections and items as a generator\"\u001b[0m\u001b[0;34m\u001b[0m\u001b[0;34m\u001b[0m\u001b[0m\n\u001b[0;32m--> 426\u001b[0;31m     \u001b[0;32mfor\u001b[0m \u001b[0mitem\u001b[0m \u001b[0;32min\u001b[0m \u001b[0mo\u001b[0m\u001b[0;34m:\u001b[0m\u001b[0;34m\u001b[0m\u001b[0;34m\u001b[0m\u001b[0m\n\u001b[0m\u001b[1;32m    427\u001b[0m         \u001b[0;32mtry\u001b[0m\u001b[0;34m:\u001b[0m \u001b[0;32myield\u001b[0m \u001b[0;32mfrom\u001b[0m \u001b[0mflatten\u001b[0m\u001b[0;34m(\u001b[0m\u001b[0mitem\u001b[0m\u001b[0;34m)\u001b[0m\u001b[0;34m\u001b[0m\u001b[0;34m\u001b[0m\u001b[0m\n\u001b[1;32m    428\u001b[0m         \u001b[0;32mexcept\u001b[0m \u001b[0mTypeError\u001b[0m\u001b[0;34m:\u001b[0m \u001b[0;32myield\u001b[0m \u001b[0mitem\u001b[0m\u001b[0;34m\u001b[0m\u001b[0;34m\u001b[0m\u001b[0m\n",
      "\u001b[0;32m/scratch/cse/phd/anz198717/anaconda3/envs/imagexc/lib/python3.8/site-packages/torch/_tensor.py\u001b[0m in \u001b[0;36m__iter__\u001b[0;34m(self)\u001b[0m\n\u001b[1;32m    611\u001b[0m                           \u001b[0;34m'iterations executed (and might lead to errors or silently give '\u001b[0m\u001b[0;34m\u001b[0m\u001b[0;34m\u001b[0m\u001b[0m\n\u001b[1;32m    612\u001b[0m                           'incorrect results).', category=torch.jit.TracerWarning, stacklevel=2)\n\u001b[0;32m--> 613\u001b[0;31m         \u001b[0;32mreturn\u001b[0m \u001b[0miter\u001b[0m\u001b[0;34m(\u001b[0m\u001b[0mself\u001b[0m\u001b[0;34m.\u001b[0m\u001b[0munbind\u001b[0m\u001b[0;34m(\u001b[0m\u001b[0;36m0\u001b[0m\u001b[0;34m)\u001b[0m\u001b[0;34m)\u001b[0m\u001b[0;34m\u001b[0m\u001b[0;34m\u001b[0m\u001b[0m\n\u001b[0m\u001b[1;32m    614\u001b[0m \u001b[0;34m\u001b[0m\u001b[0m\n\u001b[1;32m    615\u001b[0m     \u001b[0;32mdef\u001b[0m \u001b[0m__hash__\u001b[0m\u001b[0;34m(\u001b[0m\u001b[0mself\u001b[0m\u001b[0;34m)\u001b[0m\u001b[0;34m:\u001b[0m\u001b[0;34m\u001b[0m\u001b[0;34m\u001b[0m\u001b[0m\n",
      "\u001b[0;31mKeyboardInterrupt\u001b[0m: "
     ]
    }
   ],
   "source": [
    "learn.fit_one_cycle(1, lr_max=1e-4, cbs=fit_cbs)"
   ]
  },
  {
   "cell_type": "code",
   "execution_count": 15,
   "id": "5376864e",
   "metadata": {},
   "outputs": [],
   "source": [
    "@typedispatch\n",
    "def show_results(\n",
    "    # This typedispatched `show_results` will be called for `HF_MLMInput` typed inputs\n",
    "    x:HF_MLMInput,\n",
    "    # Your targets\n",
    "    y,        \n",
    "    # Your raw inputs/targets\n",
    "    samples,     \n",
    "    # The model's predictions\n",
    "    outs,           \n",
    "    # Your `Learner`. This is required so as to get at the Hugging Face objects for decoding them into \n",
    "    # something understandable\n",
    "    learner, \n",
    "    # Your `show_results` context\n",
    "    ctxs=None, \n",
    "    # The maximum number of items to show\n",
    "    max_n=6, \n",
    "     # Any truncation your want applied to your decoded inputs\n",
    "    trunc_at=None, \n",
    "    # Any other keyword arguments you want applied to `show_results`\n",
    "    **kwargs\n",
    "):  \n",
    "    # grab our tokenizer and ignore token to decode\n",
    "    tfm = first_blurr_tfm(learner.dls)\n",
    "    \n",
    "    hf_config = tfm.hf_config\n",
    "    hf_tokenizer = tfm.hf_tokenizer\n",
    "    ignore_token_id = tfm.ignore_token_id\n",
    "    \n",
    "    # grab our mask token id and do-not-mask token ids\n",
    "    mask_token_id = hf_tokenizer.mask_token_id\n",
    "    \n",
    "    vocab = hf_tokenizer.get_vocab()\n",
    "    dnm_tok_ids = [ vocab[tok] for tok in list(hf_tokenizer.special_tokens_map.values()) \n",
    "                   if vocab[tok] != mask_token_id ]\n",
    "    \n",
    "    res = L()\n",
    "    for s, t in zip(samples, outs):\n",
    "        # exclue dnm tokens from input\n",
    "        inps = [ hf_tokenizer.decode(tok_id) \n",
    "                if (tok_id == mask_token_id or s[1][idx] == ignore_token_id) \n",
    "                else f'[{hf_tokenizer.decode(tok_id)}]' \n",
    "                for idx, tok_id in enumerate(s[0]) if (tok_id not in dnm_tok_ids) ]\n",
    "        \n",
    "        # replaced masked tokens with \"[{actual_token}]\"\n",
    "        trgs = [ hf_tokenizer.decode(s[0][idx]) \n",
    "                if (tok_id == ignore_token_id) \n",
    "                else f'[{hf_tokenizer.decode(tok_id)}]'\n",
    "                for idx, tok_id in enumerate(s[1]) if (s[0][idx] not in dnm_tok_ids) ]\n",
    "\n",
    "        # same as above except we replace the [MASK] with the PREDICTED token\n",
    "        preds = [ hf_tokenizer.decode(s[0][idx])\n",
    "                 if (tok_id == ignore_token_id) \n",
    "                 else f'[{hf_tokenizer.decode(t[0][idx])}]' \n",
    "                 for idx, tok_id in enumerate(s[1]) if (s[0][idx] not in dnm_tok_ids) ]\n",
    "  \n",
    "        res.append((' '.join(inps[:trunc_at]).strip(), \n",
    "                    ' '.join(trgs[:trunc_at]).strip(),\n",
    "                    ' '.join(preds[:trunc_at]).strip()))\n",
    "    \n",
    "    display_df(pd.DataFrame(res, columns=['text', 'target', 'prediction'])[:max_n])\n",
    "    return ctxs"
   ]
  },
  {
   "cell_type": "code",
   "execution_count": 107,
   "id": "7e47cba7",
   "metadata": {},
   "outputs": [
    {
     "data": {
      "text/html": [],
      "text/plain": [
       "<IPython.core.display.HTML object>"
      ]
     },
     "metadata": {},
     "output_type": "display_data"
    },
    {
     "data": {
      "text/html": [
       "<table border=\"1\" class=\"dataframe\">\n",
       "  <thead>\n",
       "    <tr style=\"text-align: right;\">\n",
       "      <th></th>\n",
       "      <th>text</th>\n",
       "      <th>target</th>\n",
       "      <th>prediction</th>\n",
       "    </tr>\n",
       "  </thead>\n",
       "  <tbody>\n",
       "    <tr>\n",
       "      <th>0</th>\n",
       "      <td>The [ deserved] th  Edition &lt;mask&gt;  the  Scientific  Days  of  the  National  Institute  for  Infect ious  Diseases  � � Prof .  Dr &lt;mask&gt;  Mate i &lt;mask&gt; als � � &lt;mask&gt;  the  12 th  National  Infect ious  Diseases  Conference :  Buch arest &lt;mask&gt; &lt;mask&gt; . [ chilled] – 25  November &lt;mask&gt;  A 1  The  outcome &lt;mask&gt;  patients  with  recurrent  versus  non - rec urrent  pneum ococ cal  men ing itis  in  a &lt;mask&gt; iary  health - care &lt;mask&gt;  in  Buch arest  Crist ian - M ih ail  Nic ul ae , [ El] &lt;mask&gt;  Mane a ,  R al uca  J ip &lt;mask&gt; ,  Sim ona  Mer is or ,  R ux andra  Mor oti ,  Ser ban  Bene a ,  Ad ri &lt;mask&gt; &lt;mask&gt; rist ea &lt;mask&gt; 2  Influence  of  bacter i [oph] ages  on  s ess &lt;mask&gt;  Gram - positive  and  Gram - &lt;mask&gt;  bacteria  Al ina  Crist ina &lt;mask&gt; u � � ,  O ana &lt;mask&gt; � � nd ul esc u ,  An &lt;mask&gt;  Stre in u - C &lt;mask&gt; cel [,]  Dana  M &lt;mask&gt; � r cul esc u ,  Mag &lt;mask&gt; ena  Lore na  Andre i &lt;mask&gt;  Veronica &lt;mask&gt; ie ,  Mar ce la  Pop a ,  Cor alia  Ble ot u &lt;mask&gt;  Carmen  Ch if iri uc ,  Mir ce a  I oan  Pop a &lt;mask&gt;  Adrian  Stre in u - C er cel  A 3  The  utility  of  inflammatory  biomark ers [ in]  the  prog nostic  evaluation  of  se [ptic]  patients  –  past ,  present  and  future</td>\n",
       "      <td>The [ 12] th  Edition [ of]  the  Scientific  Days  of  the  National  Institute  for  Infect ious  Diseases  � � Prof .  Dr [.]  Mate i [ B] als � � [ and]  the  12 th  National  Infect ious  Diseases  Conference :  Buch arest [,] [ Romania] . [ 23] – 25  November [ 2016]  A 1  The  outcome [ of]  patients  with  recurrent  versus  non - rec urrent  pneum ococ cal  men ing itis  in  a [ tert] iary  health - care [ hospital]  in  Buch arest  Crist ian - M ih ail  Nic ul ae , [ El] [iza]  Mane a ,  R al uca  J ip [a] ,  Sim ona  Mer is or ,  R ux andra  Mor oti ,  Ser ban  Bene a ,  Ad ri [ana] [ H] rist ea [ A] 2  Influence  of  bacter i [oph] ages  on  s ess [ile]  Gram - positive  and  Gram - [negative]  bacteria  Al ina  Crist ina [ Neg] u � � ,  O ana [ S] � � nd ul esc u ,  An [ca]  Stre in u - C [er] cel [,]  Dana  M [�] � r cul esc u ,  Mag [dal] ena  Lore na  Andre i [,]  Veronica [ Il] ie ,  Mar ce la  Pop a ,  Cor alia  Ble ot u [,]  Carmen  Ch if iri uc ,  Mir ce a  I oan  Pop a [,]  Adrian  Stre in u - C er cel  A 3  The  utility  of  inflammatory  biomark ers [ in]  the  prog nostic  evaluation  of  se [ptic]  patients  –  past ,  present  and  future</td>\n",
       "      <td>The [ 12] th  Edition [ of]  the  Scientific  Days  of  the  National  Institute  for  Infect ious  Diseases  � � Prof .  Dr [ Ion]  Mate i [ Cas] als � � [ at]  the  12 th  National  Infect ious  Diseases  Conference :  Buch arest [,] [ pp] . [ 24] – 25  November [ 2010]  A 1  The  outcome [ of]  patients  with  recurrent  versus  non - rec urrent  pneum ococ cal  men ing itis  in  a [ tert] iary  health - care [ facility]  in  Buch arest  Crist ian - M ih ail  Nic ul ae , [ El] [isa]  Mane a ,  R al uca  J ip [ovic] ,  Sim ona  Mer is or ,  R ux andra  Mor oti ,  Ser ban  Bene a ,  Ad ri [ana] [ Pet] rist ea [ A] 2  Influence  of  bacter i [oph] ages  on  s ess [inia]  Gram - positive  and  Gram - [negative]  bacteria  Al ina  Crist ina [ Ara] u � � ,  O ana [ Fern] � � nd ul esc u ,  An [ca]  Stre in u - C [er] cel [,]  Dana  M [�] � r cul esc u ,  Mag [dal] ena  Lore na  Andre i [,]  Veronica [ Grac] ie ,  Mar ce la  Pop a ,  Cor alia  Ble ot u [,]  Carmen  Ch if iri uc ,  Mir ce a  I oan  Pop a [ Gabriel]  Adrian  Stre in u - C er cel  A 3  The  utility  of  inflammatory  biomark ers [ in]  the  prog nostic  evaluation  of  se [ptic]  patients  –  past ,  present  and  future</td>\n",
       "    </tr>\n",
       "    <tr>\n",
       "      <th>1</th>\n",
       "      <td>[ Effect  of  1 - [ Pik]  specific  immun otherapy  with  standardized  house  dust  m &lt;mask&gt;  vaccine  on  mild  to  moderate  allergic  ast h matic  patients ].  OB JECT IVE  To  evaluate  the  clinical  efficacy  and &lt;mask&gt;  of  specific  immun otherapy  ( &lt;mask&gt; IT &lt;mask&gt;  with &lt;mask&gt;  house  dust  m ite  ( HD M )  vaccine &lt;mask&gt;  allergic  ast h matic  patients [ neighborhood]  M ETHOD S  The  investigation  was  a  mult icent [re] ,  randomized [ mayoral]  double - blind ,  placebo - controlled  clinical &lt;mask&gt; &lt;mask&gt;  132  patients  with  mild  to  moderate  asthma  who  were &lt;mask&gt;  to &lt;mask&gt; M ,  recruited  from  three  hospitals  of  China  ( The  First  Aff iliated  Hospital  of [ Guang] zhou  Medical  College , [ Que] yang  General  Military  Hospital , [________________________________________________________________] hou  Children 's  Hospital ),  were  randomly  allocated  to &lt;mask&gt;  active  group &lt;mask&gt; n  =  66 &lt;mask&gt;  or &lt;mask&gt; &lt;mask&gt;  group  ( n  =  66 [)]  respectively .  The  active  group  received  S IT  with &lt;mask&gt;  standardized  depot  Der mat oph ago ides  p ter ony ss inus  ( Der &lt;mask&gt; )  extract  absorbed  to [ aluminium]  hyd rox ide &lt;mask&gt; Al ut ard &lt;mask&gt; ,  AL K - Ab ell &lt;mask&gt; ,  Denmark ),  while &lt;mask&gt; &lt;mask&gt;  group  received  a  placebo  containing  hist amine  di hyd ro chlor ide  by  sub cut aneous  injections &lt;mask&gt;  1  year . &lt;mask&gt;  of  each  group  was  started  from  the  initial  concentration .  Up d osing  was &lt;mask&gt;  with  weekly  injections  from  four  10 - fold  dose - incre ase</td>\n",
       "      <td>[ Effect  of  1 - [year]  specific  immun otherapy  with  standardized  house  dust  m [ite]  vaccine  on  mild  to  moderate  allergic  ast h matic  patients ].  OB JECT IVE  To  evaluate  the  clinical  efficacy  and [ safety]  of  specific  immun otherapy  ( [S] IT [)]  with [ standardized]  house  dust  m ite  ( HD M )  vaccine [ on]  allergic  ast h matic  patients [.]  M ETHOD S  The  investigation  was  a  mult icent [re] ,  randomized [,]  double - blind ,  placebo - controlled  clinical [ study] [.]  132  patients  with  mild  to  moderate  asthma  who  were [ allergic]  to [ HD] M ,  recruited  from  three  hospitals  of  China  ( The  First  Aff iliated  Hospital  of [ Guang] zhou  Medical  College , [ Shen] yang  General  Military  Hospital , [ Suz] hou  Children 's  Hospital ),  were  randomly  allocated  to [ the]  active  group [ (] n  =  66 [)]  or [ the] [ control]  group  ( n  =  66 [)]  respectively .  The  active  group  received  S IT  with [ a]  standardized  depot  Der mat oph ago ides  p ter ony ss inus  ( Der [ p] )  extract  absorbed  to [ aluminium]  hyd rox ide [ (] Al ut ard [ SQ] ,  AL K - Ab ell [ó] ,  Denmark ),  while [ the] [ control]  group  received  a  placebo  containing  hist amine  di hyd ro chlor ide  by  sub cut aneous  injections [ for]  1  year . [ Treatment]  of  each  group  was  started  from  the  initial  concentration .  Up d osing  was [ performed]  with  weekly  injections  from  four  10 - fold  dose - incre ase</td>\n",
       "      <td>[ Effect  of  1 - [dose]  specific  immun otherapy  with  standardized  house  dust  m [ite]  vaccine  on  mild  to  moderate  allergic  ast h matic  patients ].  OB JECT IVE  To  evaluate  the  clinical  efficacy  and [ safety]  of  specific  immun otherapy  ( [S] IT [)]  with [ standardized]  house  dust  m ite  ( HD M )  vaccine [ on]  allergic  ast h matic  patients [.]  M ETHOD S  The  investigation  was  a  mult icent [re] ,  randomized [,]  double - blind ,  placebo - controlled  clinical [ trial] [ involving]  132  patients  with  mild  to  moderate  asthma  who  were [ randomized]  to [ HD] M ,  recruited  from  three  hospitals  of  China  ( The  First  Aff iliated  Hospital  of [ Guang] zhou  Medical  College , [ Que] yang  General  Military  Hospital , [ Suz] hou  Children 's  Hospital ),  were  randomly  allocated  to [ an]  active  group [ (] n  =  66 [)]  or [ placebo] [ inactive]  group  ( n  =  66 [)]  respectively .  The  active  group  received  S IT  with [ a]  standardized  depot  Der mat oph ago ides  p ter ony ss inus  ( Der [mat] )  extract  absorbed  to [ aluminium]  hyd rox ide [ (] Al ut ard [iol] ,  AL K - Ab ell [heim] ,  Denmark ),  while [ the] [ inactive]  group  received  a  placebo  containing  hist amine  di hyd ro chlor ide  by  sub cut aneous  injections [ every]  1  year . [ Treatment]  of  each  group  was  started  from  the  initial  concentration .  Up d osing  was [ initiated]  with  weekly  injections  from  four  10 - fold  dose - incre ase</td>\n",
       "    </tr>\n",
       "    <tr>\n",
       "      <th>2</th>\n",
       "      <td>&lt;mask&gt; operative  non - ster oidal  anti - inflammatory  drugs  and &lt;mask&gt; &lt;mask&gt; ct al  an ast &lt;mask&gt; otic  leakage [ throttle]  NSA IDs  and  an ast om otic  leakage .  An ast [ stopped] otic  leakage &lt;mask&gt; AL )  is [ the]  most  important  and  one  of  the  most  serious  complications  after  col ore ct al  rese [ctions]  with &lt;mask&gt;  an ast om osis .  Any  factors  that  contribute  to  increase  the  risk  of  AL  should  be &lt;mask&gt;  and -- [ attractiveness]  possible -- [el] im inated .  Non &lt;mask&gt; ster oidal  anti - inflammatory  drugs  ( NSA IDs )  are &lt;mask&gt;  used  for  treating  pain  after  surgical  procedures &lt;mask&gt;  among  these  also &lt;mask&gt; ore ct al  rese ctions .  The  objective  of  this  Ph . &lt;mask&gt; .  thesis  was  to  investigate  whether  the  use  of  NSA IDs  in  the [ Chero] operative  period  increases  the  risk  of &lt;mask&gt; &lt;mask&gt;  and  investigate [ the]  effect  on  path ophys [ 75]  mechanisms .  In  order  to [ achieve]  this ,  the &lt;mask&gt; &lt;mask&gt;  were  performed . &lt;mask&gt;  I  was  a  retrospective ,  case - control  study  in  75  patients  undergoing &lt;mask&gt; ar oscopic  col ore &lt;mask&gt; al  rese ction  for  col ore ct al [ cancer] .  33 [ of]  these  patients  received &lt;mask&gt;  NSA ID  d ic l of en ac  in  the  post operative  period ;  the  remaining  42  did &lt;mask&gt;  receive  any  NSA ID .  There &lt;mask&gt;  significantly  more  AL s  among  the  patients  receiving  d ic l of en [ac]  ( 7 / 33  vs .</td>\n",
       "      <td>[ Post] operative  non - ster oidal  anti - inflammatory  drugs  and [ col] [ore] ct al  an ast [om] otic  leakage [.]  NSA IDs  and  an ast om otic  leakage .  An ast [om] otic  leakage [ (] AL )  is [ the]  most  important  and  one  of  the  most  serious  complications  after  col ore ct al  rese [ctions]  with [ primary]  an ast om osis .  Any  factors  that  contribute  to  increase  the  risk  of  AL  should  be [ identified]  and -- [if]  possible -- [el] im inated .  Non [-] ster oidal  anti - inflammatory  drugs  ( NSA IDs )  are [ often]  used  for  treating  pain  after  surgical  procedures [,]  among  these  also [ col] ore ct al  rese ctions .  The  objective  of  this  Ph . [d] .  thesis  was  to  investigate  whether  the  use  of  NSA IDs  in  the [ post] operative  period  increases  the  risk  of [ AL] [,]  and  investigate [ the]  effect  on  path ophys [iological]  mechanisms .  In  order  to [ achieve]  this ,  the [ following] [ studies]  were  performed . [ Study]  I  was  a  retrospective ,  case - control  study  in  75  patients  undergoing [ lap] ar oscopic  col ore [ct] al  rese ction  for  col ore ct al [ cancer] .  33 [ of]  these  patients  received [ the]  NSA ID  d ic l of en ac  in  the  post operative  period ;  the  remaining  42  did [ not]  receive  any  NSA ID .  There [ were]  significantly  more  AL s  among  the  patients  receiving  d ic l of en [ac]  ( 7 / 33  vs .</td>\n",
       "      <td>[Post] operative  non - ster oidal  anti - inflammatory  drugs  and [ col] [ore] ct al  an ast [om] otic  leakage [ between]  NSA IDs  and  an ast om otic  leakage .  An ast [om] otic  leakage [ (] AL )  is [ the]  most  important  and  one  of  the  most  serious  complications  after  col ore ct al  rese [ctions]  with [ abdominal]  an ast om osis .  Any  factors  that  contribute  to  increase  the  risk  of  AL  should  be [ eliminated]  and -- [when]  possible -- [el] im inated .  Non [-] ster oidal  anti - inflammatory  drugs  ( NSA IDs )  are [ commonly]  used  for  treating  pain  after  surgical  procedures [;]  among  these  also [ col] ore ct al  rese ctions .  The  objective  of  this  Ph . [D] .  thesis  was  to  investigate  whether  the  use  of  NSA IDs  in  the [ post] operative  period  increases  the  risk  of [ AL] [ disease]  and  investigate [ the]  effect  on  path ophys [iological]  mechanisms .  In  order  to [ achieve]  this ,  the [ following] [ studies]  were  performed . [ Study]  I  was  a  retrospective ,  case - control  study  in  75  patients  undergoing [ lap] ar oscopic  col ore [ct] al  rese ction  for  col ore ct al [ cancer] .  33 [ of]  these  patients  received [ any]  NSA ID  d ic l of en ac  in  the  post operative  period ;  the  remaining  42  did [ not]  receive  any  NSA ID .  There [ were]  significantly  more  AL s  among  the  patients  receiving  d ic l of en [ac]  ( 7 / 33  vs .</td>\n",
       "    </tr>\n",
       "    <tr>\n",
       "      <th>3</th>\n",
       "      <td>Is  There  an  Advantage &lt;mask&gt;  Knot less  Bar bed  S uture  in  T KA  W ound  Cl osure ?  A  Random ized &lt;mask&gt; &lt;mask&gt;  Sim ultane &lt;mask&gt;  B ilateral  T K As .  BACK GROUND &lt;mask&gt;  wound  closure  is  critical  to  minimizing  wound  complications  and  with standing  the  forces  associated  with  early  knee  motion  after  T KA . &lt;mask&gt; bed  s ut ures &lt;mask&gt;  for  knot less  fixation ,  have &lt;mask&gt;  used  successfully  in  other &lt;mask&gt; ties ,  and  may  provide &lt;mask&gt;  more &lt;mask&gt;  distribution  of  tension  along  the &lt;mask&gt;  of  the &lt;mask&gt; ision ;  however , &lt;mask&gt; [ propulsion]  un id irection al  bar bed  s ut &lt;mask&gt;  from  randomized  trials  have  raised  important &lt;mask&gt;  about  their  use .  Bid irection al  bar bed &lt;mask&gt; ut ures  offer  a  potential [ alternative] ,  but &lt;mask&gt;  not  been  studied  extensively  in  orth op aed ic  surgery &lt;mask&gt;  QUEST IONS / P UR &lt;mask&gt; ES  Using  a  prospective [ crowned]  randomized &lt;mask&gt;  within - patient  controlled  study  design  I &lt;mask&gt;  wound  closure  performed  with  bid irection al &lt;mask&gt; bed  s &lt;mask&gt; ures  in  one  knee  of  bilateral  T K As  performed  under &lt;mask&gt;  same [ an] esthetic  with  those &lt;mask&gt; [ with]  standard  s ut ures  in  the &lt;mask&gt;  knee  to  determine  whether  the &lt;mask&gt; bed  s uture  was  associated  with &lt;mask&gt; 1 )  faster  closure &lt;mask&gt; ;  ( 2 )  fewer  intra operative [ s] uture  issues ,  such  as  needle  sticks  or  s uture  break [age] ,  and  fewer  post operative  wound  complications ;  (</td>\n",
       "      <td>Is  There  an  Advantage [ to]  Knot less  Bar bed  S uture  in  T KA  W ound  Cl osure ?  A  Random ized [ Trial] [ in]  Sim ultane [ous]  B ilateral  T K As .  BACK GROUND [ Effective]  wound  closure  is  critical  to  minimizing  wound  complications  and  with standing  the  forces  associated  with  early  knee  motion  after  T KA . [ Bar] bed  s ut ures [ allow]  for  knot less  fixation ,  have [ been]  used  successfully  in  other [ special] ties ,  and  may  provide [ for]  more [ even]  distribution  of  tension  along  the [ length]  of  the [ inc] ision ;  however , [ data] [ regarding]  un id irection al  bar bed  s ut [ures]  from  randomized  trials  have  raised  important [ concerns]  about  their  use .  Bid irection al  bar bed [ s] ut ures  offer  a  potential [ alternative] ,  but [ have]  not  been  studied  extensively  in  orth op aed ic  surgery [.]  QUEST IONS / P UR [POS] ES  Using  a  prospective [,]  randomized [,]  within - patient  controlled  study  design  I [ compared]  wound  closure  performed  with  bid irection al [ bar] bed  s [ut] ures  in  one  knee  of  bilateral  T K As  performed  under [ the]  same [ an] esthetic  with  those [ performed] [ with]  standard  s ut ures  in  the [ other]  knee  to  determine  whether  the [ bar] bed  s uture  was  associated  with [ (] 1 )  faster  closure [ times] ;  ( 2 )  fewer  intra operative [ s] uture  issues ,  such  as  needle  sticks  or  s uture  break [age] ,  and  fewer  post operative  wound  complications ;  (</td>\n",
       "      <td>Is  There  an  Advantage [ for]  Knot less  Bar bed  S uture  in  T KA  W ound  Cl osure ?  A  Random ized [ Study] [ Using]  Sim ultane [ously]  B ilateral  T K As .  BACK GROUND [ Rapid]  wound  closure  is  critical  to  minimizing  wound  complications  and  with standing  the  forces  associated  with  early  knee  motion  after  T KA . [ Bar] bed  s ut ures [ allow]  for  knot less  fixation ,  have [ been]  used  successfully  in  other [ special] ties ,  and  may  provide [ a]  more [ efficient]  distribution  of  tension  along  the [ perimeter]  of  the [ inc] ision ;  however , [ trials] [ of]  un id irection al  bar bed  s ut [ures]  from  randomized  trials  have  raised  important [ questions]  about  their  use .  Bid irection al  bar bed [ s] ut ures  offer  a  potential [ alternative] ,  but [ have]  not  been  studied  extensively  in  orth op aed ic  surgery [.]  QUEST IONS / P UR [POS] ES  Using  a  prospective [ prospective]  randomized [ controlled]  within - patient  controlled  study  design  I [ compared]  wound  closure  performed  with  bid irection al [ bar] bed  s [ut] ures  in  one  knee  of  bilateral  T K As  performed  under [ the]  same [ an] esthetic  with  those [ treated] [ with]  standard  s ut ures  in  the [ other]  knee  to  determine  whether  the [ bar] bed  s uture  was  associated  with [ (] 1 )  faster  closure [ outcomes] ;  ( 2 )  fewer  intra operative [ s] uture  issues ,  such  as  needle  sticks  or  s uture  break [age] ,  and  fewer  post operative  wound  complications ;  (</td>\n",
       "    </tr>\n",
       "    <tr>\n",
       "      <th>4</th>\n",
       "      <td>Engine ered  antibodies  take  center  stage .  The  start &lt;mask&gt;  the  post - gen [omic]  era  provides &lt;mask&gt;  useful  jun cture  for  reflection  on  the  state  of  antibody  engineering ,  which  will  be  a  critical  technology  for  relating  function  and  pathology  to  genomic  sequence  in  biology  and &lt;mask&gt; . &lt;mask&gt;  phenomenal  progress  in  decipher &lt;mask&gt;  the  human  genome  has  given  significant  impetus  to  the &lt;mask&gt;  of  engineered  antibodies  in  prote omics .  Thus ,  advances  in  ph age  display  antibody  libraries  can  now  help  to  define  novel &lt;mask&gt;  function  and &lt;mask&gt;  measurement  of [ fetal]  protein  expression  in  pathological  states .  Furthermore ,  intr ab ody  and &lt;mask&gt;  engineering  provide  vehicles [ for]  the  development [ of] &lt;mask&gt;  medicines  of  the &lt;mask&gt; .  In  addition  to  these &lt;mask&gt;  directions ,  antibody  engineering  has  begun  to  show  concrete &lt;mask&gt;  in  its  long - term  efforts  to  develop  targeted  immun &lt;mask&gt; ap &lt;mask&gt;  for &lt;mask&gt;  and  other  diseases .  The  corner stones &lt;mask&gt;  clinical  development  are  the  detailed  academic  clinical  trials  that  continue  to  push  the  boundaries  of  engineered  antibodies  into  the  real  world &lt;mask&gt;  The  field  displays  a  healthy  impat ience  for  practical  results ,  as  research &lt;mask&gt; [ates]  with  concerted  efforts  to  transfer  pre clinical  insights [ scientific]  clinical [hirt] . &lt;mask&gt; &lt;mask&gt;  and &lt;mask&gt;  expenditures  will  lead  to  the  rapid  expansion  of  life - saving &lt;mask&gt; other &lt;mask&gt; utic [ monstrous] .  The  present  review  developed  from  our  effort  to  report &lt;mask&gt;  the  11 th  Annual  International  Conference  on  Ant ib ody  Engineering  (</td>\n",
       "      <td>Engine ered  antibodies  take  center  stage .  The  start [ of]  the  post - gen [omic]  era  provides [ a]  useful  jun cture  for  reflection  on  the  state  of  antibody  engineering ,  which  will  be  a  critical  technology  for  relating  function  and  pathology  to  genomic  sequence  in  biology  and [ medicine] . [ The]  phenomenal  progress  in  decipher [ing]  the  human  genome  has  given  significant  impetus  to  the [ application]  of  engineered  antibodies  in  prote omics .  Thus ,  advances  in  ph age  display  antibody  libraries  can  now  help  to  define  novel [ gene]  function  and [ the]  measurement  of [ abnormal]  protein  expression  in  pathological  states .  Furthermore ,  intr ab ody  and [ antibody]  engineering  provide  vehicles [ for]  the  development [ of] [ molecular]  medicines  of  the [ future] .  In  addition  to  these [ new]  directions ,  antibody  engineering  has  begun  to  show  concrete [ success]  in  its  long - term  efforts  to  develop  targeted  immun [other] ap [ies]  for [ cancer]  and  other  diseases .  The  corner stones [ of]  clinical  development  are  the  detailed  academic  clinical  trials  that  continue  to  push  the  boundaries  of  engineered  antibodies  into  the  real  world [.]  The  field  displays  a  healthy  impat ience  for  practical  results ,  as  research [ acceler] [ates]  with  concerted  efforts  to  transfer  pre clinical  insights [ into]  clinical [ trials] . [ Growing] [ private]  and [ governmental]  expenditures  will  lead  to  the  rapid  expansion  of  life - saving [ immun] other [ape] utic [ agents] .  The  present  review  developed  from  our  effort  to  report [ on]  the  11 th  Annual  International  Conference  on  Ant ib ody  Engineering  (</td>\n",
       "      <td>Engine ered  antibodies  take  center  stage .  The  start [ of]  the  post - gen [omic]  era  provides [ a]  useful  jun cture  for  reflection  on  the  state  of  antibody  engineering ,  which  will  be  a  critical  technology  for  relating  function  and  pathology  to  genomic  sequence  in  biology  and [ medicine] . [ The]  phenomenal  progress  in  decipher [ing]  the  human  genome  has  given  significant  impetus  to  the [ development]  of  engineered  antibodies  in  prote omics .  Thus ,  advances  in  ph age  display  antibody  libraries  can  now  help  to  define  novel [ antibody]  function  and [ facilitate]  measurement  of [ fetal]  protein  expression  in  pathological  states .  Furthermore ,  intr ab ody  and [ antibody]  engineering  provide  vehicles [ for]  the  development [ of] [ novel]  medicines  of  the [ future] .  In  addition  to  these [ promising]  directions ,  antibody  engineering  has  begun  to  show  concrete [ promise]  in  its  long - term  efforts  to  develop  targeted  immun [other] ap [ologies]  for [ cancer]  and  other  diseases .  The  corner stones [ of]  clinical  development  are  the  detailed  academic  clinical  trials  that  continue  to  push  the  boundaries  of  engineered  antibodies  into  the  real  world [.]  The  field  displays  a  healthy  impat ience  for  practical  results ,  as  research [ acceler] [ates]  with  concerted  efforts  to  transfer  pre clinical  insights [ into]  clinical [ trials] . [ Increased] [ research]  and [ research]  expenditures  will  lead  to  the  rapid  expansion  of  life - saving [ immun] other [ape] utic [ therapies] .  The  present  review  developed  from  our  effort  to  report [ on]  the  11 th  Annual  International  Conference  on  Ant ib ody  Engineering  (</td>\n",
       "    </tr>\n",
       "    <tr>\n",
       "      <th>5</th>\n",
       "      <td>[ Visual ization  analysis  on  treatment  of [ minus] av irus  based &lt;mask&gt;  knowledge  graph &lt;mask&gt;  OB JECT IVE :  To  discuss  the  research  progress  in  the  field  of  coron [av] irus  ( Co Vs )  treatment  based  on  the  visualization  analysis  of  knowledge  graph .  M ETHOD S :  The  related &lt;mask&gt; atures [ kan]  the  field  of &lt;mask&gt; Vs  treatment  were  retrieved  from  the  establishment  of  Web  of  Science  core  collection  database &lt;mask&gt;  February  15 [ imperson] [,] &lt;mask&gt; ,  and  the  literature  analysis  tool  of &lt;mask&gt;  of  Science  database  was  used  to  count  the  annual  trend [ evening] &lt;mask&gt;  liter atures .  The &lt;mask&gt; OS view &lt;mask&gt;  software  was  used  to  analyze  the  relationship  among  countries [,]  institutions &lt;mask&gt;  authors ,  clust ering  and  density  of  subject  words .  The  Hist &lt;mask&gt; ite &lt;mask&gt;  was  used  to  screen  important  documents  and  to  draw  the [ substantially]  process  of  hot  spots .  The  C ite Space  software  was  used  to  analyze  the  breakout  points  of  subject  words ,  so  as  to  find  the  front  and  hot  spots &lt;mask&gt;  this  field .  RES ULTS :  A  total  of  1  747 &lt;mask&gt;  were  retrieved ,  with  the  exception  of  17  duplicate &lt;mask&gt; , [No]  1  7 30 &lt;mask&gt;  were  retained  for  visualization  analysis .  In &lt;mask&gt;  of  literature  volume ,  the  liter atures  on  Co Vs  therapy &lt;mask&gt;  after [ 2003] &lt;mask&gt;  2012 ,  and  the  number  of  published  liter atures  had  remained &lt;mask&gt;  since  2014 .  In  terms  of  countries ,  the &lt;mask&gt;  countries  that</td>\n",
       "      <td>[ Visual ization  analysis  on  treatment  of [ coron] av irus  based [ on]  knowledge  graph []]  OB JECT IVE :  To  discuss  the  research  progress  in  the  field  of  coron [av] irus  ( Co Vs )  treatment  based  on  the  visualization  analysis  of  knowledge  graph .  M ETHOD S :  The  related [ liter] atures [ in]  the  field  of [ Co] Vs  treatment  were  retrieved  from  the  establishment  of  Web  of  Science  core  collection  database [ to]  February  15 [th] [,] [ 2020] ,  and  the  literature  analysis  tool  of [ Web]  of  Science  database  was  used  to  count  the  annual  trend [ of] [ published]  liter atures .  The [ V] OS view [er]  software  was  used  to  analyze  the  relationship  among  countries [,]  institutions [,]  authors ,  clust ering  and  density  of  subject  words .  The  Hist [C] ite [ software]  was  used  to  screen  important  documents  and  to  draw  the [ evolution]  process  of  hot  spots .  The  C ite Space  software  was  used  to  analyze  the  breakout  points  of  subject  words ,  so  as  to  find  the  front  and  hot  spots [ in]  this  field .  RES ULTS :  A  total  of  1  747 [ data]  were  retrieved ,  with  the  exception  of  17  duplicate [ data] , [ and]  1  7 30 [ data]  were  retained  for  visualization  analysis .  In [ terms]  of  literature  volume ,  the  liter atures  on  Co Vs  therapy [ rose]  after [ 2003] [ and]  2012 ,  and  the  number  of  published  liter atures  had  remained [ high]  since  2014 .  In  terms  of  countries ,  the [ main]  countries  that</td>\n",
       "      <td>[ Visual ization  analysis  on  treatment  of [ coron] av irus  based [ on]  knowledge  graph [.]]  OB JECT IVE :  To  discuss  the  research  progress  in  the  field  of  coron [av] irus  ( Co Vs )  treatment  based  on  the  visualization  analysis  of  knowledge  graph .  M ETHOD S :  The  related [ liter] atures [ in]  the  field  of [ Co] Vs  treatment  were  retrieved  from  the  establishment  of  Web  of  Science  core  collection  database [ dated]  February  15 [th] [,] [ 2012] ,  and  the  literature  analysis  tool  of [ Web]  of  Science  database  was  used  to  count  the  annual  trend [ of] [ published]  liter atures .  The [ PL] OS view [ visualization]  software  was  used  to  analyze  the  relationship  among  countries [,]  institutions [ and]  authors ,  clust ering  and  density  of  subject  words .  The  Hist [ocr] ite [ software]  was  used  to  screen  important  documents  and  to  draw  the [ classification]  process  of  hot  spots .  The  C ite Space  software  was  used  to  analyze  the  breakout  points  of  subject  words ,  so  as  to  find  the  front  and  hot  spots [ in]  this  field .  RES ULTS :  A  total  of  1  747 [ manuscripts]  were  retrieved ,  with  the  exception  of  17  duplicate [ manuscripts] , [ whereas]  1  7 30 [ manuscripts]  were  retained  for  visualization  analysis .  In [ terms]  of  literature  volume ,  the  liter atures  on  Co Vs  therapy [ peaked]  after [ 2003] [ and]  2012 ,  and  the  number  of  published  liter atures  had  remained [ constant]  since  2014 .  In  terms  of  countries ,  the [ main]  countries  that</td>\n",
       "    </tr>\n",
       "    <tr>\n",
       "      <th>6</th>\n",
       "      <td>Rec al ibr ating &lt;mask&gt;  Medicine  through  Animal  Welfare &lt;mask&gt;  and  Ethics  for &lt;mask&gt;  2020 s  SIM PLE  SUM M ARY : &lt;mask&gt;  article  emphasizes  the  importance  of  educating  veterin arians  and  veterinary  students  in  animal  welfare  science  and  veterinary &lt;mask&gt; ,  so  that  they  can  ab ly  advance  pertinent  scientific  knowledge  and  promote  ethical  thinking  as &lt;mask&gt;  animal  advocates [ in] &lt;mask&gt;  2020 s . &lt;mask&gt;  light  of  this  public  expectation , &lt;mask&gt;  number  of  challenges &lt;mask&gt;  raised  for  veterin arians  and  the  veterinary  profession . [ These]  challenges  involve :  ( 1 )  re - en vision ing  the  nature  of  disease  treatment  that &lt;mask&gt;  beyond &lt;mask&gt;  conceptions &lt;mask&gt;  health  or  clinical &lt;mask&gt; , &lt;mask&gt; [ which] &lt;mask&gt;  animal  welfare ; &lt;mask&gt; 2 )  re - imag &lt;mask&gt;  disease  prevention  at  the  intersection  of  animal &lt;mask&gt; human - &lt;mask&gt; os ystem  health ;  ( 3 )  developing  core  compet encies  in  animal  welfare  science  and  ethics  in  order  to  provide  professional  leadership [ heroine]  animal  welfare &lt;mask&gt;  and  ( 4 ) &lt;mask&gt;  a  more  active  role  in &lt;mask&gt; [Blu]  of  novel  network ed  devices ,  monitoring  technologies  and  automated  animal  welfare  solutions , &lt;mask&gt;  understanding  their  effects  on  the &lt;mask&gt; &lt;mask&gt;  animals ,  human &lt;mask&gt; animal  relationships &lt;mask&gt;  and  the  veterinary  profession  in  general .  AB STR ACT :  What  should  leading  disc ourses  and  innovation  regarding &lt;mask&gt;  welfare &lt;mask&gt;  like  for  the  veterinary  profession  in  the  2020 s ?  This  essay  considers  four &lt;mask&gt;  challenges  into  which &lt;mask&gt; arians  are  increasingly</td>\n",
       "      <td>Rec al ibr ating [ Veterinary]  Medicine  through  Animal  Welfare [ Science]  and  Ethics  for [ the]  2020 s  SIM PLE  SUM M ARY : [ This]  article  emphasizes  the  importance  of  educating  veterin arians  and  veterinary  students  in  animal  welfare  science  and  veterinary [ ethics] ,  so  that  they  can  ab ly  advance  pertinent  scientific  knowledge  and  promote  ethical  thinking  as [ trusted]  animal  advocates [ in] [ the]  2020 s . [ In]  light  of  this  public  expectation , [ a]  number  of  challenges [ are]  raised  for  veterin arians  and  the  veterinary  profession . [ These]  challenges  involve :  ( 1 )  re - en vision ing  the  nature  of  disease  treatment  that [ goes]  beyond [ traditional]  conceptions [ of]  health  or  clinical [ matters] , [ and] [ which] [ include]  animal  welfare ; [ (] 2 )  re - imag [ining]  disease  prevention  at  the  intersection  of  animal [-] human - [ec] os ystem  health ;  ( 3 )  developing  core  compet encies  in  animal  welfare  science  and  ethics  in  order  to  provide  professional  leadership [ in]  animal  welfare [;]  and  ( 4 ) [ taking]  a  more  active  role  in [ the] [ development]  of  novel  network ed  devices ,  monitoring  technologies  and  automated  animal  welfare  solutions , [ and]  understanding  their  effects  on  the [ welfare] [ of]  animals ,  human [-] animal  relationships [,]  and  the  veterinary  profession  in  general .  AB STR ACT :  What  should  leading  disc ourses  and  innovation  regarding [ animal]  welfare [ look]  like  for  the  veterinary  profession  in  the  2020 s ?  This  essay  considers  four [ main]  challenges  into  which [ veterin] arians  are  increasingly</td>\n",
       "      <td>Rec al ibr ating [ Veterinary]  Medicine  through  Animal  Welfare [ Science]  and  Ethics  for [ the]  2020 s  SIM PLE  SUM M ARY : [ This]  article  emphasizes  the  importance  of  educating  veterin arians  and  veterinary  students  in  animal  welfare  science  and  veterinary [ ethics] ,  so  that  they  can  ab ly  advance  pertinent  scientific  knowledge  and  promote  ethical  thinking  as [ trusted]  animal  advocates [ in] [ the]  2020 s . [ In]  light  of  this  public  expectation , [ a]  number  of  challenges [ are]  raised  for  veterin arians  and  the  veterinary  profession . [ These]  challenges  involve :  ( 1 )  re - en vision ing  the  nature  of  disease  treatment  that [ extends]  beyond [ traditional]  conceptions [ of]  health  or  clinical [ ethics] , [ considerations] [ which] [ involve]  animal  welfare ; [ (] 2 )  re - imag [ining]  disease  prevention  at  the  intersection  of  animal [-] human - [ec] os ystem  health ;  ( 3 )  developing  core  compet encies  in  animal  welfare  science  and  ethics  in  order  to  provide  professional  leadership [ in]  animal  welfare [ science]  and  ( 4 ) [ taking]  a  more  active  role  in [ the] [ feedback]  of  novel  network ed  devices ,  monitoring  technologies  and  automated  animal  welfare  solutions , [ thereby]  understanding  their  effects  on  the [ welfare] [ of]  animals ,  human [-] animal  relationships [,]  and  the  veterinary  profession  in  general .  AB STR ACT :  What  should  leading  disc ourses  and  innovation  regarding [ animal]  welfare [ look]  like  for  the  veterinary  profession  in  the  2020 s ?  This  essay  considers  four [ key]  challenges  into  which [ veterin] arians  are  increasingly</td>\n",
       "    </tr>\n",
       "    <tr>\n",
       "      <th>7</th>\n",
       "      <td>Basic &lt;mask&gt; ction  Rate  and  Case  Fat ality  Rate  of  CO &lt;mask&gt; &lt;mask&gt; 19 :  Application  of  Meta &lt;mask&gt; analysis  Abstract  Background &lt;mask&gt;  The  outbreak  of  novel  coron av irus &lt;mask&gt;  of  2019 &lt;mask&gt; CO VID [-] 19 )  has  a  wider  geographical  spread  than  other  previous  viruses  such  as  Ebola &lt;mask&gt;  H 1 N 1 .  The  onset  of  disease  and &lt;mask&gt;  transmission  and  severity  has  become  a  global  concern .  The  policymakers  have  a &lt;mask&gt;  concern  for  containing  the  spread  and  minim ising  the  risk  of  death .  Aim &lt;mask&gt; &lt;mask&gt;  study &lt;mask&gt;  to  provide  the  estimates [ lounge]  basic  reproduction  rate  ( R &lt;mask&gt; )  and  case  fat ality  rate  ( &lt;mask&gt; FR )  which &lt;mask&gt;  to  a  general &lt;mask&gt;  population &lt;mask&gt;  Methods : &lt;mask&gt;  systematic  review  was  carried  out  to  retrieve  the &lt;mask&gt;  estimates &lt;mask&gt;  reproduction  rate  and  case  fat ality  rate  in  peer - reviewed  articles  from  PubMed  MED LINE  database  with  defined  inclusion  and  exclusion  criteria  in  the  period  15  December  2019  to  3  May  2020 .  The  systematic  review  led  to &lt;mask&gt;  selection  of  24  articles  for  R &lt;mask&gt;  and  17  articles  for  CFR .  These  studies &lt;mask&gt;  data  from  China  and  its  provinces ,  other  Asian  countries  such  as  Japan , &lt;mask&gt; ,  the  Philippines ,  and  countries  from  other  parts &lt;mask&gt;  the  world  such  as  Nigeria ,  Iran ,  Italy &lt;mask&gt; &lt;mask&gt;  as  a  whole [Screenshot]  France ,  Latin  America ,  Turkey ,  the  United  Kingdom  ( UK ),  and  the  United</td>\n",
       "      <td>Basic [ Reprodu] ction  Rate  and  Case  Fat ality  Rate  of  CO [VID] [-] 19 :  Application  of  Meta [-] analysis  Abstract  Background [:]  The  outbreak  of  novel  coron av irus [ disease]  of  2019 [ (] CO VID [-] 19 )  has  a  wider  geographical  spread  than  other  previous  viruses  such  as  Ebola [ and]  H 1 N 1 .  The  onset  of  disease  and [ its]  transmission  and  severity  has  become  a  global  concern .  The  policymakers  have  a [ serious]  concern  for  containing  the  spread  and  minim ising  the  risk  of  death .  Aim [:] [ This]  study [ aims]  to  provide  the  estimates [ of]  basic  reproduction  rate  ( R [0] )  and  case  fat ality  rate  ( [C] FR )  which [ applies]  to  a  general [ised]  population [.]  Methods : [ A]  systematic  review  was  carried  out  to  retrieve  the [ published]  estimates [ of]  reproduction  rate  and  case  fat ality  rate  in  peer - reviewed  articles  from  PubMed  MED LINE  database  with  defined  inclusion  and  exclusion  criteria  in  the  period  15  December  2019  to  3  May  2020 .  The  systematic  review  led  to [ the]  selection  of  24  articles  for  R [0]  and  17  articles  for  CFR .  These  studies [ used]  data  from  China  and  its  provinces ,  other  Asian  countries  such  as  Japan , [ Korea] ,  the  Philippines ,  and  countries  from  other  parts [ of]  the  world  such  as  Nigeria ,  Iran ,  Italy [,] [ Europe]  as  a  whole [,]  France ,  Latin  America ,  Turkey ,  the  United  Kingdom  ( UK ),  and  the  United</td>\n",
       "      <td>Basic [ Reprodu] ction  Rate  and  Case  Fat ality  Rate  of  CO [VID] [-] 19 :  Application  of  Meta [-] analysis  Abstract  Background [:]  The  outbreak  of  novel  coron av irus [ virus]  of  2019 [ (] CO VID [-] 19 )  has  a  wider  geographical  spread  than  other  previous  viruses  such  as  Ebola [ and]  H 1 N 1 .  The  onset  of  disease  and [ its]  transmission  and  severity  has  become  a  global  concern .  The  policymakers  have  a [ particular]  concern  for  containing  the  spread  and  minim ising  the  risk  of  death .  Aim [:] [ Our]  study [ aims]  to  provide  the  estimates [ of]  basic  reproduction  rate  ( R [0] )  and  case  fat ality  rate  ( [C] FR )  which [ relate]  to  a  general [ised]  population [.]  Methods : [ A]  systematic  review  was  carried  out  to  retrieve  the [ pooled]  estimates [ basic]  reproduction  rate  and  case  fat ality  rate  in  peer - reviewed  articles  from  PubMed  MED LINE  database  with  defined  inclusion  and  exclusion  criteria  in  the  period  15  December  2019  to  3  May  2020 .  The  systematic  review  led  to [ the]  selection  of  24  articles  for  R [0]  and  17  articles  for  CFR .  These  studies [ included]  data  from  China  and  its  provinces ,  other  Asian  countries  such  as  Japan , [ Indonesia] ,  the  Philippines ,  and  countries  from  other  parts [ of]  the  world  such  as  Nigeria ,  Iran ,  Italy [ and] [ Europe]  as  a  whole [),]  France ,  Latin  America ,  Turkey ,  the  United  Kingdom  ( UK ),  and  the  United</td>\n",
       "    </tr>\n",
       "    <tr>\n",
       "      <th>8</th>\n",
       "      <td>Cor on &lt;mask&gt; irus  in  pregnancy  and  delivery :  rapid  review  OB JECT IVES :  There  are  limited  case  series  reporting &lt;mask&gt;  impact  on  women  affected &lt;mask&gt;  coron av &lt;mask&gt; &lt;mask&gt;  pregnancy .  In  women  affected  by  severe  acute  respiratory  syndrome  ( S ARS &lt;mask&gt;  and  Middle  East  respiratory  syndrome  ( M ERS ), &lt;mask&gt; &lt;mask&gt;  fat ality &lt;mask&gt; &lt;mask&gt;  higher  in  those  affected  in  pregnancy  compared  with &lt;mask&gt; - p reg [nant]  women .  We  conducted &lt;mask&gt;  rapid  review  to  guide  health  policy  and  management  of  women  affected &lt;mask&gt;  CO VID - 19 &lt;mask&gt;  pregnancy ,  which [ was]  used  to  develop  the  Royal  College  of  Obst etric ians  and  G yna ec ologists '  ( RC OG )  guidelines &lt;mask&gt;  CO &lt;mask&gt; - 19 &lt;mask&gt;  in  pregnancy .  M ETHOD S :  Sear ches  were  conducted  in  PubMed  and &lt;mask&gt; [R] x iv  to  identify  primary  case  reports ,  case  series ,  observational  studies  and  randomized  controlled  trials  describing  women  affected  by  coron av irus  in &lt;mask&gt; . &lt;mask&gt;  were  extracted  from  relevant  papers .  This  review  has  been  used  to  develop  guidelines  with &lt;mask&gt;  of  the  Royal  College [ of]  P &lt;mask&gt; iatrics  and  Child  Health  ( RC P CH ) &lt;mask&gt;  RC OG  who  provided  expert  consensus  on  areas  in  which [ policymakers]  were  lacking .  RES ULTS :  From  99 65  search &lt;mask&gt;  in  PubMed &lt;mask&gt; &lt;mask&gt;  in  Med R [x] iv , [ hacker]  relevant  studies ,  all  of &lt;mask&gt;  were  case  reports  or  case  series , &lt;mask&gt;</td>\n",
       "      <td>Cor on [av] irus  in  pregnancy  and  delivery :  rapid  review  OB JECT IVES :  There  are  limited  case  series  reporting [ the]  impact  on  women  affected [ by]  coron av [irus] [ during]  pregnancy .  In  women  affected  by  severe  acute  respiratory  syndrome  ( S ARS [)]  and  Middle  East  respiratory  syndrome  ( M ERS ), [ the] [ case]  fat ality [ rate] [ appears]  higher  in  those  affected  in  pregnancy  compared  with [ non] - p reg [nant]  women .  We  conducted [ a]  rapid  review  to  guide  health  policy  and  management  of  women  affected [ by]  CO VID - 19 [ during]  pregnancy ,  which [ was]  used  to  develop  the  Royal  College  of  Obst etric ians  and  G yna ec ologists '  ( RC OG )  guidelines [ on]  CO [VID] - 19 [ infection]  in  pregnancy .  M ETHOD S :  Sear ches  were  conducted  in  PubMed  and [ Med] [R] x iv  to  identify  primary  case  reports ,  case  series ,  observational  studies  and  randomized  controlled  trials  describing  women  affected  by  coron av irus  in [ pregnancy] . [ Data]  were  extracted  from  relevant  papers .  This  review  has  been  used  to  develop  guidelines  with [ representatives]  of  the  Royal  College [ of]  P [aed] iatrics  and  Child  Health  ( RC P CH ) [ and]  RC OG  who  provided  expert  consensus  on  areas  in  which [ data]  were  lacking .  RES ULTS :  From  99 65  search [ results]  in  PubMed [ and] [ 600]  in  Med R [x] iv , [ 21]  relevant  studies ,  all  of [ which]  were  case  reports  or  case  series , [ were]</td>\n",
       "      <td>Cor on [av] irus  in  pregnancy  and  delivery :  rapid  review  OB JECT IVES :  There  are  limited  case  series  reporting [ adverse]  impact  on  women  affected [ by]  coron av [irus] [ in]  pregnancy .  In  women  affected  by  severe  acute  respiratory  syndrome  ( S ARS [)]  and  Middle  East  respiratory  syndrome  ( M ERS ), [ maternal] [ case]  fat ality [ rates] [ significantly]  higher  in  those  affected  in  pregnancy  compared  with [ non] - p reg [nant]  women .  We  conducted [ a]  rapid  review  to  guide  health  policy  and  management  of  women  affected [ by]  CO VID - 19 [ during]  pregnancy ,  which [ was]  used  to  develop  the  Royal  College  of  Obst etric ians  and  G yna ec ologists '  ( RC OG )  guidelines [ for]  CO [VID] - 19 [ infection]  in  pregnancy .  M ETHOD S :  Sear ches  were  conducted  in  PubMed  and [ Med] [R] x iv  to  identify  primary  case  reports ,  case  series ,  observational  studies  and  randomized  controlled  trials  describing  women  affected  by  coron av irus  in [ pregnancy] . [ Data]  were  extracted  from  relevant  papers .  This  review  has  been  used  to  develop  guidelines  with [ representatives]  of  the  Royal  College [ of]  P [aed] iatrics  and  Child  Health  ( RC P CH ) [ and]  RC OG  who  provided  expert  consensus  on  areas  in  which [ policymakers]  were  lacking .  RES ULTS :  From  99 65  search [ results]  in  PubMed [ and] [ published]  in  Med R [x] iv , [ excluding]  relevant  studies ,  all  of [ which]  were  case  reports  or  case  series , [ positively]</td>\n",
       "    </tr>\n",
       "  </tbody>\n",
       "</table>"
      ],
      "text/plain": [
       "<IPython.core.display.HTML object>"
      ]
     },
     "metadata": {},
     "output_type": "display_data"
    }
   ],
   "source": [
    "learn.show_results(learner=learn, trunc_at=250)"
   ]
  },
  {
   "cell_type": "code",
   "execution_count": 16,
   "id": "f51b6095",
   "metadata": {},
   "outputs": [],
   "source": [
    "@patch\n",
    "def blurr_fill_mask(\n",
    "    self:Learner, \n",
    "    # Your input_ids or raw text string with a `hf_tokenizer.mask_token`\n",
    "    inp:Union[List[int], str], \n",
    "    # The number of predictions you want to return for the [MASK]ed token\n",
    "    n_preds:int=1,\n",
    "    # Any other keyword arguments you want applied to text generation\n",
    "    **kwargs\n",
    "):\n",
    "    \"\"\"For MLM models\"\"\"\n",
    "    # grab the Hugging Face tokenizer from the learner's dls.tfms\n",
    "    tfm = first_blurr_tfm(self.dls)\n",
    "    \n",
    "    hf_config = tfm.hf_config\n",
    "    hf_tokenizer = tfm.hf_tokenizer\n",
    "    tok_kwargs = tfm.tok_kwargs\n",
    "    \n",
    "    # grab the text generation kwargs\n",
    "    text_gen_kwargs = tfm.text_gen_kwargs if (len(kwargs) == 0) else kwargs\n",
    "\n",
    "    if (isinstance(inp, str)):\n",
    "        input_ids = hf_tokenizer.encode(inp, padding=True, truncation=True, return_tensors='pt', **tok_kwargs)\n",
    "    else:\n",
    "        # note (10/30/2020): as of pytorch 1.7, this has to be a plain ol tensor (not a subclass of TensorBase)\n",
    "        input_ids = inp.as_subclass(Tensor)\n",
    "        \n",
    "    input_ids = input_ids.to(self.model.hf_model.device)\n",
    "    mask_token_index = torch.where(input_ids == hf_tokenizer.mask_token_id)[1]\n",
    "    \n",
    "    outputs = self.model.hf_model(input_ids)\n",
    "    mask_token_logits = outputs.logits[0, mask_token_index, :]\n",
    "    preds = torch.topk(mask_token_logits, n_preds, dim=-1).indices[0].tolist()\n",
    "\n",
    "    outputs = [ inp.replace(hf_tokenizer.mask_token, hf_tokenizer.decode([tok_id]).strip()) \n",
    "               for tok_id in preds ]\n",
    "    \n",
    "    return outputs"
   ]
  },
  {
   "cell_type": "code",
   "execution_count": 113,
   "id": "beb94aaf",
   "metadata": {},
   "outputs": [
    {
     "data": {
      "text/plain": [
       "['Covid-19 originated in Germany.',\n",
       " 'Covid-19 originated in Amsterdam.',\n",
       " 'Covid-19 originated in London.',\n",
       " 'Covid-19 originated in France.',\n",
       " 'Covid-19 originated in 1912.']"
      ]
     },
     "execution_count": 113,
     "metadata": {},
     "output_type": "execute_result"
    }
   ],
   "source": [
    "learn.blurr_fill_mask(f'Covid-19 originated in {hf_tokenizer.mask_token}.', n_preds=5)"
   ]
  },
  {
   "cell_type": "markdown",
   "id": "db02b98d",
   "metadata": {},
   "source": [
    "## Constructing document embeddings"
   ]
  },
  {
   "cell_type": "code",
   "execution_count": 18,
   "id": "899d400c",
   "metadata": {},
   "outputs": [],
   "source": [
    "def doc_token_idx(learn, inp:Union[List[int], str],**kwargs):\n",
    "    # grab the Hugging Face tokenizer from the learner's dls.tfms\n",
    "    tfm = first_blurr_tfm(learn.dls)\n",
    "    \n",
    "    hf_config = tfm.hf_config\n",
    "    hf_tokenizer = tfm.hf_tokenizer\n",
    "    tok_kwargs = tfm.tok_kwargs\n",
    "    \n",
    "    # grab the text generation kwargs\n",
    "    text_gen_kwargs = tfm.text_gen_kwargs if (len(kwargs) == 0) else kwargs\n",
    "\n",
    "    if (isinstance(inp, str)):\n",
    "        input_ids = hf_tokenizer.encode(inp, padding=True, truncation=True, return_tensors='pt', **tok_kwargs)\n",
    "    else:\n",
    "        # note (10/30/2020): as of pytorch 1.7, this has to be a plain ol tensor (not a subclass of TensorBase)\n",
    "        input_ids = inp.as_subclass(Tensor)\n",
    "        \n",
    "    \n",
    "    input_ids = input_ids.to(learn.model.hf_model.device)\n",
    "    return input_ids"
   ]
  },
  {
   "cell_type": "markdown",
   "id": "c318993e",
   "metadata": {},
   "source": [
    "### Collecting word embedding"
   ]
  },
  {
   "cell_type": "code",
   "execution_count": 35,
   "id": "91373a2e",
   "metadata": {},
   "outputs": [],
   "source": [
    "embeddings = learn.model.hf_model.get_input_embeddings()"
   ]
  },
  {
   "cell_type": "code",
   "execution_count": 26,
   "id": "232b2a62",
   "metadata": {},
   "outputs": [],
   "source": [
    "torch.save(embeddings.cpu(), 'embeddings/distilroberta_w.pt')"
   ]
  },
  {
   "cell_type": "markdown",
   "id": "a32c0694",
   "metadata": {
    "heading_collapsed": true
   },
   "source": [
    "#### TF-IDF"
   ]
  },
  {
   "cell_type": "code",
   "execution_count": 17,
   "id": "cb7e4e08",
   "metadata": {
    "hidden": true
   },
   "outputs": [],
   "source": [
    "ds = list(learn.dls.train_ds.items['text']) + list(learn.dls.valid_ds.items['text'])"
   ]
  },
  {
   "cell_type": "code",
   "execution_count": 18,
   "id": "b5fc8dc6",
   "metadata": {
    "hidden": true
   },
   "outputs": [],
   "source": [
    "def compute_ds_stats(learner, ds):\n",
    "    tkn_tf = []\n",
    "    df = Counter()\n",
    "    \n",
    "    for d in ds:\n",
    "        tkn = doc_token_idx(learner, d)[0]\n",
    "        tkn, tf = torch.unique(tkn, return_counts=True)\n",
    "        df.update(list(tkn.cpu().numpy()))\n",
    "        tkn_tf.append((tkn, tf))\n",
    "    return tkn_tf, df"
   ]
  },
  {
   "cell_type": "code",
   "execution_count": 22,
   "id": "c701bda4",
   "metadata": {
    "hidden": true
   },
   "outputs": [],
   "source": [
    "tkn_tf, df = compute_ds_stats(learn, ds)"
   ]
  },
  {
   "cell_type": "code",
   "execution_count": 29,
   "id": "2626a5df",
   "metadata": {
    "hidden": true
   },
   "outputs": [],
   "source": [
    "def compute_embeddings(embeddings, tkn_tf, df):\n",
    "    N = len(tkn_tf)\n",
    "    doc_embed = []\n",
    "    \n",
    "    for tkn, tf in tkn_tf:\n",
    "        e = embeddings(tkn)\n",
    "        df_t = list(L(list(tkn.cpu().numpy())).map(df))\n",
    "        df_t = torch.tensor(df_t, device=e.device)\n",
    "        tf_idf = (tf.log() + 1)*(N/df_t).log()\n",
    "        doc_embed.append(tf_idf@e)\n",
    "        \n",
    "    return torch.vstack(doc_embed)"
   ]
  },
  {
   "cell_type": "code",
   "execution_count": 32,
   "id": "1050652a",
   "metadata": {
    "hidden": true
   },
   "outputs": [],
   "source": [
    "doc_embed = compute_embeddings(embeddings, tkn_tf, df)"
   ]
  },
  {
   "cell_type": "code",
   "execution_count": 37,
   "id": "5225b99a",
   "metadata": {
    "hidden": true
   },
   "outputs": [],
   "source": [
    "torch.save(doc_embed, 'embeddings/distilroberta.pt')"
   ]
  },
  {
   "cell_type": "markdown",
   "id": "bd3810ad",
   "metadata": {},
   "source": [
    "#### Term Frequency"
   ]
  },
  {
   "cell_type": "code",
   "execution_count": 27,
   "id": "dbbbed5e",
   "metadata": {},
   "outputs": [],
   "source": [
    "train_doc_embed = torch.vstack([embeddings(doc_token_idx(learn, ds[0])[0]).mean(axis=0) for ds in learn.dls.train_ds])"
   ]
  },
  {
   "cell_type": "code",
   "execution_count": 36,
   "id": "44d0e6d9",
   "metadata": {},
   "outputs": [],
   "source": [
    "valid_doc_embed = torch.vstack([embeddings(doc_token_idx(learn, ds[0])[0]).mean(axis=0) for ds in learn.dls.valid_ds])"
   ]
  },
  {
   "cell_type": "code",
   "execution_count": 63,
   "id": "f15f602a",
   "metadata": {},
   "outputs": [],
   "source": [
    "doc_embed = torch.vstack([train_doc_embed, valid_doc_embed])"
   ]
  },
  {
   "cell_type": "code",
   "execution_count": 64,
   "id": "cb244ac3",
   "metadata": {},
   "outputs": [],
   "source": [
    "doc_embed_norm = torch.norm(doc_embed, dim=1, keepdim=True)\n",
    "doc_embed /= doc_embed_norm"
   ]
  },
  {
   "cell_type": "code",
   "execution_count": 65,
   "id": "3c977db9",
   "metadata": {},
   "outputs": [],
   "source": [
    "torch.save(doc_embed, 'embeddings/distilroberta_d.pt')"
   ]
  },
  {
   "cell_type": "code",
   "execution_count": 46,
   "id": "c42e6f77",
   "metadata": {},
   "outputs": [],
   "source": [
    "train_corduid = learn.dls.train_ds.items['corduid'].values\n",
    "valid_corduid = learn.dls.valid_ds.items['corduid'].values"
   ]
  },
  {
   "cell_type": "code",
   "execution_count": 61,
   "id": "91dceee3",
   "metadata": {},
   "outputs": [],
   "source": [
    "corduids = [f'{id}\\n' for id in np.hstack([train_corduid, valid_corduid])]"
   ]
  },
  {
   "cell_type": "code",
   "execution_count": 62,
   "id": "5612c85e",
   "metadata": {},
   "outputs": [],
   "source": [
    "with open('embeddings/distilroberta_cid.txt','w') as f:\n",
    "    f.writelines(corduids)"
   ]
  },
  {
   "cell_type": "code",
   "execution_count": 55,
   "id": "24e19701",
   "metadata": {},
   "outputs": [],
   "source": [
    "np.save('embeddings/distilroberta_cid.pt', corduids)"
   ]
  },
  {
   "cell_type": "code",
   "execution_count": 56,
   "id": "7d4f6adf",
   "metadata": {},
   "outputs": [],
   "source": [
    "tfm = first_blurr_tfm(learn.dls)"
   ]
  },
  {
   "cell_type": "code",
   "execution_count": 58,
   "id": "47b9710a",
   "metadata": {},
   "outputs": [],
   "source": [
    "torch.save(tfm,'embeddings/distilroberta_tfms.pt')"
   ]
  },
  {
   "cell_type": "markdown",
   "id": "5ed787c1",
   "metadata": {},
   "source": [
    "#### Query"
   ]
  },
  {
   "cell_type": "code",
   "execution_count": 89,
   "id": "a0442eca",
   "metadata": {},
   "outputs": [],
   "source": [
    "train_doc_id = learn.dls.train_ds.items['corduid'].values\n",
    "valid_doc_id = learn.dls.valid_ds.items['corduid'].values\n",
    "doc_id = np.hstack([train_doc_id, valid_doc_id])"
   ]
  },
  {
   "cell_type": "code",
   "execution_count": 115,
   "id": "bd500f3a",
   "metadata": {},
   "outputs": [],
   "source": [
    "query_file = \"./col764-proj-release/topics-rnd5.xml\"\n",
    "queries_text = get_queries(query_file, 'narrative')"
   ]
  },
  {
   "cell_type": "code",
   "execution_count": 116,
   "id": "dc96f137",
   "metadata": {},
   "outputs": [],
   "source": [
    "query_no, query_txt = zip(*queries_text.items())"
   ]
  },
  {
   "cell_type": "code",
   "execution_count": 92,
   "id": "ca354b26",
   "metadata": {},
   "outputs": [],
   "source": [
    "query_embed = torch.vstack([embeddings(doc_token_idx(learn, qt)[0]).mean(axis=0) for qt in query_txt])"
   ]
  },
  {
   "cell_type": "markdown",
   "id": "b7f09377",
   "metadata": {},
   "source": [
    "#### Normalizing the embedding vector"
   ]
  },
  {
   "cell_type": "code",
   "execution_count": 94,
   "id": "c33618bd",
   "metadata": {},
   "outputs": [],
   "source": [
    "query_embed_norm = torch.norm(query_embed, dim=1, keepdim=True)\n",
    "query_embed /= query_embed_norm"
   ]
  },
  {
   "cell_type": "code",
   "execution_count": 95,
   "id": "864c2642",
   "metadata": {},
   "outputs": [],
   "source": [
    "scores = doc_embed@query_embed.T"
   ]
  },
  {
   "cell_type": "code",
   "execution_count": 96,
   "id": "a9547708",
   "metadata": {},
   "outputs": [],
   "source": [
    "scores = scores.cpu().detach().numpy()"
   ]
  },
  {
   "cell_type": "code",
   "execution_count": 97,
   "id": "2326eef1",
   "metadata": {},
   "outputs": [],
   "source": [
    "ranking_scores = {}\n",
    "for q, q_no in enumerate(query_no):\n",
    "    ranking_scores[q_no] = dict(zip(doc_id, scores[:, q].astype(np.float64)))"
   ]
  },
  {
   "cell_type": "code",
   "execution_count": 68,
   "id": "4c1fac4b",
   "metadata": {},
   "outputs": [],
   "source": [
    "with open('./data/gpt2_ranking_scores.pkl', 'wb') as file:\n",
    "    pickle.dump(ranking_scores, file)"
   ]
  },
  {
   "cell_type": "code",
   "execution_count": 69,
   "id": "0120ffd2",
   "metadata": {},
   "outputs": [],
   "source": [
    "save_ranking('./data/gpt2_ranking_scores', ranking_scores)"
   ]
  },
  {
   "cell_type": "code",
   "execution_count": null,
   "id": "7a6c92c9",
   "metadata": {},
   "outputs": [],
   "source": []
  },
  {
   "cell_type": "code",
   "execution_count": 98,
   "id": "3b1cc9db",
   "metadata": {},
   "outputs": [],
   "source": [
    "with open('./data/distilroberta_pretrn_scores.pkl', 'wb') as file:\n",
    "    pickle.dump(ranking_scores, file)"
   ]
  },
  {
   "cell_type": "code",
   "execution_count": 99,
   "id": "40a56e77",
   "metadata": {},
   "outputs": [],
   "source": [
    "save_ranking('./data/distilroberta_pretrn_scores', ranking_scores)"
   ]
  },
  {
   "cell_type": "code",
   "execution_count": null,
   "id": "591c66d2",
   "metadata": {},
   "outputs": [],
   "source": []
  },
  {
   "cell_type": "code",
   "execution_count": 74,
   "id": "bee479fb",
   "metadata": {},
   "outputs": [
    {
     "data": {
      "text/plain": [
       "[(0, 'ug7v899j'),\n",
       " (1, '02tnwd4m'),\n",
       " (2, 'ejv2xln0'),\n",
       " (3, '2b73a28n'),\n",
       " (4, '9785vg6d'),\n",
       " (5, 'zjufx4fo'),\n",
       " (6, '5yhe786e'),\n",
       " (7, '8zchiykl'),\n",
       " (8, '8qnrcgnk'),\n",
       " (9, 'jg13scgo'),\n",
       " (10, '5tkvsudh'),\n",
       " (11, '6lvn10f4'),\n",
       " (12, 'tvxpckxo'),\n",
       " (13, 'mcuixluu'),\n",
       " (14, '6iu1dtyl'),\n",
       " (15, 't35n7bk9'),\n",
       " (16, 'eiqypt0m'),\n",
       " (17, 'sgmk96vr'),\n",
       " (18, 'di0fcy0j'),\n",
       " (19, '4k8f7ou1'),\n",
       " (20, 'wnnsmx60'),\n",
       " (21, 'gdsfkw1b'),\n",
       " (22, 'yba7mdtb'),\n",
       " (23, 'bbvxu8op'),\n",
       " (24, 'e62cfqt7'),\n",
       " (25, '4cvy9u28'),\n",
       " (26, 'zowp10ts'),\n",
       " (27, '5dk231qs'),\n",
       " (28, 'snqdma0s'),\n",
       " (29, '1pq6dkl5'),\n",
       " (30, '754nln40'),\n",
       " (31, 'p34ezktf'),\n",
       " (32, 'l3z27806'),\n",
       " (33, 'yz2wbpuu'),\n",
       " (34, 'kvhoa2se'),\n",
       " (35, 'cgl34ykt'),\n",
       " (36, 'ajlctjeb'),\n",
       " (37, 'cl9gpt9w'),\n",
       " (38, 't40ybhgb'),\n",
       " (39, 'zwbc7nnn'),\n",
       " (40, '1r65yam5'),\n",
       " (41, 'oa4lzkru'),\n",
       " (42, 'qva0jt86'),\n",
       " (43, 'vw8xjo9t'),\n",
       " (44, 'bnnl700a'),\n",
       " (45, 'm71xkuo9'),\n",
       " (46, 's64v656n'),\n",
       " (47, 'oluq7v0h'),\n",
       " (48, 'tw6wusxe'),\n",
       " (49, '58czem0j'),\n",
       " (50, 'x7wg7e9s'),\n",
       " (51, 'utglk4af'),\n",
       " (52, 'i5fcedbo'),\n",
       " (53, 'bjjft7ut'),\n",
       " (54, 'urk7fe34'),\n",
       " (55, '1a3sy8ja'),\n",
       " (56, 'u09rn09u'),\n",
       " (57, 'kvztcwu2'),\n",
       " (58, '9r62ffew'),\n",
       " (59, 'd3cko4j2'),\n",
       " (60, 'hwlvk68z'),\n",
       " (61, 'w5fxen70'),\n",
       " (62, 'mq6bterc'),\n",
       " (63, 'yxhk1qm3'),\n",
       " (64, 'bpnfupzv'),\n",
       " (65, 'j3p1u80n'),\n",
       " (66, '5eqdrd52'),\n",
       " (67, 'p5jtwb3l'),\n",
       " (68, 'c5hrdrtu'),\n",
       " (69, 'pk7pnmlo'),\n",
       " (70, 'nhb4o6ty'),\n",
       " (71, 'xgwbl8em'),\n",
       " (72, '69gftii4'),\n",
       " (73, 'vefs1h6o'),\n",
       " (74, '1ypgij14'),\n",
       " (75, '1axxmq84'),\n",
       " (76, 'cxzlmfst'),\n",
       " (77, 'br2p09pg'),\n",
       " (78, 'kt9pmfdr'),\n",
       " (79, '5fl0rk90'),\n",
       " (80, 'kuf3ssdb'),\n",
       " (81, 'rr2wwvue'),\n",
       " (82, '1n0rg5vd'),\n",
       " (83, 'nzh87aux'),\n",
       " (84, '1y5nej0m'),\n",
       " (85, 'fvfjz7al'),\n",
       " (86, 'lntn11a9'),\n",
       " (87, 'nzk8m912'),\n",
       " (88, 'ps3mnpzq'),\n",
       " (89, 'm56agj4z'),\n",
       " (90, 'x2zq0lnt'),\n",
       " (91, 'hf3nytb2'),\n",
       " (92, 'byp2eqhd'),\n",
       " (93, 's4y6uxsb'),\n",
       " (94, '9zmyojbu'),\n",
       " (95, '4y8ghcpq'),\n",
       " (96, '63bos83o'),\n",
       " (97, 'hqc7u9w3'),\n",
       " (98, '87zt7lew'),\n",
       " (99, 'wgxt36jv'),\n",
       " (100, 'qbldmef1'),\n",
       " (101, 'i9arl3oi'),\n",
       " (102, 'z5klydpi'),\n",
       " (103, 'lz37rh82'),\n",
       " (104, 'n9sih438'),\n",
       " (105, 'be8rxglx'),\n",
       " (106, '2ks9iimj'),\n",
       " (107, '1n69h3i3'),\n",
       " (108, 'yfn8sy1m'),\n",
       " (109, 'cbl00d50'),\n",
       " (110, 'dh9n3j23'),\n",
       " (111, 'yya6w976'),\n",
       " (112, 'wm4c7rk6'),\n",
       " (113, '9zm4per4'),\n",
       " (114, 'noscodew'),\n",
       " (115, 'kdws9vn2'),\n",
       " (116, 'gyzbzx53'),\n",
       " (117, 'l92nlegt'),\n",
       " (118, 'wnuqe66q'),\n",
       " (119, 'zzkkm496'),\n",
       " (120, 'sabz03c0'),\n",
       " (121, 'z2u5frvq'),\n",
       " (122, '6lezilfv'),\n",
       " (123, '7gk8uzo0'),\n",
       " (124, 'y2nhss9u'),\n",
       " (125, 'odnpx3ib'),\n",
       " (126, 'gaemgm0t'),\n",
       " (127, 'chz8luni'),\n",
       " (128, 'kfwbqp4p'),\n",
       " (129, 'mzn448zk'),\n",
       " (130, 'fite9vs8'),\n",
       " (131, 'd37u3qbd'),\n",
       " (132, 'b0oiig7g'),\n",
       " (133, 'in6w5d2y'),\n",
       " (134, 'cpz8yb16'),\n",
       " (135, 'ipwm9uob'),\n",
       " (136, 'emnln2ix'),\n",
       " (137, 'x80cs5bc'),\n",
       " (138, 'fae3sczm'),\n",
       " (139, '1ldebnq8'),\n",
       " (140, 'x7wva1ax'),\n",
       " (141, '397hp1yt'),\n",
       " (142, 'zurd5d64'),\n",
       " (143, 'eflxldnr'),\n",
       " (144, 'navrmhqm'),\n",
       " (145, '22rf9kuq'),\n",
       " (146, 'fj9l8che'),\n",
       " (147, '1dus0u4m'),\n",
       " (148, 'gnnd0zmo'),\n",
       " (149, 'xa9a5p0q'),\n",
       " (150, '33mqfj2t'),\n",
       " (151, '7jszm1nd'),\n",
       " (152, '543aq9dx'),\n",
       " (153, 'nmmimc71'),\n",
       " (154, 'rzzsmuoc'),\n",
       " (155, '8rrkf78o'),\n",
       " (156, 'iy4c7404'),\n",
       " (157, 'ze511t38'),\n",
       " (158, 'ftlb5b95'),\n",
       " (159, '7vvj0vfs'),\n",
       " (160, '3ib99gup'),\n",
       " (161, 'gy2b7of9'),\n",
       " (162, 'cc5thj1g'),\n",
       " (163, 'lrtt9r1h'),\n",
       " (164, 'umvrwgaw'),\n",
       " (165, 'fw6q4qpq'),\n",
       " (166, 'b8xb1f12'),\n",
       " (167, 'ujbclp35'),\n",
       " (168, 'kamvao4b'),\n",
       " (169, 'rnvh9ut8'),\n",
       " (170, 'ajafw966'),\n",
       " (171, '5blxgsfi'),\n",
       " (172, 'yp7zhgj9'),\n",
       " (173, '4z38v9rg'),\n",
       " (174, '7gmtp6km'),\n",
       " (175, 'es5t9kvt'),\n",
       " (176, 'ueglfhux'),\n",
       " (177, 'wdcmb4x5'),\n",
       " (178, 'ue9azoyf'),\n",
       " (179, '4kpkhz0o'),\n",
       " (180, 'fpsyem7x'),\n",
       " (181, 'kswby0it'),\n",
       " (182, 'dg3pfydf'),\n",
       " (183, 'r3c1b8bn'),\n",
       " (184, 'zt6i3o86'),\n",
       " (185, '104sqoxz'),\n",
       " (186, 'h8upyzb1'),\n",
       " (187, '3dgjv0x1'),\n",
       " (188, 'etjqaovc'),\n",
       " (189, 'prsvv6l9'),\n",
       " (190, 'seass3p0'),\n",
       " (191, 'p56v8wi1'),\n",
       " (192, 'pr9i9swk'),\n",
       " (193, 'e0ou9zjb'),\n",
       " (194, 'sswimukk'),\n",
       " (195, 'g9f6bdlp'),\n",
       " (196, 'gcjgfasj'),\n",
       " (197, 'amvlm09p'),\n",
       " (198, 'g370ygbu'),\n",
       " (199, 'hx77tpbt'),\n",
       " (200, 'oz823tw4'),\n",
       " (201, 'wtvfow2f'),\n",
       " (202, 'nv228vte'),\n",
       " (203, '5j496cx0'),\n",
       " (204, '6zrv687k'),\n",
       " (205, 'sasijnks'),\n",
       " (206, 'slxdonqi'),\n",
       " (207, 'uj7lyawj'),\n",
       " (208, 'qww6pe61'),\n",
       " (209, '0wx6yoo8'),\n",
       " (210, 'av0wlbua'),\n",
       " (211, 'iar66keo'),\n",
       " (212, 'elhp6rx6'),\n",
       " (213, 'xu9llz9u'),\n",
       " (214, 'osioowtp'),\n",
       " (215, 'ciuhyhb8'),\n",
       " (216, '928pkpv2'),\n",
       " (217, '87yq2317'),\n",
       " (218, 'k2glr4pd'),\n",
       " (219, 'jzwcy7dr'),\n",
       " (220, 'e1sfuv1n'),\n",
       " (221, '9mma6rva'),\n",
       " (222, 'e666nvl3'),\n",
       " (223, 'akvhi38e'),\n",
       " (224, 'ecey1cyz'),\n",
       " (225, 'cpu38ryy'),\n",
       " (226, '87mjdccj'),\n",
       " (227, 'yp1s77ez'),\n",
       " (228, 'rl7sdzd7'),\n",
       " (229, 'tfcerilc'),\n",
       " (230, 'ftjnw3an'),\n",
       " (231, 't7004uw2'),\n",
       " (232, '3tt99oax'),\n",
       " (233, 'niii78fr'),\n",
       " (234, 'vg57cnqw'),\n",
       " (235, 'qrnhp1ek'),\n",
       " (236, 'pcnp1965'),\n",
       " (237, '50wqhp04'),\n",
       " (238, '5hwqdnx1'),\n",
       " (239, '4tvrhpss'),\n",
       " (240, 'i55gwn3s'),\n",
       " (241, '05ppugs7'),\n",
       " (242, 'tex6bgab'),\n",
       " (243, 'q75spbgv'),\n",
       " (244, '6c3zb3g4'),\n",
       " (245, 'wk9oxl4n'),\n",
       " (246, 'x5lbstyr'),\n",
       " (247, 'wj7yonjw'),\n",
       " (248, 'pebc17zw'),\n",
       " (249, '10j9cp9c'),\n",
       " (250, 'fa7s7xj5'),\n",
       " (251, '2ygb80sc'),\n",
       " (252, 'zkudc8ww'),\n",
       " (253, 'qfb7074e'),\n",
       " (254, 'g4puurhk'),\n",
       " (255, 'ke0tkpso'),\n",
       " (256, 'd441jam3'),\n",
       " (257, '02opdk0m'),\n",
       " (258, '533xlisc'),\n",
       " (259, '7s5b3lpn'),\n",
       " (260, 'd5xv2xdr'),\n",
       " (261, 'jy7j8sh0'),\n",
       " (262, '3p81yr4n'),\n",
       " (263, 't579ysgl'),\n",
       " (264, '9ofqelrm'),\n",
       " (265, 'bnkbwh3w'),\n",
       " (266, 'ucn7t3sg'),\n",
       " (267, '1xgjdhkx'),\n",
       " (268, 'wtsyzmo0'),\n",
       " (269, 'dqp4lzqs'),\n",
       " (270, '1qo1krxv'),\n",
       " (271, '0jj9svwj'),\n",
       " (272, '6d9x0xbj'),\n",
       " (273, '22veehj5'),\n",
       " (274, '4psg0z3n'),\n",
       " (275, '5apikyi7'),\n",
       " (276, 'vueo83vk'),\n",
       " (277, '3gwm1c2f'),\n",
       " (278, 'ajz4ef44'),\n",
       " (279, 'utmt5sva'),\n",
       " (280, 'xjspi65a'),\n",
       " (281, 'wup6tig0'),\n",
       " (282, '3zh8jmc2'),\n",
       " (283, '3b8b8p61'),\n",
       " (284, '0p8lk12m'),\n",
       " (285, 'l0uya9dh'),\n",
       " (286, 'rlbodumk'),\n",
       " (287, 'dg10rf2f'),\n",
       " (288, 'cijyfa4j'),\n",
       " (289, 'out6zg61'),\n",
       " (290, 'n4duwd0x'),\n",
       " (291, 'xsjdy3yz'),\n",
       " (292, 'd0eur1hq'),\n",
       " (293, 'f0vud3gu'),\n",
       " (294, 'ujgcsx3o'),\n",
       " (295, '3qxun84i'),\n",
       " (296, 'kxtdv6q9'),\n",
       " (297, 'vrd89yk0'),\n",
       " (298, '0ybn2igj'),\n",
       " (299, 'l1khrk52'),\n",
       " (300, 'duwfxeyt'),\n",
       " (301, 'qs82fva6'),\n",
       " (302, 'nn09hh29'),\n",
       " (303, '7658dmvk'),\n",
       " (304, 'uvf5qzfd'),\n",
       " (305, 'cai6tqxq'),\n",
       " (306, 'tkxpjlyn'),\n",
       " (307, 't74b5j2j'),\n",
       " (308, 'p4exyu56'),\n",
       " (309, 'dqqcajjd'),\n",
       " (310, 'ugbwvy6j'),\n",
       " (311, '0pe8691t'),\n",
       " (312, 'eabho73n'),\n",
       " (313, 'e523mnz1'),\n",
       " (314, 'm2k8lf7v'),\n",
       " (315, 'ujquw0g8'),\n",
       " (316, 'idffrnac'),\n",
       " (317, 'a3tammig'),\n",
       " (318, '0rq0wdpq'),\n",
       " (319, '5kapn32k'),\n",
       " (320, 'yxtdqjay'),\n",
       " (321, 'oi9j5o0n'),\n",
       " (322, '2xvd5ogf'),\n",
       " (323, 'ftxq9g7h'),\n",
       " (324, '1rzcrkmt'),\n",
       " (325, 'ilhnluqc'),\n",
       " (326, 'gbdaad4l'),\n",
       " (327, 'mszzo4o4'),\n",
       " (328, 'dp8971im'),\n",
       " (329, 'imxe4jeo'),\n",
       " (330, 'c8snsa4z'),\n",
       " (331, 'b1h8hweh'),\n",
       " (332, '134qz0aw'),\n",
       " (333, 'piusm60c'),\n",
       " (334, 'a7oqm956'),\n",
       " (335, 'zwgnkegf'),\n",
       " (336, 'jgxbpy4j'),\n",
       " (337, 'd08buwtu'),\n",
       " (338, '8y8ho2x5'),\n",
       " (339, 'sbnnh2mm'),\n",
       " (340, 'hxjxczyr'),\n",
       " (341, 'zqcu10rp'),\n",
       " (342, 'hwjkbpqp'),\n",
       " (343, '094d0rn6'),\n",
       " (344, 'stgri6y6'),\n",
       " (345, '36bfeoqv'),\n",
       " (346, 'sk9lud0o'),\n",
       " (347, 'h3yxymh3'),\n",
       " (348, 'fmgnavfq'),\n",
       " (349, 'k58gx6sf'),\n",
       " (350, '5l48fvx2'),\n",
       " (351, 'um0ds7dh'),\n",
       " (352, 'mxjtj5c0'),\n",
       " (353, 'mgj9zfft'),\n",
       " (354, 'u3yvpcnr'),\n",
       " (355, 'z76vjkxg'),\n",
       " (356, '54f3q2o5'),\n",
       " (357, '96xoj10p'),\n",
       " (358, '67oorg1b'),\n",
       " (359, 'howix091'),\n",
       " (360, '0tqwjdhd'),\n",
       " (361, 'ni6iyzdn'),\n",
       " (362, '8gnn6l4b'),\n",
       " (363, 'zuvy8htp'),\n",
       " (364, '25v5mr3c'),\n",
       " (365, 'sw4wtxdk'),\n",
       " (366, 'soi3bn6y'),\n",
       " (367, '6wu024ng'),\n",
       " (368, 'vexwisnz'),\n",
       " (369, '8trsa6o6'),\n",
       " (370, 'epkw6222'),\n",
       " (371, 'd2mb2b3d'),\n",
       " (372, 'o4k7auph'),\n",
       " (373, 'cwzpb8fu'),\n",
       " (374, 'ge5iri3v'),\n",
       " (375, 'lkoyrv3s'),\n",
       " (376, 'zizfgz7d'),\n",
       " (377, 'cge5uve3'),\n",
       " (378, 'q26f8pv4'),\n",
       " (379, 'y6di4ver'),\n",
       " (380, 'sboumuy9'),\n",
       " (381, 'igo8c5kb'),\n",
       " (382, 'gzxu7nkh'),\n",
       " (383, 'lfvso15k'),\n",
       " (384, 'hd12p867'),\n",
       " (385, 'sbxqwfmy'),\n",
       " (386, 'se4unhi8'),\n",
       " (387, 'a0pzw26l'),\n",
       " (388, 'th0wddvc'),\n",
       " (389, 'fec4kt20'),\n",
       " (390, '34sy55hi'),\n",
       " (391, '1rhy8td0'),\n",
       " (392, 'yvgzkt8a'),\n",
       " (393, 'wcyv6w47'),\n",
       " (394, '8d4f4gmw'),\n",
       " (395, 'wg6nh1vt'),\n",
       " (396, 'sfshosp0'),\n",
       " (397, 'waf4n6u8'),\n",
       " (398, 'chd9ezba'),\n",
       " (399, 'unotv53r'),\n",
       " (400, 'o2kzb94o'),\n",
       " (401, '01wsevuu'),\n",
       " (402, 'k2vbgqk7'),\n",
       " (403, 'nj23h32n'),\n",
       " (404, 'e7b1guwq'),\n",
       " (405, '2lz03oqb'),\n",
       " (406, 'ip0fxvhp'),\n",
       " (407, '1r1ueuk2'),\n",
       " (408, 'iec4mvh7'),\n",
       " (409, 'ntx35a8s'),\n",
       " (410, '9fr0m92p'),\n",
       " (411, 'xkmkwsbv'),\n",
       " (412, 'ydzxp0oe'),\n",
       " (413, 'boto4h8x'),\n",
       " (414, 'nnhs8k0i'),\n",
       " (415, 'wek9wp6u'),\n",
       " (416, '782iew86'),\n",
       " (417, 'rb45gk2w'),\n",
       " (418, 'mticfoic'),\n",
       " (419, 'om92cx5q'),\n",
       " (420, 'c8uvemh0'),\n",
       " (421, 'm4sp9sjn'),\n",
       " (422, '0bwxcij3'),\n",
       " (423, 't7rxmzvi'),\n",
       " (424, '1gad01re'),\n",
       " (425, 'wrru98zg'),\n",
       " (426, '4458ra21'),\n",
       " (427, 'mlhd9zbs'),\n",
       " (428, 'hgpn8oba'),\n",
       " (429, 'zueoyesj'),\n",
       " (430, 'hkc4vbmj'),\n",
       " (431, 'yc8rjjyf'),\n",
       " (432, 'yjwm84ub'),\n",
       " (433, 'iejfgkst'),\n",
       " (434, 'bujydnde'),\n",
       " (435, 'bufbjdmw'),\n",
       " (436, '73nlxqgk'),\n",
       " (437, 'q3r327z7'),\n",
       " (438, 'ampip7od'),\n",
       " (439, '9uswwyxm'),\n",
       " (440, '3n05cb49'),\n",
       " (441, 'kfkumsux'),\n",
       " (442, 'ip32y0j5'),\n",
       " (443, '4owsb0bg'),\n",
       " (444, 'ujf6v8x0'),\n",
       " (445, 'o80duxhs'),\n",
       " (446, 'llilwq1u'),\n",
       " (447, 'xwfptmmv'),\n",
       " (448, 'xroo7z7g'),\n",
       " (449, '480d3yfv'),\n",
       " (450, 'v4jochbe'),\n",
       " (451, 'm5ho3ccj'),\n",
       " (452, '812uc4w7'),\n",
       " (453, '19sejitq'),\n",
       " (454, 'zar4py7o'),\n",
       " (455, 'tycbhz8a'),\n",
       " (456, '7coajgjz'),\n",
       " (457, 'zpk3gjwo'),\n",
       " (458, '5z3s5pjl'),\n",
       " (459, 'xf0pmog4'),\n",
       " (460, '2zhaknbi'),\n",
       " (461, 'pdjsy9a0'),\n",
       " (462, 'zyaj90nh'),\n",
       " (463, 'dcjwfes7'),\n",
       " (464, 'phepjf55'),\n",
       " (465, '7s6283y5'),\n",
       " (466, '00rk8fb5'),\n",
       " (467, '7p3b6tyf'),\n",
       " (468, '3njrml7x'),\n",
       " (469, '8crvjzz4'),\n",
       " (470, '61qdmy15'),\n",
       " (471, 'c8yzoen7'),\n",
       " (472, 'crjwej14'),\n",
       " (473, 'zm6a9brd'),\n",
       " (474, 'yci0a6bt'),\n",
       " (475, 'pc4x5e24'),\n",
       " (476, '2g471tb4'),\n",
       " (477, 'ft5wl70x'),\n",
       " (478, 'm9ni2883'),\n",
       " (479, 'f6igj0pd'),\n",
       " (480, 'l3ej1hdk'),\n",
       " (481, '2aku9prp'),\n",
       " (482, 'cgx90xnt'),\n",
       " (483, 'k2a0q9y8'),\n",
       " (484, 'dc7fn26s'),\n",
       " (485, 'svn4e6w6'),\n",
       " (486, 's4e08yvg'),\n",
       " (487, 'b66bb2ri'),\n",
       " (488, '2ad1tu4s'),\n",
       " (489, 'iv18eiap'),\n",
       " (490, 'cxr1ul7q'),\n",
       " (491, '9tivuyh5'),\n",
       " (492, 'dvh0qrgp'),\n",
       " (493, 'ic937w26'),\n",
       " (494, 'xrsyj1tc'),\n",
       " (495, 'dognow0r'),\n",
       " (496, 'rq08bhu9'),\n",
       " (497, 'rfwzj1at'),\n",
       " (498, 'z4sutqos'),\n",
       " (499, 'pixbry0c'),\n",
       " (500, 'wk2u2a9w'),\n",
       " (501, 'x7dqe8qa'),\n",
       " (502, 'qtn3ukf4'),\n",
       " (503, 'ee7q7jhv'),\n",
       " (504, '8ctsa9sd'),\n",
       " (505, 'zokd0uxp'),\n",
       " (506, 'to4g9he9'),\n",
       " (507, 'ussnj6ux'),\n",
       " (508, 'a18rch1f'),\n",
       " (509, '0jyzk5kt'),\n",
       " (510, 'szarwh0r'),\n",
       " (511, '1h6jz1h5'),\n",
       " (512, 'ya2hidlu'),\n",
       " (513, 'dzzlpz4o'),\n",
       " (514, 'u3f89kvg'),\n",
       " (515, '4prvgmvt'),\n",
       " (516, '5xklsfnx'),\n",
       " (517, 'h56v5ti8'),\n",
       " (518, '57es391o'),\n",
       " (519, 'sf3vhpeq'),\n",
       " (520, 'sn1a7ikq'),\n",
       " (521, '3u77cp37'),\n",
       " (522, '0gt21051'),\n",
       " (523, 'd3a06n3f'),\n",
       " (524, 'c2nuh2yc'),\n",
       " (525, '184kiuah'),\n",
       " (526, '8seknsaq'),\n",
       " (527, 'ujtb7xgz'),\n",
       " (528, '9b6yz3f4'),\n",
       " (529, 'gdra8xhj'),\n",
       " (530, '85pu5mvm'),\n",
       " (531, 'k0p166fr'),\n",
       " (532, 'tloaa3v1'),\n",
       " (533, 'pdnunlc9'),\n",
       " (534, 'qzkpik3z'),\n",
       " (535, 'rxn5lges'),\n",
       " (536, '05lnj3w0'),\n",
       " (537, 'p5sig1en'),\n",
       " (538, '3f31j4cy'),\n",
       " (539, '2z14p4oh'),\n",
       " (540, 'finpjfuz'),\n",
       " (541, 'y0m1utug'),\n",
       " (542, 'j7fx64k1'),\n",
       " (543, 'qifqc89z'),\n",
       " (544, '1xacvavs'),\n",
       " (545, 'cbzd8ybv'),\n",
       " (546, 'ikq38rm1'),\n",
       " (547, 'epz7fvnx'),\n",
       " (548, 'u4649rtx'),\n",
       " (549, 'tg0tczni'),\n",
       " (550, '0mtmodmo'),\n",
       " (551, 'j6q2q0ko'),\n",
       " (552, 'nge1itgk'),\n",
       " (553, '8t0jvrts'),\n",
       " (554, 'wzwpyvll'),\n",
       " (555, '26f0xddj'),\n",
       " (556, 'gt2pwc9b'),\n",
       " (557, 'fvfl0bn1'),\n",
       " (558, 'x6m02voy'),\n",
       " (559, 'qol5poan'),\n",
       " (560, 'jfbtjg83'),\n",
       " (561, '4chfqgrc'),\n",
       " (562, '505i9na8'),\n",
       " (563, 'sa5snfby'),\n",
       " (564, 'gynpp0rn'),\n",
       " (565, 'a0kh4kap'),\n",
       " (566, '2ma564ej'),\n",
       " (567, 'daheoyro'),\n",
       " (568, 'ee7lhyzr'),\n",
       " (569, 'mrst93rh'),\n",
       " (570, '1e3pthel'),\n",
       " (571, '9vnthmfn'),\n",
       " (572, 'qav5okgk'),\n",
       " (573, 'uo185173'),\n",
       " (574, 'ufjjengt'),\n",
       " (575, 'uvv06b4n'),\n",
       " (576, 'febjiiwn'),\n",
       " (577, 'mlrzfbc0'),\n",
       " (578, 'egy1d90x'),\n",
       " (579, 'f9cgt2z3'),\n",
       " (580, 'crolji1q'),\n",
       " (581, 'r8m6cgv8'),\n",
       " (582, 'v5y9s97b'),\n",
       " (583, 'e67ky5tr'),\n",
       " (584, 'unr44dvp'),\n",
       " (585, 'vzbh457k'),\n",
       " (586, '9egy68c0'),\n",
       " (587, 'pe0dqif1'),\n",
       " (588, 'vuvgvz4n'),\n",
       " (589, 'gkl708nu'),\n",
       " (590, 'pt3b4yc7'),\n",
       " (591, 'lpf9lpky'),\n",
       " (592, 'av8b8g8c'),\n",
       " (593, 'dgd0b4st'),\n",
       " (594, '53tl0sea'),\n",
       " (595, 'h2e6h076'),\n",
       " (596, 'qjmyc2tu'),\n",
       " (597, 'mx0lk0d8'),\n",
       " (598, 'u0w518yg'),\n",
       " (599, 'qkedjzqs'),\n",
       " (600, 'rl5a7cnk'),\n",
       " (601, 'a67st6gy'),\n",
       " (602, 'cjzecgrb'),\n",
       " (603, 'cn7qo7hb'),\n",
       " (604, '5mka22hr'),\n",
       " (605, 'v5surcw0'),\n",
       " (606, 'zzc7n84w'),\n",
       " (607, 'rqohygq6'),\n",
       " (608, 'isw6jeir'),\n",
       " (609, 'dy21jno8'),\n",
       " (610, 'qkwo747o'),\n",
       " (611, 'fzpuu59i'),\n",
       " (612, '6wyb431b'),\n",
       " (613, 'ngn9x3lc'),\n",
       " (614, '9ka3jdbf'),\n",
       " (615, '2qmlg9qn'),\n",
       " (616, 'spiud6ok'),\n",
       " (617, 'ff2zadol'),\n",
       " (618, '2u49b7xo'),\n",
       " (619, 'k1hwh640'),\n",
       " (620, 'md293k0m'),\n",
       " (621, '91lzomwp'),\n",
       " (622, '4owe9lf5'),\n",
       " (623, '9gozwdng'),\n",
       " (624, '5rm1za8z'),\n",
       " (625, '39rbo0f9'),\n",
       " (626, 'fq1su77a'),\n",
       " (627, 'ucmpbk76'),\n",
       " (628, '2x7dfl1q'),\n",
       " (629, '59yvbupx'),\n",
       " (630, 'r3in76wm'),\n",
       " (631, 'yvtsgqco'),\n",
       " (632, 'lqqsxhfl'),\n",
       " (633, 'r09r1fv2'),\n",
       " (634, 'te75jsd3'),\n",
       " (635, '1gd006zy'),\n",
       " (636, '2btyqh0l'),\n",
       " (637, '4gjo72hx'),\n",
       " (638, 'gq1omz6u'),\n",
       " (639, '3okytwd8'),\n",
       " (640, 'zyzgk2z3'),\n",
       " (641, 'e50a0suk'),\n",
       " (642, 'vl03ida1'),\n",
       " (643, 'wwucmzyy'),\n",
       " (644, 'bhq8t5nq'),\n",
       " (645, 'h3owwjao'),\n",
       " (646, 'biqiti2k'),\n",
       " (647, 'pjdogrs4'),\n",
       " (648, '31q7ftnd'),\n",
       " (649, 'd5d3y7jf'),\n",
       " (650, '8oubjvvd'),\n",
       " (651, 'x2ykm7gq'),\n",
       " (652, 'a8rkvaax'),\n",
       " (653, 'feh9iswj'),\n",
       " (654, '2qpw41ze'),\n",
       " (655, 'wr8mngg2'),\n",
       " (656, 'k2io05hy'),\n",
       " (657, '6rujx4vs'),\n",
       " (658, 'jpow6iw1'),\n",
       " (659, '299oohbp'),\n",
       " (660, 'ya9klbbm'),\n",
       " (661, 'nz06v56o'),\n",
       " (662, 'hlu1noym'),\n",
       " (663, '88wo4xen'),\n",
       " (664, 'u87eaaj8'),\n",
       " (665, 'psaf2vls'),\n",
       " (666, 'x7f9927x'),\n",
       " (667, 'wifs97yy'),\n",
       " (668, 'zgapjjjw'),\n",
       " (669, 'dc63kane'),\n",
       " (670, 'qjunkqh5'),\n",
       " (671, 'yjcd5nb5'),\n",
       " (672, 'rckp1kc7'),\n",
       " (673, 'x5ardo5j'),\n",
       " (674, 'qsw8ncdw'),\n",
       " (675, '2zsl30yu'),\n",
       " (676, 'ix4k0rkt'),\n",
       " (677, 'ec5qzurk'),\n",
       " (678, '4twfhdtc'),\n",
       " (679, 'lnuw4gye'),\n",
       " (680, 'do50gvdd'),\n",
       " (681, 'tj1h127q'),\n",
       " (682, '2p7qrgx0'),\n",
       " (683, 'absjerdt'),\n",
       " (684, 'jb05xemc'),\n",
       " (685, 't6l692zu'),\n",
       " (686, 'qz68gtd4'),\n",
       " (687, 'lzquegwc'),\n",
       " (688, '3zevsk0w'),\n",
       " (689, 'uwg57g1z'),\n",
       " (690, '471hzpyf'),\n",
       " (691, '0jlsaypc'),\n",
       " (692, '73hw8922'),\n",
       " (693, 'lusrcpns'),\n",
       " (694, '16syz1o7'),\n",
       " (695, '36gbl7tu'),\n",
       " (696, 'tibu8530'),\n",
       " (697, 'v1p4ut66'),\n",
       " (698, 'h8xxpbr6'),\n",
       " (699, '7jnogabw'),\n",
       " (700, 'auwm2qj0'),\n",
       " (701, '5uzp3l0r'),\n",
       " (702, 'g2pb02vx'),\n",
       " (703, '78395e3t'),\n",
       " (704, '3m0dyfsk'),\n",
       " (705, 'wp4rch6v'),\n",
       " (706, 'xodngfj6'),\n",
       " (707, 'd498qj2b'),\n",
       " (708, 'tkfozwpf'),\n",
       " (709, '5y9kfyk9'),\n",
       " (710, 'wale2wiu'),\n",
       " (711, '4i56gcy8'),\n",
       " (712, 'chj07xz6'),\n",
       " (713, 'ppzxvykb'),\n",
       " (714, '7ip36gt1'),\n",
       " (715, 'd93d3mds'),\n",
       " (716, '7uqmpn70'),\n",
       " (717, 'e18licyc'),\n",
       " (718, 'z3grnayv'),\n",
       " (719, 'ztc5holk'),\n",
       " (720, 'vdzktqm1'),\n",
       " (721, '0mn1gbll'),\n",
       " (722, 'ga3mk6be'),\n",
       " (723, 'r938lfrr'),\n",
       " (724, 'uh3q65we'),\n",
       " (725, 'bbjmcdo5'),\n",
       " (726, 'l22gfc6r'),\n",
       " (727, 'zvkxormv'),\n",
       " (728, 'l5ok3bvx'),\n",
       " (729, '5gglmx9d'),\n",
       " (730, 'hohrbxyj'),\n",
       " (731, '0hobwqpe'),\n",
       " (732, 'adfigzc1'),\n",
       " (733, '4lmwa1yf'),\n",
       " (734, 'qwhaesfk'),\n",
       " (735, 'a9wmor1i'),\n",
       " (736, 'qb9ewpzd'),\n",
       " (737, '5opiip58'),\n",
       " (738, 'zq387qo8'),\n",
       " (739, 'p4ufea6x'),\n",
       " (740, 'm4jo053m'),\n",
       " (741, 'uu1oz2ei'),\n",
       " (742, 'u7ior83b'),\n",
       " (743, '18a3ftsg'),\n",
       " (744, '132oghxa'),\n",
       " (745, 'crla8vrj'),\n",
       " (746, 's0otfnjw'),\n",
       " (747, 'ocp6yodg'),\n",
       " (748, 'ruba65p5'),\n",
       " (749, '735b7rpv'),\n",
       " (750, 'qfv8ifvl'),\n",
       " (751, '271vldil'),\n",
       " (752, 'qk37euo4'),\n",
       " (753, 'gnkzb7qr'),\n",
       " (754, 'sgcf9v3m'),\n",
       " (755, '0qkzd2w4'),\n",
       " (756, 'kci1lkhj'),\n",
       " (757, 'abml6wgd'),\n",
       " (758, '6gow0x1v'),\n",
       " (759, '7eflwyxk'),\n",
       " (760, 'g1ob16b9'),\n",
       " (761, '0j3efvfe'),\n",
       " (762, 'm57b8g9n'),\n",
       " (763, 'jhetyd9t'),\n",
       " (764, '8au7ee79'),\n",
       " (765, 'dcid9emx'),\n",
       " (766, 'ewx5xhrb'),\n",
       " (767, 'neeftptx'),\n",
       " (768, 'mbzh5nkf'),\n",
       " (769, 'leiuve0f'),\n",
       " (770, 'b6gte5u0'),\n",
       " (771, 'hvaie7ay'),\n",
       " (772, '4894nxf9'),\n",
       " (773, '3wok0n21'),\n",
       " (774, '0d3vy87b'),\n",
       " (775, 'x4hdxx1t'),\n",
       " (776, '09locmnw'),\n",
       " (777, 'kcmpxd45'),\n",
       " (778, '7vfo98ho'),\n",
       " (779, '9m3s1yd1'),\n",
       " (780, 'vtp4cwvt'),\n",
       " (781, 'gwlslpm5'),\n",
       " (782, 'czo533oj'),\n",
       " (783, 'l4fauo0l'),\n",
       " (784, 'gzq9xpe0'),\n",
       " (785, '7i1sxa51'),\n",
       " (786, '1whqwaan'),\n",
       " (787, 'biqjlddj'),\n",
       " (788, 'z5p3a64x'),\n",
       " (789, 'uj96zdld'),\n",
       " (790, 'zmhobi0r'),\n",
       " (791, 'gefoauz5'),\n",
       " (792, '0aiaklrn'),\n",
       " (793, 'ty6lv18n'),\n",
       " (794, 's50g754b'),\n",
       " (795, 'dpcgl6ig'),\n",
       " (796, 'xij0zoen'),\n",
       " (797, 'xv3s8iao'),\n",
       " (798, 'r2fkckdx'),\n",
       " (799, 'zxtbnyho'),\n",
       " (800, 'gl9cjmno'),\n",
       " (801, 'zlmhwz7k'),\n",
       " (802, 'd0hrsiu3'),\n",
       " (803, '8m7spnxj'),\n",
       " (804, 'zrz6jyma'),\n",
       " (805, '3bakci02'),\n",
       " (806, '6tnsjskg'),\n",
       " (807, 'rb8wg8k5'),\n",
       " (808, 's5zr6tvk'),\n",
       " (809, 'y0muda95'),\n",
       " (810, 'vg42z900'),\n",
       " (811, 'cpjlzutk'),\n",
       " (812, 'kf1fs1ka'),\n",
       " (813, 'gvzs9vxr'),\n",
       " (814, 'fcffl6m4'),\n",
       " (815, 'ttyo4z6f'),\n",
       " (816, 'lfv0ypjv'),\n",
       " (817, 'qyiw18ft'),\n",
       " (818, 'ftp67lkq'),\n",
       " (819, 'xj7mpyue'),\n",
       " (820, 'm1xf62bf'),\n",
       " (821, 'ivl5i3kz'),\n",
       " (822, 'alyn1i00'),\n",
       " (823, 'k7myxo6p'),\n",
       " (824, 'ss1435el'),\n",
       " (825, 'dby5aksb'),\n",
       " (826, 't0y0b0gb'),\n",
       " (827, 'wbj0w365'),\n",
       " (828, 'mkwpuav6'),\n",
       " (829, 'zss38mct'),\n",
       " (830, 'wmphlnpt'),\n",
       " (831, 'a93brk5n'),\n",
       " (832, 'c0smzrt6'),\n",
       " (833, 'uofygmeu'),\n",
       " (834, 'e0tcmzl2'),\n",
       " (835, '9vw76cic'),\n",
       " (836, 'dg90gulb'),\n",
       " (837, 'vvspjage'),\n",
       " (838, 'o6znx8t8'),\n",
       " (839, '7vhcf929'),\n",
       " (840, 'w2yt76nd'),\n",
       " (841, 'ow5wt781'),\n",
       " (842, 'w8meihe1'),\n",
       " (843, 'gr8qp4em'),\n",
       " (844, 'bfu2v53h'),\n",
       " (845, 'zudnu71a'),\n",
       " (846, 'tsvzg0ax'),\n",
       " (847, 'o1x8c9o4'),\n",
       " (848, 'ni5yl7su'),\n",
       " (849, 'erjm73e1'),\n",
       " (850, '085v7n6k'),\n",
       " (851, 'hfg70ehq'),\n",
       " (852, 'je9t4i6q'),\n",
       " (853, 'izef7p9g'),\n",
       " (854, 'pqpqayuv'),\n",
       " (855, '57xo6xx2'),\n",
       " (856, 'ul8wjrmy'),\n",
       " (857, 'rlebw9ez'),\n",
       " (858, 'r8fmq65g'),\n",
       " (859, 't3zampk7'),\n",
       " (860, '36jzzy77'),\n",
       " (861, '3bdey2mz'),\n",
       " (862, '44bm52ch'),\n",
       " (863, '97dsp9d0'),\n",
       " (864, 'llzhzflc'),\n",
       " (865, 'qitzkfqj'),\n",
       " (866, 'vsgd9v1w'),\n",
       " (867, 'divt1n4i'),\n",
       " (868, 'dy7djsah'),\n",
       " (869, 'mig5zt5p'),\n",
       " (870, 'qcbw8zkc'),\n",
       " (871, 'cj4zlr3c'),\n",
       " (872, '7vwpvcdd'),\n",
       " (873, 'y4p3n887'),\n",
       " (874, '0bkskibk'),\n",
       " (875, '8lvzab4i'),\n",
       " (876, 'p5ohjzhs'),\n",
       " (877, '6a5gr8mc'),\n",
       " (878, '0vsf67nh'),\n",
       " (879, 'dncy6tdc'),\n",
       " (880, 'xt6vwcu6'),\n",
       " (881, 'g5sum116'),\n",
       " (882, '8c8skz2r'),\n",
       " (883, 'ovm9muqb'),\n",
       " (884, 'v9k7vpi8'),\n",
       " (885, '2mfbqs8i'),\n",
       " (886, 'tkjkjd7w'),\n",
       " (887, 'j36voasl'),\n",
       " (888, '1jmhvclq'),\n",
       " (889, 'vluuha88'),\n",
       " (890, 'wwjbzj1g'),\n",
       " (891, 'w52dc97h'),\n",
       " (892, 'e0wmnfyn'),\n",
       " (893, 'agja3onp'),\n",
       " (894, 'iuo2cw23'),\n",
       " (895, '8s4bsnlw'),\n",
       " (896, '9e9523i8'),\n",
       " (897, 'f9abq8gj'),\n",
       " (898, 'yx6p2yhk'),\n",
       " (899, 'ubpbdqtg'),\n",
       " (900, 'd3fb9xd8'),\n",
       " (901, 'zl1s82yi'),\n",
       " (902, 'fhm8abxp'),\n",
       " (903, 'clyc1va2'),\n",
       " (904, '7whai7nr'),\n",
       " (905, 'o7ttiu97'),\n",
       " (906, '5b936n3g'),\n",
       " (907, 'leedutqo'),\n",
       " (908, 'w9iwmqgq'),\n",
       " (909, 'wo20st5w'),\n",
       " (910, 'lzhobnch'),\n",
       " (911, 'rafwlw0t'),\n",
       " (912, 'tonaaft2'),\n",
       " (913, 'n297c39q'),\n",
       " (914, 'ligqoj24'),\n",
       " (915, 'iq30z094'),\n",
       " (916, 'bqount8a'),\n",
       " (917, 'pyy1ega9'),\n",
       " (918, 'bnl5qxlm'),\n",
       " (919, 'o2mim4it'),\n",
       " (920, 'g0ke3xh1'),\n",
       " (921, '7vmevd9g'),\n",
       " (922, '6f8vyziv'),\n",
       " (923, '6ogoktah'),\n",
       " (924, 'tptwlmy4'),\n",
       " (925, 'wyy6yw2o'),\n",
       " (926, 'aclzp3iy'),\n",
       " (927, 'yggoeu00'),\n",
       " (928, '0r4z1zea'),\n",
       " (929, '7yo3qr0u'),\n",
       " (930, 't1ma6njp'),\n",
       " (931, '43bdjxe2'),\n",
       " (932, 'nebf6u0z'),\n",
       " (933, '4ac52f72'),\n",
       " (934, 'g4aw4ves'),\n",
       " (935, 'o2os9jj6'),\n",
       " (936, 'l9ozvlae'),\n",
       " (937, 'y7urtkxo'),\n",
       " (938, '0e34chf3'),\n",
       " (939, 'gowyfu55'),\n",
       " (940, 'wnk44cf7'),\n",
       " (941, 'mbv7pk21'),\n",
       " (942, 'gbyqrxg2'),\n",
       " (943, 'bz66g9a0'),\n",
       " (944, 'a04e06zy'),\n",
       " (945, '36dhfptw'),\n",
       " (946, '4yfohp9w'),\n",
       " (947, 'kmdxxx76'),\n",
       " (948, 'jx518gz3'),\n",
       " (949, '72oh3vze'),\n",
       " (950, 'ma0h8bfc'),\n",
       " (951, 'r7y1cqou'),\n",
       " (952, 'affnaoni'),\n",
       " (953, 'sccd23l3'),\n",
       " (954, 'nofojf8m'),\n",
       " (955, 'ecgyz78q'),\n",
       " (956, 'kc1xl0sg'),\n",
       " (957, 'suzhg1yd'),\n",
       " (958, 'ydu0l0st'),\n",
       " (959, 'x53t9i4k'),\n",
       " (960, 'rhsgqprf'),\n",
       " (961, 'p9o2cwgl'),\n",
       " (962, '25qfbbdb'),\n",
       " (963, '7cty5s6o'),\n",
       " (964, 'm4t7jwqe'),\n",
       " (965, 'wfrmvlhi'),\n",
       " (966, 'pzbhq26m'),\n",
       " (967, 'j6o3141a'),\n",
       " (968, '32jrya90'),\n",
       " (969, 'k9skma4k'),\n",
       " (970, 'baugu1gh'),\n",
       " (971, 'f2zc5rjj'),\n",
       " (972, 'ofpcgxce'),\n",
       " (973, 'vpm9drvz'),\n",
       " (974, '6nas74q1'),\n",
       " (975, 'vret3sh1'),\n",
       " (976, 'dwfb81aj'),\n",
       " (977, 'ob2xoxlq'),\n",
       " (978, '66yurgph'),\n",
       " (979, 'xxnnq1w5'),\n",
       " (980, 'l565gha4'),\n",
       " (981, 'newf1dqx'),\n",
       " (982, 'zlygzsm1'),\n",
       " (983, 'sxdstw4a'),\n",
       " (984, 'fvx0xof9'),\n",
       " (985, 's70onyix'),\n",
       " (986, 'afgvzxfx'),\n",
       " (987, 'yvjrcgxu'),\n",
       " (988, 'q96i25vh'),\n",
       " (989, 'i8zikevn'),\n",
       " (990, '0hlj6r10'),\n",
       " (991, 'ckpg9f97'),\n",
       " (992, 'vub3ij8f'),\n",
       " (993, '99hjjqjn'),\n",
       " (994, 'pxryt8wn'),\n",
       " (995, '9voqa1oy'),\n",
       " (996, 'rsnblu4d'),\n",
       " (997, 'ck0xawdc'),\n",
       " (998, 'mu5u5bvj'),\n",
       " (999, 'gagakqw4'),\n",
       " ...]"
      ]
     },
     "execution_count": 74,
     "metadata": {},
     "output_type": "execute_result"
    }
   ],
   "source": [
    "list([x for x in zip(df.index, df['corduid'])])"
   ]
  },
  {
   "cell_type": "markdown",
   "id": "e33958b1",
   "metadata": {},
   "source": [
    "### Top 5"
   ]
  },
  {
   "cell_type": "code",
   "execution_count": 117,
   "id": "1c8fea2f",
   "metadata": {},
   "outputs": [
    {
     "data": {
      "text/plain": [
       "'seeking studies of immunity developed due to infection with SARS-CoV2 or cross protection gained due to infection with other coronavirus types'"
      ]
     },
     "execution_count": 117,
     "metadata": {},
     "output_type": "execute_result"
    }
   ],
   "source": [
    "queries_text['3']"
   ]
  },
  {
   "cell_type": "code",
   "execution_count": 124,
   "id": "f86205cd",
   "metadata": {},
   "outputs": [],
   "source": [
    "with open('./data/gpt2_ranking_scores.pkl', 'rb') as file:\n",
    "    ranking_scores = pickle.load(file)"
   ]
  },
  {
   "cell_type": "code",
   "execution_count": 126,
   "id": "1bad9af3",
   "metadata": {},
   "outputs": [
    {
     "name": "stdout",
     "output_type": "stream",
     "text": [
      "['SARS-CoV-2 and the testis: similarity with other viruses and routes of infection Since the start of the latest coronavirus (SARS-CoV-2) outbreak, the number of infected individuals and cases of coronavirus disease (COVID-19) has been increasing exponentially worldwide. Of interest is existing evidence that orchitis can develop due coronavirus infection. It is therefore not unreasonable to believe that SARS-CoV-2 could be transmitted by semen. Consequently, it is of paramount importance that individuals who could potentially be infected take all possible care to mitigate the likely risk of passing on the infection through sexual intercourse.'\n",
      " 'SARS-CoV-2 and the testis: similarity with other viruses and routes of infection Since the start of the latest coronavirus (SARS-CoV-2) outbreak, the number of infected individuals and cases of coronavirus disease (COVID-19) has been increasing exponentially worldwide. Of interest is existing evidence that orchitis can develop due coronavirus infection. It is therefore not unreasonable to believe that SARS-CoV-2 could be transmitted by semen. Consequently, it is of paramount importance that individuals who could potentially be infected take all possible care to mitigate the likely risk of passing on the infection through sexual intercourse.'\n",
      " 'A systematic review of antibody mediated immunity to coronaviruses: antibody kinetics, correlates of protection, and association of antibody responses with severity of disease The duration and nature of immunity generated in response to SARS-CoV-2 infection is unknown. Many public health responses and modeled scenarios for COVID-19 outbreaks caused by SARSCoV-2 assume that infection results in an immune response that protects individuals from future infections or illness for some amount of time. The timescale of protection is a critical determinant of the future impact of the pathogen. The presence or absence of protective immunity due to infection or vaccination (when available) will affect future transmission and illness severity. The dynamics of immunity and nature of protection are relevant to discussions surrounding therapeutic use of convalescent sera as well as efforts to identify individuals with protective immunity. Here, we review the scientific literature on antibody immunity to coronaviruses, including SARS-CoV-2 as well as the related SARS-CoV-1, MERS-CoV and human endemic coronaviruses (HCoVs). We reviewed 1281 abstracts and identified 322 manuscripts relevant to 5 areas of focus: 1) antibody kinetics, 2) correlates of protection, 3) immunopathogenesis, 4) antigenic diversity and cross-reactivity, and 5) population seroprevalence. While studies of SARS-CoV-2 are necessary to determine immune responses to it, evidence from other coronaviruses can provide clues and guide future research.'\n",
      " 'Analysis of Serologic Cross-Reactivity Between Common Human Coronaviruses and SARS-CoV-2 Using Coronavirus Antigen Microarray The current practice for diagnosis of SARS-CoV-2 infection relies on PCR testing of nasopharyngeal or respiratory specimens in a symptomatic patient at high epidemiologic risk. This testing strategy likely underestimates the true prevalence of infection, creating the need for serologic methods to detect infections missed by the limited testing to date. Here, we describe the development of a coronavirus antigen microarray containing immunologically significant antigens from SARS-CoV-2, in addition to SARS-CoV, MERS-CoV, common human coronavirus strains, and other common respiratory viruses. A preliminary study of human sera collected prior to the SARS-CoV-2 pandemic demonstrates overall high IgG reactivity to common human coronaviruses and low IgG reactivity to epidemic coronaviruses including SARS-CoV-2, with some cross-reactivity of conserved antigenic domains including S2 domain of spike protein and nucleocapsid protein. This array can be used to answer outstanding questions regarding SARS-CoV-2 infection, including whether baseline serology for other coronaviruses impacts disease course, how the antibody response to infection develops over time, and what antigens would be optimal for vaccine development.'\n",
      " 'Lack of Innate Interferon Responses during SARS Coronavirus Infection in a Vaccination and Reinfection Ferret Model In terms of its highly pathogenic nature, there remains a significant need to further define the immune pathology of SARS-coronavirus (SARS-CoV) infection, as well as identify correlates of immunity to help develop vaccines for severe coronaviral infections. Here we use a SARS-CoV infection-reinfection ferret model and a functional genomics approach to gain insight into SARS immunopathogenesis and to identify correlates of immune protection during SARS-CoV-challenge in ferrets previously infected with SARS-CoV or immunized with a SARS virus vaccine. We identified gene expression signatures in the lungs of ferrets associated with primary immune responses to SARS-CoV infection and in ferrets that received an identical second inoculum. Acute SARS-CoV infection prompted coordinated innate immune responses that were dominated by antiviral IFN response gene (IRG) expression. Reinfected ferrets, however, lacked the integrated expression of IRGs that was prevalent during acute infection. The expression of specific IRGs was also absent upon challenge in ferrets immunized with an inactivated, Al(OH)(3)-adjuvanted whole virus SARS vaccine candidate that protected them against SARS-CoV infection in the lungs. Lack of IFN-mediated immune enhancement in infected ferrets that were previously inoculated with, or vaccinated against, SARS-CoV revealed 9 IRG correlates of protective immunity. This data provides insight into the molecular pathogenesis of SARS-CoV and SARS-like-CoV infections and is an important resource for the development of CoV antiviral therapeutics and vaccines.']\n"
     ]
    }
   ],
   "source": [
    "#df.set_index('corduid', inplace=True)\n",
    "c, s = zip(*ranking_scores['3'].items())\n",
    "c = np.array(c)\n",
    "s = np.array(s)\n",
    "sort_pos = np.argsort(s)[::-1]\n",
    "top = df.loc[c[sort_pos][:5]]\n",
    "print(top['text'].values)"
   ]
  },
  {
   "cell_type": "code",
   "execution_count": null,
   "id": "853459c9",
   "metadata": {},
   "outputs": [],
   "source": []
  }
 ],
 "metadata": {
  "kernelspec": {
   "display_name": "Python 3 (ipykernel)",
   "language": "python",
   "name": "python3"
  },
  "language_info": {
   "codemirror_mode": {
    "name": "ipython",
    "version": 3
   },
   "file_extension": ".py",
   "mimetype": "text/x-python",
   "name": "python",
   "nbconvert_exporter": "python",
   "pygments_lexer": "ipython3",
   "version": "3.8.12"
  }
 },
 "nbformat": 4,
 "nbformat_minor": 5
}
